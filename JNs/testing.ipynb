version https://git-lfs.github.com/spec/v1
oid sha256:c51ca371855463ca755175d7524f0459833ffa86651ff8af83ec54c8215c5675
size 222898
