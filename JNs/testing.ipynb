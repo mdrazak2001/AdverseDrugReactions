{
 "cells": [
  {
   "cell_type": "code",
   "execution_count": 1,
   "metadata": {},
   "outputs": [],
   "source": [
    "import numpy as np\n",
    "import numpy as np \n",
    "import pandas as pd\n",
    "from rdkit import Chem\n",
    "from rdkit.Chem import MACCSkeys\n",
    "from rdkit.Chem import rdMolDescriptors\n",
    "from rdkit import DataStructs\n",
    "from ast import literal_eval\n",
    "from sklearn.model_selection import train_test_split\n",
    "from sklearn.linear_model import LinearRegression\n",
    "from sklearn import linear_model\n",
    "from sklearn import svm\n",
    "from sklearn import metrics\n",
    "from sklearn.svm import SVC\n",
    "import pickle\n",
    "from sklearn.metrics import confusion_matrix, ConfusionMatrixDisplay\n",
    "from sklearn.metrics import classification_report"
   ]
  },
  {
   "cell_type": "code",
   "execution_count": 2,
   "metadata": {},
   "outputs": [],
   "source": [
    "new_df = pd.read_csv('../Data/167_features.csv')\n",
    "new_df = new_df.loc[:, ~new_df.columns.str.contains('^Unnamed')]"
   ]
  },
  {
   "cell_type": "code",
   "execution_count": 3,
   "metadata": {},
   "outputs": [],
   "source": [
    "x_list = list(new_df)\n",
    "x_list = x_list[:-1]\n",
    "# x_list"
   ]
  },
  {
   "cell_type": "code",
   "execution_count": 4,
   "metadata": {},
   "outputs": [],
   "source": [
    "X = np.asarray(new_df[x_list])\n",
    "Y = np.asarray(new_df['general_syntax#'])\n",
    "\n",
    "X_train, X_test, y_train, y_test = train_test_split(X, Y, test_size=0.33, shuffle= True)"
   ]
  },
  {
   "cell_type": "code",
   "execution_count": 5,
   "metadata": {},
   "outputs": [
    {
     "name": "stdout",
     "output_type": "stream",
     "text": [
      "Score:  0.2778164135050506\n"
     ]
    }
   ],
   "source": [
    "lineReg = LinearRegression()\n",
    "lineReg.fit(X_train, y_train)\n",
    "print('Score: ', lineReg.score(X_test, y_test))\n",
    "# print('Weights: ', lineReg.coef_)"
   ]
  },
  {
   "cell_type": "code",
   "execution_count": 6,
   "metadata": {},
   "outputs": [
    {
     "name": "stdout",
     "output_type": "stream",
     "text": [
      "Accuracy: 0.5667759331711959\n"
     ]
    }
   ],
   "source": [
    "svm_initial_model = pickle.load(open('../models/svm_initial_model.sav', 'rb'))\n",
    "y_pred = svm_initial_model.predict(X_test)\n",
    "print(\"Accuracy:\",metrics.accuracy_score(y_test, y_pred))"
   ]
  },
  {
   "cell_type": "code",
   "execution_count": 7,
   "metadata": {},
   "outputs": [
    {
     "name": "stdout",
     "output_type": "stream",
     "text": [
      "Accuracy: 0.79137147086814\n"
     ]
    }
   ],
   "source": [
    "svc_model = pickle.load(open('../models/polynomial_kernel_svc_model.sav', 'rb'))\n",
    "y_pred = svc_model.predict(X_test)\n",
    "print(\"Accuracy:\",metrics.accuracy_score(y_test, y_pred))"
   ]
  },
  {
   "cell_type": "code",
   "execution_count": 8,
   "metadata": {},
   "outputs": [
    {
     "data": {
      "text/plain": [
       "<sklearn.metrics._plot.confusion_matrix.ConfusionMatrixDisplay at 0x1aa6ccfd4e0>"
      ]
     },
     "execution_count": 8,
     "metadata": {},
     "output_type": "execute_result"
    },
    {
     "data": {
      "image/png": "[encoded data removed]",
      "text/plain": [
       "<Figure size 432x288 with 2 Axes>"
      ]
     },
     "metadata": {
      "needs_background": "light"
     },
     "output_type": "display_data"
    }
   ],
   "source": [
    "cm = confusion_matrix(y_test, y_pred)\n",
    "disp = ConfusionMatrixDisplay(confusion_matrix=cm,\n",
    "                            display_labels=svc_model.classes_)\n",
    "disp.plot()"
   ]
  },
  {
   "cell_type": "code",
   "execution_count": 9,
   "metadata": {},
   "outputs": [],
   "source": [
    "# target_names = [\n",
    "#             'the risk or severity of adverse effects can be increased when drug1 is combined with drug2.', \n",
    "#             'the risk or severity of adverse effects can be increased when drug2 is combined with drug1.', \n",
    "#             'the serum concentration of drug1 can be increased when it is combined with drug2.', \n",
    "#             'the serum concentration of drug2 can be increased when it is combined with drug1.',\n",
    "#             'the metabolism of drug1 can be decreased when combined with drug2.',\n",
    "#             'the metabolism of drug2 can be decreased when combined with drug1.'\n",
    "#         ]\n",
    "target_names = ['0', '1', '2', '3', '4', '5']  "
   ]
  },
  {
   "cell_type": "code",
   "execution_count": 10,
   "metadata": {},
   "outputs": [
    {
     "name": "stdout",
     "output_type": "stream",
     "text": [
      "              precision    recall  f1-score   support\n",
      "\n",
      "           0       0.76      0.83      0.79      2367\n",
      "           1       0.74      0.77      0.76      2232\n",
      "           2       0.84      0.80      0.82      1454\n",
      "           3       0.84      0.78      0.81      1196\n",
      "           4       0.81      0.84      0.82       907\n",
      "           5       0.84      0.73      0.78      1301\n",
      "\n",
      "    accuracy                           0.79      9457\n",
      "   macro avg       0.81      0.79      0.80      9457\n",
      "weighted avg       0.79      0.79      0.79      9457\n",
      "\n"
     ]
    }
   ],
   "source": [
    "print(classification_report(y_test, y_pred, target_names=target_names))"
   ]
  },
  {
   "cell_type": "code",
   "execution_count": 11,
   "metadata": {},
   "outputs": [],
   "source": [
    "import matplotlib.pyplot as plt"
   ]
  },
  {
   "cell_type": "code",
   "execution_count": 12,
   "metadata": {},
   "outputs": [
    {
     "ename": "NameError",
     "evalue": "name 'y' is not defined",
     "output_type": "error",
     "traceback": [
      "\u001b[1;31m---------------------------------------------------------------------------\u001b[0m",
      "\u001b[1;31mNameError\u001b[0m                                 Traceback (most recent call last)",
      "\u001b[1;32mc:\\Users\\RAZAK\\Desktop\\Github\\ADR\\JNs\\testing.ipynb Cell 12'\u001b[0m in \u001b[0;36m<cell line: 28>\u001b[1;34m()\u001b[0m\n\u001b[0;32m     <a href='vscode-notebook-cell:/c%3A/Users/RAZAK/Desktop/Github/ADR/JNs/testing.ipynb#ch0000011?line=24'>25</a>\u001b[0m     ax\u001b[39m.\u001b[39mset_xlim(xlim)\n\u001b[0;32m     <a href='vscode-notebook-cell:/c%3A/Users/RAZAK/Desktop/Github/ADR/JNs/testing.ipynb#ch0000011?line=25'>26</a>\u001b[0m     ax\u001b[39m.\u001b[39mset_ylim(ylim)\n\u001b[1;32m---> <a href='vscode-notebook-cell:/c%3A/Users/RAZAK/Desktop/Github/ADR/JNs/testing.ipynb#ch0000011?line=27'>28</a>\u001b[0m plt\u001b[39m.\u001b[39mscatter(X[:, \u001b[39m0\u001b[39m], X[:, \u001b[39m1\u001b[39m], c\u001b[39m=\u001b[39my, s\u001b[39m=\u001b[39m\u001b[39m50\u001b[39m, cmap\u001b[39m=\u001b[39m\u001b[39m'\u001b[39m\u001b[39mautumn\u001b[39m\u001b[39m'\u001b[39m)\n\u001b[0;32m     <a href='vscode-notebook-cell:/c%3A/Users/RAZAK/Desktop/Github/ADR/JNs/testing.ipynb#ch0000011?line=28'>29</a>\u001b[0m plot_svc_decision_function(svc_model)\n",
      "\u001b[1;31mNameError\u001b[0m: name 'y' is not defined"
     ]
    }
   ],
   "source": [
    "def plot_svc_decision_function(model, ax=None, plot_support=True):\n",
    "    \"\"\"Plot the decision function for a 2D SVC\"\"\"\n",
    "    if ax is None:\n",
    "        ax = plt.gca()\n",
    "    xlim = ax.get_xlim()\n",
    "    ylim = ax.get_ylim()\n",
    "    \n",
    "    # create grid to evaluate model\n",
    "    x = np.linspace(xlim[0], xlim[1], 30)\n",
    "    y = np.linspace(ylim[0], ylim[1], 30)\n",
    "    Y, X = np.meshgrid(y, x)\n",
    "    xy = np.vstack([X.ravel(), Y.ravel()]).T\n",
    "    P = model.decision_function(xy).reshape(X.shape)\n",
    "    \n",
    "    # plot decision boundary and margins\n",
    "    ax.contour(X, Y, P, colors='k',\n",
    "               levels=[-1, 0, 1], alpha=0.5,\n",
    "               linestyles=['--', '-', '--'])\n",
    "    \n",
    "    # plot support vectors\n",
    "    if plot_support:\n",
    "        ax.scatter(model.support_vectors_[:, 0],\n",
    "                   model.support_vectors_[:, 1],\n",
    "                   s=300, linewidth=1, facecolors='none');\n",
    "    ax.set_xlim(xlim)\n",
    "    ax.set_ylim(ylim)\n",
    "\n",
    "plt.scatter(X[:, 0], X[:, 1], c=y, s=50, cmap='autumn')\n",
    "plot_svc_decision_function(svc_model)"
   ]
  }
 ],
 "metadata": {
  "kernelspec": {
   "display_name": "Python 3.10.0 ('venv': venv)",
   "language": "python",
   "name": "python3"
  },
  "language_info": {
   "codemirror_mode": {
    "name": "ipython",
    "version": 3
   },
   "file_extension": ".py",
   "mimetype": "text/x-python",
   "name": "python",
   "nbconvert_exporter": "python",
   "pygments_lexer": "ipython3",
   "version": "3.10.0"
  },
  "orig_nbformat": 4,
  "vscode": {
   "interpreter": {
    "hash": "4c09afe4b8f7c8840abb6699dad2ef7b14e9a2421b65b531128f5c4abc996cd6"
   }
  }
 },
 "nbformat": 4,
 "nbformat_minor": 2
}
