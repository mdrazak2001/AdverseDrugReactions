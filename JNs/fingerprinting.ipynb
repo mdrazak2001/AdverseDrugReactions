{
 "cells": [
  {
   "cell_type": "code",
   "execution_count": 85,
   "metadata": {},
   "outputs": [],
   "source": [
    "import numpy as np \n",
    "import pandas as pd\n",
    "from rdkit import Chem\n",
    "from rdkit.Chem import MACCSkeys\n",
    "from rdkit.Chem import rdMolDescriptors\n",
    "from rdkit import DataStructs\n",
    "from ast import literal_eval\n"
   ]
  },
  {
   "cell_type": "code",
   "execution_count": 86,
   "metadata": {},
   "outputs": [],
   "source": [
    "df = pd.read_csv('../Data/processed_df.csv')"
   ]
  },
  {
   "cell_type": "code",
   "execution_count": 87,
   "metadata": {},
   "outputs": [
    {
     "data": {
      "text/html": [
       "<div>\n",
       "<style scoped>\n",
       "    .dataframe tbody tr th:only-of-type {\n",
       "        vertical-align: middle;\n",
       "    }\n",
       "\n",
       "    .dataframe tbody tr th {\n",
       "        vertical-align: top;\n",
       "    }\n",
       "\n",
       "    .dataframe thead th {\n",
       "        text-align: right;\n",
       "    }\n",
       "</style>\n",
       "<table border=\"1\" class=\"dataframe\">\n",
       "  <thead>\n",
       "    <tr style=\"text-align: right;\">\n",
       "      <th></th>\n",
       "      <th>Unnamed: 0</th>\n",
       "      <th>drug1</th>\n",
       "      <th>db_no1</th>\n",
       "      <th>drug2</th>\n",
       "      <th>db_no2</th>\n",
       "      <th>general_syntax</th>\n",
       "      <th>smiles1</th>\n",
       "      <th>smiles2</th>\n",
       "    </tr>\n",
       "  </thead>\n",
       "  <tbody>\n",
       "    <tr>\n",
       "      <th>0</th>\n",
       "      <td>0</td>\n",
       "      <td>Pravastatin</td>\n",
       "      <td>DB00175</td>\n",
       "      <td>Acebutolol</td>\n",
       "      <td>DB01193</td>\n",
       "      <td>the serum concentration of drug2 can be increa...</td>\n",
       "      <td>[H][C@]12[C@H](C[C@H](O)C=C1C=C[C@H](C)[C@@H]2...</td>\n",
       "      <td>CCCC(=O)NC1=CC(C(C)=O)=C(OCC(O)CNC(C)C)C=C1</td>\n",
       "    </tr>\n",
       "  </tbody>\n",
       "</table>\n",
       "</div>"
      ],
      "text/plain": [
       "   Unnamed: 0        drug1   db_no1       drug2   db_no2  \\\n",
       "0           0  Pravastatin  DB00175  Acebutolol  DB01193   \n",
       "\n",
       "                                      general_syntax  \\\n",
       "0  the serum concentration of drug2 can be increa...   \n",
       "\n",
       "                                             smiles1  \\\n",
       "0  [H][C@]12[C@H](C[C@H](O)C=C1C=C[C@H](C)[C@@H]2...   \n",
       "\n",
       "                                       smiles2  \n",
       "0  CCCC(=O)NC1=CC(C(C)=O)=C(OCC(O)CNC(C)C)C=C1  "
      ]
     },
     "execution_count": 87,
     "metadata": {},
     "output_type": "execute_result"
    }
   ],
   "source": [
    "df.head(1)"
   ]
  },
  {
   "cell_type": "code",
   "execution_count": 88,
   "metadata": {},
   "outputs": [
    {
     "data": {
      "text/plain": [
       "'011001111100011111111111111110111111111111111101001111111110'"
      ]
     },
     "execution_count": 88,
     "metadata": {},
     "output_type": "execute_result"
    }
   ],
   "source": [
    "smile = 'CCN1N=NN(CCN2CCC(COC)(CC2)N(C(=O)CC)C2=CC=CC=C2)C1=O'\n",
    "# smile = 'CCC1=CC2=C(C=C1N1CCC(CC1)N1CCOCC1)C(C)(C)C1=C(C3=C(N1)C=C(C=C3)C#N)C2=O'\n",
    "s_mol = Chem.MolFromSmiles(smile)\n",
    "x = Chem.RDKFingerprint(s_mol, maxPath=3, fpSize=60, useBondOrder=True, branchedPaths=True)\n",
    "# s_mol\n",
    "x.ToBitString()"
   ]
  },
  {
   "cell_type": "code",
   "execution_count": 89,
   "metadata": {},
   "outputs": [],
   "source": [
    "df['fingerprint1'] = 'None'\n",
    "df['fingerprint2'] = 'None'"
   ]
  },
  {
   "cell_type": "code",
   "execution_count": 90,
   "metadata": {},
   "outputs": [],
   "source": [
    "def smiles_to_maccs(smile):\n",
    "    mol = Chem.MolFromSmiles(smile)\n",
    "    return MACCSkeys.GenMACCSKeys(mol).ToBitString()"
   ]
  },
  {
   "cell_type": "code",
   "execution_count": 91,
   "metadata": {},
   "outputs": [],
   "source": [
    "drop_list = []"
   ]
  },
  {
   "cell_type": "code",
   "execution_count": 92,
   "metadata": {},
   "outputs": [
    {
     "name": "stderr",
     "output_type": "stream",
     "text": [
      "[13:50:23] Explicit valence for atom # 0 N, 4, is greater than permitted\n"
     ]
    },
    {
     "name": "stdout",
     "output_type": "stream",
     "text": [
      "59   Python argument types in\n",
      "    rdkit.Chem.rdMolDescriptors.GetMACCSKeysFingerprint(NoneType)\n",
      "did not match C++ signature:\n",
      "    GetMACCSKeysFingerprint(class RDKit::ROMol mol)\n"
     ]
    },
    {
     "name": "stderr",
     "output_type": "stream",
     "text": [
      "[13:50:27] Explicit valence for atom # 0 N, 4, is greater than permitted\n"
     ]
    },
    {
     "name": "stdout",
     "output_type": "stream",
     "text": [
      "493   Python argument types in\n",
      "    rdkit.Chem.rdMolDescriptors.GetMACCSKeysFingerprint(NoneType)\n",
      "did not match C++ signature:\n",
      "    GetMACCSKeysFingerprint(class RDKit::ROMol mol)\n"
     ]
    },
    {
     "name": "stderr",
     "output_type": "stream",
     "text": [
      "[13:50:30] Explicit valence for atom # 0 N, 4, is greater than permitted\n"
     ]
    },
    {
     "name": "stdout",
     "output_type": "stream",
     "text": [
      "899   Python argument types in\n",
      "    rdkit.Chem.rdMolDescriptors.GetMACCSKeysFingerprint(NoneType)\n",
      "did not match C++ signature:\n",
      "    GetMACCSKeysFingerprint(class RDKit::ROMol mol)\n"
     ]
    },
    {
     "name": "stderr",
     "output_type": "stream",
     "text": [
      "[13:50:34] Explicit valence for atom # 0 N, 4, is greater than permitted\n"
     ]
    },
    {
     "name": "stdout",
     "output_type": "stream",
     "text": [
      "1330   Python argument types in\n",
      "    rdkit.Chem.rdMolDescriptors.GetMACCSKeysFingerprint(NoneType)\n",
      "did not match C++ signature:\n",
      "    GetMACCSKeysFingerprint(class RDKit::ROMol mol)\n"
     ]
    },
    {
     "name": "stderr",
     "output_type": "stream",
     "text": [
      "[13:50:37] Explicit valence for atom # 0 N, 4, is greater than permitted\n"
     ]
    },
    {
     "name": "stdout",
     "output_type": "stream",
     "text": [
      "1694   Python argument types in\n",
      "    rdkit.Chem.rdMolDescriptors.GetMACCSKeysFingerprint(NoneType)\n",
      "did not match C++ signature:\n",
      "    GetMACCSKeysFingerprint(class RDKit::ROMol mol)\n"
     ]
    },
    {
     "name": "stderr",
     "output_type": "stream",
     "text": [
      "[13:50:40] Explicit valence for atom # 0 N, 4, is greater than permitted\n"
     ]
    },
    {
     "name": "stdout",
     "output_type": "stream",
     "text": [
      "2060   Python argument types in\n",
      "    rdkit.Chem.rdMolDescriptors.GetMACCSKeysFingerprint(NoneType)\n",
      "did not match C++ signature:\n",
      "    GetMACCSKeysFingerprint(class RDKit::ROMol mol)\n"
     ]
    },
    {
     "name": "stderr",
     "output_type": "stream",
     "text": [
      "[13:50:57] Explicit valence for atom # 0 N, 4, is greater than permitted\n"
     ]
    },
    {
     "name": "stdout",
     "output_type": "stream",
     "text": [
      "3895   Python argument types in\n",
      "    rdkit.Chem.rdMolDescriptors.GetMACCSKeysFingerprint(NoneType)\n",
      "did not match C++ signature:\n",
      "    GetMACCSKeysFingerprint(class RDKit::ROMol mol)\n"
     ]
    },
    {
     "name": "stderr",
     "output_type": "stream",
     "text": [
      "[13:51:04] Explicit valence for atom # 0 N, 4, is greater than permitted\n"
     ]
    },
    {
     "name": "stdout",
     "output_type": "stream",
     "text": [
      "4673   Python argument types in\n",
      "    rdkit.Chem.rdMolDescriptors.GetMACCSKeysFingerprint(NoneType)\n",
      "did not match C++ signature:\n",
      "    GetMACCSKeysFingerprint(class RDKit::ROMol mol)\n"
     ]
    },
    {
     "name": "stderr",
     "output_type": "stream",
     "text": [
      "[13:51:15] Explicit valence for atom # 0 N, 4, is greater than permitted\n"
     ]
    },
    {
     "name": "stdout",
     "output_type": "stream",
     "text": [
      "5824   Python argument types in\n",
      "    rdkit.Chem.rdMolDescriptors.GetMACCSKeysFingerprint(NoneType)\n",
      "did not match C++ signature:\n",
      "    GetMACCSKeysFingerprint(class RDKit::ROMol mol)\n"
     ]
    },
    {
     "name": "stderr",
     "output_type": "stream",
     "text": [
      "[13:51:21] Explicit valence for atom # 0 N, 4, is greater than permitted\n"
     ]
    },
    {
     "name": "stdout",
     "output_type": "stream",
     "text": [
      "6396   Python argument types in\n",
      "    rdkit.Chem.rdMolDescriptors.GetMACCSKeysFingerprint(NoneType)\n",
      "did not match C++ signature:\n",
      "    GetMACCSKeysFingerprint(class RDKit::ROMol mol)\n"
     ]
    },
    {
     "name": "stderr",
     "output_type": "stream",
     "text": [
      "[13:51:22] Explicit valence for atom # 0 N, 4, is greater than permitted\n"
     ]
    },
    {
     "name": "stdout",
     "output_type": "stream",
     "text": [
      "6435   Python argument types in\n",
      "    rdkit.Chem.rdMolDescriptors.GetMACCSKeysFingerprint(NoneType)\n",
      "did not match C++ signature:\n",
      "    GetMACCSKeysFingerprint(class RDKit::ROMol mol)\n"
     ]
    },
    {
     "name": "stderr",
     "output_type": "stream",
     "text": [
      "[13:51:26] Explicit valence for atom # 0 N, 4, is greater than permitted\n"
     ]
    },
    {
     "name": "stdout",
     "output_type": "stream",
     "text": [
      "6820   Python argument types in\n",
      "    rdkit.Chem.rdMolDescriptors.GetMACCSKeysFingerprint(NoneType)\n",
      "did not match C++ signature:\n",
      "    GetMACCSKeysFingerprint(class RDKit::ROMol mol)\n"
     ]
    },
    {
     "name": "stderr",
     "output_type": "stream",
     "text": [
      "[13:51:45] Explicit valence for atom # 0 N, 4, is greater than permitted\n"
     ]
    },
    {
     "name": "stdout",
     "output_type": "stream",
     "text": [
      "8780   Python argument types in\n",
      "    rdkit.Chem.rdMolDescriptors.GetMACCSKeysFingerprint(NoneType)\n",
      "did not match C++ signature:\n",
      "    GetMACCSKeysFingerprint(class RDKit::ROMol mol)\n"
     ]
    },
    {
     "name": "stderr",
     "output_type": "stream",
     "text": [
      "[13:51:51] Explicit valence for atom # 0 N, 4, is greater than permitted\n"
     ]
    },
    {
     "name": "stdout",
     "output_type": "stream",
     "text": [
      "9519   Python argument types in\n",
      "    rdkit.Chem.rdMolDescriptors.GetMACCSKeysFingerprint(NoneType)\n",
      "did not match C++ signature:\n",
      "    GetMACCSKeysFingerprint(class RDKit::ROMol mol)\n"
     ]
    },
    {
     "name": "stderr",
     "output_type": "stream",
     "text": [
      "[13:52:00] Explicit valence for atom # 0 N, 4, is greater than permitted\n"
     ]
    },
    {
     "name": "stdout",
     "output_type": "stream",
     "text": [
      "10631   Python argument types in\n",
      "    rdkit.Chem.rdMolDescriptors.GetMACCSKeysFingerprint(NoneType)\n",
      "did not match C++ signature:\n",
      "    GetMACCSKeysFingerprint(class RDKit::ROMol mol)\n"
     ]
    },
    {
     "name": "stderr",
     "output_type": "stream",
     "text": [
      "[13:52:08] Explicit valence for atom # 0 N, 4, is greater than permitted\n"
     ]
    },
    {
     "name": "stdout",
     "output_type": "stream",
     "text": [
      "11392   Python argument types in\n",
      "    rdkit.Chem.rdMolDescriptors.GetMACCSKeysFingerprint(NoneType)\n",
      "did not match C++ signature:\n",
      "    GetMACCSKeysFingerprint(class RDKit::ROMol mol)\n"
     ]
    },
    {
     "name": "stderr",
     "output_type": "stream",
     "text": [
      "[13:52:22] Explicit valence for atom # 0 N, 4, is greater than permitted\n"
     ]
    },
    {
     "name": "stdout",
     "output_type": "stream",
     "text": [
      "13051   Python argument types in\n",
      "    rdkit.Chem.rdMolDescriptors.GetMACCSKeysFingerprint(NoneType)\n",
      "did not match C++ signature:\n",
      "    GetMACCSKeysFingerprint(class RDKit::ROMol mol)\n"
     ]
    },
    {
     "name": "stderr",
     "output_type": "stream",
     "text": [
      "[13:52:28] Explicit valence for atom # 0 N, 4, is greater than permitted\n"
     ]
    },
    {
     "name": "stdout",
     "output_type": "stream",
     "text": [
      "13539   Python argument types in\n",
      "    rdkit.Chem.rdMolDescriptors.GetMACCSKeysFingerprint(NoneType)\n",
      "did not match C++ signature:\n",
      "    GetMACCSKeysFingerprint(class RDKit::ROMol mol)\n"
     ]
    },
    {
     "name": "stderr",
     "output_type": "stream",
     "text": [
      "[13:52:39] Explicit valence for atom # 0 N, 4, is greater than permitted\n"
     ]
    },
    {
     "name": "stdout",
     "output_type": "stream",
     "text": [
      "14719   Python argument types in\n",
      "    rdkit.Chem.rdMolDescriptors.GetMACCSKeysFingerprint(NoneType)\n",
      "did not match C++ signature:\n",
      "    GetMACCSKeysFingerprint(class RDKit::ROMol mol)\n"
     ]
    },
    {
     "name": "stderr",
     "output_type": "stream",
     "text": [
      "[13:52:44] Explicit valence for atom # 0 N, 4, is greater than permitted\n"
     ]
    },
    {
     "name": "stdout",
     "output_type": "stream",
     "text": [
      "15245   Python argument types in\n",
      "    rdkit.Chem.rdMolDescriptors.GetMACCSKeysFingerprint(NoneType)\n",
      "did not match C++ signature:\n",
      "    GetMACCSKeysFingerprint(class RDKit::ROMol mol)\n"
     ]
    },
    {
     "name": "stderr",
     "output_type": "stream",
     "text": [
      "[13:52:49] Explicit valence for atom # 0 N, 4, is greater than permitted\n"
     ]
    },
    {
     "name": "stdout",
     "output_type": "stream",
     "text": [
      "15864   Python argument types in\n",
      "    rdkit.Chem.rdMolDescriptors.GetMACCSKeysFingerprint(NoneType)\n",
      "did not match C++ signature:\n",
      "    GetMACCSKeysFingerprint(class RDKit::ROMol mol)\n"
     ]
    },
    {
     "name": "stderr",
     "output_type": "stream",
     "text": [
      "[13:53:04] Explicit valence for atom # 0 N, 4, is greater than permitted\n"
     ]
    },
    {
     "name": "stdout",
     "output_type": "stream",
     "text": [
      "17614   Python argument types in\n",
      "    rdkit.Chem.rdMolDescriptors.GetMACCSKeysFingerprint(NoneType)\n",
      "did not match C++ signature:\n",
      "    GetMACCSKeysFingerprint(class RDKit::ROMol mol)\n"
     ]
    },
    {
     "name": "stderr",
     "output_type": "stream",
     "text": [
      "[13:53:18] Explicit valence for atom # 0 N, 4, is greater than permitted\n"
     ]
    },
    {
     "name": "stdout",
     "output_type": "stream",
     "text": [
      "18989   Python argument types in\n",
      "    rdkit.Chem.rdMolDescriptors.GetMACCSKeysFingerprint(NoneType)\n",
      "did not match C++ signature:\n",
      "    GetMACCSKeysFingerprint(class RDKit::ROMol mol)\n"
     ]
    },
    {
     "name": "stderr",
     "output_type": "stream",
     "text": [
      "[13:53:27] Explicit valence for atom # 0 N, 4, is greater than permitted\n"
     ]
    },
    {
     "name": "stdout",
     "output_type": "stream",
     "text": [
      "19840   Python argument types in\n",
      "    rdkit.Chem.rdMolDescriptors.GetMACCSKeysFingerprint(NoneType)\n",
      "did not match C++ signature:\n",
      "    GetMACCSKeysFingerprint(class RDKit::ROMol mol)\n"
     ]
    },
    {
     "name": "stderr",
     "output_type": "stream",
     "text": [
      "[13:53:34] Explicit valence for atom # 0 N, 4, is greater than permitted\n"
     ]
    },
    {
     "name": "stdout",
     "output_type": "stream",
     "text": [
      "20685   Python argument types in\n",
      "    rdkit.Chem.rdMolDescriptors.GetMACCSKeysFingerprint(NoneType)\n",
      "did not match C++ signature:\n",
      "    GetMACCSKeysFingerprint(class RDKit::ROMol mol)\n"
     ]
    },
    {
     "name": "stderr",
     "output_type": "stream",
     "text": [
      "[13:53:40] Explicit valence for atom # 0 N, 4, is greater than permitted\n"
     ]
    },
    {
     "name": "stdout",
     "output_type": "stream",
     "text": [
      "21347   Python argument types in\n",
      "    rdkit.Chem.rdMolDescriptors.GetMACCSKeysFingerprint(NoneType)\n",
      "did not match C++ signature:\n",
      "    GetMACCSKeysFingerprint(class RDKit::ROMol mol)\n"
     ]
    },
    {
     "name": "stderr",
     "output_type": "stream",
     "text": [
      "[13:53:53] Explicit valence for atom # 0 N, 4, is greater than permitted\n"
     ]
    },
    {
     "name": "stdout",
     "output_type": "stream",
     "text": [
      "22749   Python argument types in\n",
      "    rdkit.Chem.rdMolDescriptors.GetMACCSKeysFingerprint(NoneType)\n",
      "did not match C++ signature:\n",
      "    GetMACCSKeysFingerprint(class RDKit::ROMol mol)\n"
     ]
    },
    {
     "name": "stderr",
     "output_type": "stream",
     "text": [
      "[13:54:16] Explicit valence for atom # 0 N, 4, is greater than permitted\n"
     ]
    },
    {
     "name": "stdout",
     "output_type": "stream",
     "text": [
      "25282   Python argument types in\n",
      "    rdkit.Chem.rdMolDescriptors.GetMACCSKeysFingerprint(NoneType)\n",
      "did not match C++ signature:\n",
      "    GetMACCSKeysFingerprint(class RDKit::ROMol mol)\n"
     ]
    }
   ],
   "source": [
    "for i in df.index:\n",
    "    smiles1 = df.at[i, 'smiles1']\n",
    "    smiles2 = df.at[i, 'smiles2']\n",
    "    try:\n",
    "        df.at[i, 'fingerprint1'] = str(smiles_to_maccs(smiles1))\n",
    "        df.at[i, 'fingerprint2'] = str(smiles_to_maccs(smiles2))\n",
    "    except Exception as e:\n",
    "        print(i, ' ', e)\n",
    "    if((df.at[i, 'fingerprint1'] == 'None') or (df.at[i, 'fingerprint2'] == 'None')):\n",
    "        drop_list.append(i)\n",
    "        continue"
   ]
  },
  {
   "cell_type": "code",
   "execution_count": 93,
   "metadata": {},
   "outputs": [
    {
     "data": {
      "text/html": [
       "<div>\n",
       "<style scoped>\n",
       "    .dataframe tbody tr th:only-of-type {\n",
       "        vertical-align: middle;\n",
       "    }\n",
       "\n",
       "    .dataframe tbody tr th {\n",
       "        vertical-align: top;\n",
       "    }\n",
       "\n",
       "    .dataframe thead th {\n",
       "        text-align: right;\n",
       "    }\n",
       "</style>\n",
       "<table border=\"1\" class=\"dataframe\">\n",
       "  <thead>\n",
       "    <tr style=\"text-align: right;\">\n",
       "      <th></th>\n",
       "      <th>Unnamed: 0</th>\n",
       "      <th>drug1</th>\n",
       "      <th>db_no1</th>\n",
       "      <th>drug2</th>\n",
       "      <th>db_no2</th>\n",
       "      <th>general_syntax</th>\n",
       "      <th>smiles1</th>\n",
       "      <th>smiles2</th>\n",
       "      <th>fingerprint1</th>\n",
       "      <th>fingerprint2</th>\n",
       "    </tr>\n",
       "  </thead>\n",
       "  <tbody>\n",
       "    <tr>\n",
       "      <th>0</th>\n",
       "      <td>0</td>\n",
       "      <td>Pravastatin</td>\n",
       "      <td>DB00175</td>\n",
       "      <td>Acebutolol</td>\n",
       "      <td>DB01193</td>\n",
       "      <td>the serum concentration of drug2 can be increa...</td>\n",
       "      <td>[H][C@]12[C@H](C[C@H](O)C=C1C=C[C@H](C)[C@@H]2...</td>\n",
       "      <td>CCCC(=O)NC1=CC(C(C)=O)=C(OCC(O)CNC(C)C)C=C1</td>\n",
       "      <td>0000000000000000000000000010000000000000000000...</td>\n",
       "      <td>0000000000000000000000000000000000000000000000...</td>\n",
       "    </tr>\n",
       "  </tbody>\n",
       "</table>\n",
       "</div>"
      ],
      "text/plain": [
       "   Unnamed: 0        drug1   db_no1       drug2   db_no2  \\\n",
       "0           0  Pravastatin  DB00175  Acebutolol  DB01193   \n",
       "\n",
       "                                      general_syntax  \\\n",
       "0  the serum concentration of drug2 can be increa...   \n",
       "\n",
       "                                             smiles1  \\\n",
       "0  [H][C@]12[C@H](C[C@H](O)C=C1C=C[C@H](C)[C@@H]2...   \n",
       "\n",
       "                                       smiles2  \\\n",
       "0  CCCC(=O)NC1=CC(C(C)=O)=C(OCC(O)CNC(C)C)C=C1   \n",
       "\n",
       "                                        fingerprint1  \\\n",
       "0  0000000000000000000000000010000000000000000000...   \n",
       "\n",
       "                                        fingerprint2  \n",
       "0  0000000000000000000000000000000000000000000000...  "
      ]
     },
     "execution_count": 93,
     "metadata": {},
     "output_type": "execute_result"
    }
   ],
   "source": [
    "df.head(1)"
   ]
  },
  {
   "cell_type": "code",
   "execution_count": 94,
   "metadata": {},
   "outputs": [],
   "source": [
    "df.drop(index=drop_list, inplace = True)"
   ]
  },
  {
   "cell_type": "code",
   "execution_count": 95,
   "metadata": {},
   "outputs": [],
   "source": [
    "df['combined_fingerprint'] = 'None'"
   ]
  },
  {
   "cell_type": "code",
   "execution_count": 96,
   "metadata": {},
   "outputs": [],
   "source": [
    "for i in df.index:\n",
    "    fingerprint1 = df.at[i, 'fingerprint1'] \n",
    "    fingerprint2 = df.at[i, 'fingerprint2'] \n",
    "    # print(len(fingerprint1))\n",
    "    result = ''\n",
    "    for x in range(0, 167):\n",
    "        if fingerprint1[x] == '0' and fingerprint2[x] == '0':\n",
    "            result += '0'\n",
    "        if fingerprint1[x] == '0' and fingerprint2[x] == '1':\n",
    "            result += '2'\n",
    "        if fingerprint1[x] == '1' and fingerprint2[x] == '0':\n",
    "            result += '1'\n",
    "        if fingerprint1[x] == '1' and fingerprint2[x] == '1':\n",
    "            result += '3'\n",
    "    df.at[i, 'combined_fingerprint'] = result\n",
    "    "
   ]
  },
  {
   "cell_type": "code",
   "execution_count": 97,
   "metadata": {},
   "outputs": [
    {
     "data": {
      "text/html": [
       "<div>\n",
       "<style scoped>\n",
       "    .dataframe tbody tr th:only-of-type {\n",
       "        vertical-align: middle;\n",
       "    }\n",
       "\n",
       "    .dataframe tbody tr th {\n",
       "        vertical-align: top;\n",
       "    }\n",
       "\n",
       "    .dataframe thead th {\n",
       "        text-align: right;\n",
       "    }\n",
       "</style>\n",
       "<table border=\"1\" class=\"dataframe\">\n",
       "  <thead>\n",
       "    <tr style=\"text-align: right;\">\n",
       "      <th></th>\n",
       "      <th>Unnamed: 0</th>\n",
       "      <th>drug1</th>\n",
       "      <th>db_no1</th>\n",
       "      <th>drug2</th>\n",
       "      <th>db_no2</th>\n",
       "      <th>general_syntax</th>\n",
       "      <th>smiles1</th>\n",
       "      <th>smiles2</th>\n",
       "      <th>fingerprint1</th>\n",
       "      <th>fingerprint2</th>\n",
       "      <th>combined_fingerprint</th>\n",
       "    </tr>\n",
       "  </thead>\n",
       "  <tbody>\n",
       "    <tr>\n",
       "      <th>0</th>\n",
       "      <td>0</td>\n",
       "      <td>Pravastatin</td>\n",
       "      <td>DB00175</td>\n",
       "      <td>Acebutolol</td>\n",
       "      <td>DB01193</td>\n",
       "      <td>the serum concentration of drug2 can be increa...</td>\n",
       "      <td>[H][C@]12[C@H](C[C@H](O)C=C1C=C[C@H](C)[C@@H]2...</td>\n",
       "      <td>CCCC(=O)NC1=CC(C(C)=O)=C(OCC(O)CNC(C)C)C=C1</td>\n",
       "      <td>0000000000000000000000000010000000000000000000...</td>\n",
       "      <td>0000000000000000000000000000000000000000000000...</td>\n",
       "      <td>0000000000000000000000000010000000000000000000...</td>\n",
       "    </tr>\n",
       "  </tbody>\n",
       "</table>\n",
       "</div>"
      ],
      "text/plain": [
       "   Unnamed: 0        drug1   db_no1       drug2   db_no2  \\\n",
       "0           0  Pravastatin  DB00175  Acebutolol  DB01193   \n",
       "\n",
       "                                      general_syntax  \\\n",
       "0  the serum concentration of drug2 can be increa...   \n",
       "\n",
       "                                             smiles1  \\\n",
       "0  [H][C@]12[C@H](C[C@H](O)C=C1C=C[C@H](C)[C@@H]2...   \n",
       "\n",
       "                                       smiles2  \\\n",
       "0  CCCC(=O)NC1=CC(C(C)=O)=C(OCC(O)CNC(C)C)C=C1   \n",
       "\n",
       "                                        fingerprint1  \\\n",
       "0  0000000000000000000000000010000000000000000000...   \n",
       "\n",
       "                                        fingerprint2  \\\n",
       "0  0000000000000000000000000000000000000000000000...   \n",
       "\n",
       "                                combined_fingerprint  \n",
       "0  0000000000000000000000000010000000000000000000...  "
      ]
     },
     "execution_count": 97,
     "metadata": {},
     "output_type": "execute_result"
    }
   ],
   "source": [
    "df.head(1)"
   ]
  },
  {
   "cell_type": "code",
   "execution_count": 98,
   "metadata": {},
   "outputs": [],
   "source": [
    "for i in df.index:\n",
    "    combined_fingerprint = df.at[i, 'combined_fingerprint']\n",
    "    x = list(np.array(list(map(list, [combined_fingerprint])))) # adding commas\n",
    "    x = list(x[0]) # take array & not array of arrays of chars\n",
    "    x = list(map(int, x)) # chars -> int\n",
    "    # print(x)\n",
    "    df.at[i, 'combined_fingerprint'] = x\n",
    "    # print(df.at[i, 'combined_fingerprint'])\n",
    "    # break"
   ]
  },
  {
   "cell_type": "code",
   "execution_count": 99,
   "metadata": {},
   "outputs": [
    {
     "name": "stdout",
     "output_type": "stream",
     "text": [
      "[0, 0, 0, 0, 0, 0, 0, 0, 0, 0, 0, 0, 0, 0, 0, 0, 0, 0, 0, 0, 0, 0, 0, 0, 0, 0, 1, 0, 0, 0, 0, 0, 0, 0, 0, 0, 0, 0, 0, 0, 0, 0, 0, 0, 0, 0, 0, 0, 0, 0, 1, 0, 0, 1, 2, 0, 0, 0, 0, 0, 0, 0, 0, 0, 0, 0, 0, 0, 0, 0, 0, 0, 2, 0, 2, 0, 1, 0, 0, 0, 0, 0, 2, 0, 0, 0, 0, 0, 0, 3, 3, 1, 2, 0, 0, 2, 0, 2, 0, 1, 2, 1, 0, 0, 3, 1, 0, 0, 1, 2, 2, 2, 0, 2, 3, 3, 3, 2, 3, 0, 0, 0, 0, 1, 0, 0, 3, 3, 1, 1, 0, 3, 3, 2, 0, 2, 3, 0, 2, 3, 3, 3, 2, 3, 2, 1, 3, 3, 0, 3, 3, 2, 3, 2, 3, 3, 2, 3, 2, 3, 3, 2, 2, 3, 3, 3, 0]\n"
     ]
    }
   ],
   "source": [
    "for i in df.index:\n",
    "    print(df.at[i, 'combined_fingerprint'])\n",
    "    break"
   ]
  },
  {
   "cell_type": "code",
   "execution_count": 100,
   "metadata": {},
   "outputs": [],
   "source": [
    "li = {'the risk or severity of adverse effects can be increased when drug1 is combined with drug2.' : 0, \n",
    "      'the risk or severity of adverse effects can be increased when drug2 is combined with drug1.' : 1, \n",
    "      'the serum concentration of drug1 can be increased when it is combined with drug2.' : 2, \n",
    "      'the serum concentration of drug2 can be increased when it is combined with drug1.' : 3,\n",
    "      'the metabolism of drug1 can be decreased when combined with drug2.' : 4,\n",
    "      'the metabolism of drug2 can be decreased when combined with drug1.' : 5,\n",
    "      'drug1 may increase the qtc-prolonging activities of drug2.' : 6,\n",
    "      'drug2 may increase the qtc-prolonging activities of drug1.' : 7\n",
    "      }"
   ]
  },
  {
   "cell_type": "code",
   "execution_count": 101,
   "metadata": {},
   "outputs": [],
   "source": [
    "df['general_syntax#'] = 'None'"
   ]
  },
  {
   "cell_type": "code",
   "execution_count": 103,
   "metadata": {},
   "outputs": [],
   "source": [
    "for i in df.index:\n",
    "    general_syntax = df.at[i, 'general_syntax']\n",
    "    df.at[i, 'general_syntax#'] = li[general_syntax]\n",
    "    # print(df.at[i, 'general_syntax#'])"
   ]
  },
  {
   "cell_type": "code",
   "execution_count": 112,
   "metadata": {},
   "outputs": [
    {
     "data": {
      "text/plain": [
       "0    7184\n",
       "1    6786\n",
       "2    4453\n",
       "5    3929\n",
       "3    3606\n",
       "4    2698\n",
       "6    1233\n",
       "7    1215\n",
       "Name: general_syntax#, dtype: int64"
      ]
     },
     "execution_count": 112,
     "metadata": {},
     "output_type": "execute_result"
    }
   ],
   "source": [
    "df['general_syntax#'].value_counts()"
   ]
  },
  {
   "cell_type": "code",
   "execution_count": 109,
   "metadata": {},
   "outputs": [],
   "source": [
    "df.to_csv('fingerprint.csv')"
   ]
  },
  {
   "cell_type": "code",
   "execution_count": 22,
   "metadata": {},
   "outputs": [],
   "source": [
    "# df = pd.read_csv('fingerprint.csv')"
   ]
  },
  {
   "cell_type": "code",
   "execution_count": 106,
   "metadata": {},
   "outputs": [
    {
     "data": {
      "text/html": [
       "<div>\n",
       "<style scoped>\n",
       "    .dataframe tbody tr th:only-of-type {\n",
       "        vertical-align: middle;\n",
       "    }\n",
       "\n",
       "    .dataframe tbody tr th {\n",
       "        vertical-align: top;\n",
       "    }\n",
       "\n",
       "    .dataframe thead th {\n",
       "        text-align: right;\n",
       "    }\n",
       "</style>\n",
       "<table border=\"1\" class=\"dataframe\">\n",
       "  <thead>\n",
       "    <tr style=\"text-align: right;\">\n",
       "      <th></th>\n",
       "      <th>Unnamed: 0</th>\n",
       "      <th>drug1</th>\n",
       "      <th>db_no1</th>\n",
       "      <th>drug2</th>\n",
       "      <th>db_no2</th>\n",
       "      <th>general_syntax</th>\n",
       "      <th>smiles1</th>\n",
       "      <th>smiles2</th>\n",
       "      <th>fingerprint1</th>\n",
       "      <th>fingerprint2</th>\n",
       "      <th>combined_fingerprint</th>\n",
       "      <th>general_syntax#</th>\n",
       "    </tr>\n",
       "  </thead>\n",
       "  <tbody>\n",
       "    <tr>\n",
       "      <th>0</th>\n",
       "      <td>0</td>\n",
       "      <td>Pravastatin</td>\n",
       "      <td>DB00175</td>\n",
       "      <td>Acebutolol</td>\n",
       "      <td>DB01193</td>\n",
       "      <td>the serum concentration of drug2 can be increa...</td>\n",
       "      <td>[H][C@]12[C@H](C[C@H](O)C=C1C=C[C@H](C)[C@@H]2...</td>\n",
       "      <td>CCCC(=O)NC1=CC(C(C)=O)=C(OCC(O)CNC(C)C)C=C1</td>\n",
       "      <td>0000000000000000000000000010000000000000000000...</td>\n",
       "      <td>0000000000000000000000000000000000000000000000...</td>\n",
       "      <td>[0, 0, 0, 0, 0, 0, 0, 0, 0, 0, 0, 0, 0, 0, 0, ...</td>\n",
       "      <td>3</td>\n",
       "    </tr>\n",
       "    <tr>\n",
       "      <th>1</th>\n",
       "      <td>2</td>\n",
       "      <td>Pravastatin</td>\n",
       "      <td>DB00175</td>\n",
       "      <td>Acetaminophen</td>\n",
       "      <td>DB00316</td>\n",
       "      <td>the serum concentration of drug1 can be increa...</td>\n",
       "      <td>[H][C@]12[C@H](C[C@H](O)C=C1C=C[C@H](C)[C@@H]2...</td>\n",
       "      <td>CC(=O)NC1=CC=C(O)C=C1</td>\n",
       "      <td>0000000000000000000000000010000000000000000000...</td>\n",
       "      <td>0000000000000000000000000000000000000000000000...</td>\n",
       "      <td>[0, 0, 0, 0, 0, 0, 0, 0, 0, 0, 0, 0, 0, 0, 0, ...</td>\n",
       "      <td>2</td>\n",
       "    </tr>\n",
       "  </tbody>\n",
       "</table>\n",
       "</div>"
      ],
      "text/plain": [
       "   Unnamed: 0        drug1   db_no1          drug2   db_no2  \\\n",
       "0           0  Pravastatin  DB00175     Acebutolol  DB01193   \n",
       "1           2  Pravastatin  DB00175  Acetaminophen  DB00316   \n",
       "\n",
       "                                      general_syntax  \\\n",
       "0  the serum concentration of drug2 can be increa...   \n",
       "1  the serum concentration of drug1 can be increa...   \n",
       "\n",
       "                                             smiles1  \\\n",
       "0  [H][C@]12[C@H](C[C@H](O)C=C1C=C[C@H](C)[C@@H]2...   \n",
       "1  [H][C@]12[C@H](C[C@H](O)C=C1C=C[C@H](C)[C@@H]2...   \n",
       "\n",
       "                                       smiles2  \\\n",
       "0  CCCC(=O)NC1=CC(C(C)=O)=C(OCC(O)CNC(C)C)C=C1   \n",
       "1                        CC(=O)NC1=CC=C(O)C=C1   \n",
       "\n",
       "                                        fingerprint1  \\\n",
       "0  0000000000000000000000000010000000000000000000...   \n",
       "1  0000000000000000000000000010000000000000000000...   \n",
       "\n",
       "                                        fingerprint2  \\\n",
       "0  0000000000000000000000000000000000000000000000...   \n",
       "1  0000000000000000000000000000000000000000000000...   \n",
       "\n",
       "                                combined_fingerprint general_syntax#  \n",
       "0  [0, 0, 0, 0, 0, 0, 0, 0, 0, 0, 0, 0, 0, 0, 0, ...               3  \n",
       "1  [0, 0, 0, 0, 0, 0, 0, 0, 0, 0, 0, 0, 0, 0, 0, ...               2  "
      ]
     },
     "execution_count": 106,
     "metadata": {},
     "output_type": "execute_result"
    }
   ],
   "source": [
    "df.head(2)"
   ]
  },
  {
   "cell_type": "code",
   "execution_count": 36,
   "metadata": {},
   "outputs": [],
   "source": [
    "newdf = []"
   ]
  },
  {
   "cell_type": "code",
   "execution_count": null,
   "metadata": {},
   "outputs": [],
   "source": []
  },
  {
   "cell_type": "code",
   "execution_count": 114,
   "metadata": {},
   "outputs": [
    {
     "name": "stdout",
     "output_type": "stream",
     "text": [
      "167\n"
     ]
    }
   ],
   "source": [
    "npy_array_list = []\n",
    "gen_syntax_list = []\n",
    "# print(len(df.at[2, 'combined_fingerprint']))\n",
    "for i in df.index:\n",
    "    # print(i)\n",
    "    npy_array_list.append((df.at[i, 'combined_fingerprint']))\n",
    "    gen_syntax_list.append(df.at[i, 'general_syntax#'])\n",
    "print(len(df.at[2, 'combined_fingerprint']))"
   ]
  },
  {
   "cell_type": "code",
   "execution_count": 117,
   "metadata": {},
   "outputs": [
    {
     "data": {
      "text/plain": [
       "31104"
      ]
     },
     "execution_count": 117,
     "metadata": {},
     "output_type": "execute_result"
    }
   ],
   "source": [
    "len(npy_array_list)"
   ]
  },
  {
   "cell_type": "code",
   "execution_count": 118,
   "metadata": {},
   "outputs": [
    {
     "data": {
      "text/plain": [
       "167"
      ]
     },
     "execution_count": 118,
     "metadata": {},
     "output_type": "execute_result"
    }
   ],
   "source": [
    "numpyArray = np.array(npy_array_list)\n",
    "len(numpyArray[0])"
   ]
  },
  {
   "cell_type": "code",
   "execution_count": 119,
   "metadata": {},
   "outputs": [
    {
     "data": {
      "text/plain": [
       "array([[0, 0, 0, ..., 3, 3, 0],\n",
       "       [0, 0, 0, ..., 3, 3, 0],\n",
       "       [0, 0, 0, ..., 3, 3, 0],\n",
       "       ...,\n",
       "       [0, 0, 0, ..., 2, 3, 0],\n",
       "       [0, 0, 0, ..., 2, 3, 0],\n",
       "       [0, 0, 0, ..., 2, 3, 0]])"
      ]
     },
     "execution_count": 119,
     "metadata": {},
     "output_type": "execute_result"
    }
   ],
   "source": [
    "numpyArray"
   ]
  },
  {
   "cell_type": "code",
   "execution_count": 120,
   "metadata": {},
   "outputs": [],
   "source": [
    "index = [str(i) for i in range(1, len(numpyArray) + 1)]\n",
    "columns = ['Feature_' + str(i) for i in range(1, len(numpyArray[0]) + 1)]"
   ]
  },
  {
   "cell_type": "code",
   "execution_count": 121,
   "metadata": {},
   "outputs": [
    {
     "data": {
      "text/plain": [
       "167"
      ]
     },
     "execution_count": 121,
     "metadata": {},
     "output_type": "execute_result"
    }
   ],
   "source": [
    "len(columns)"
   ]
  },
  {
   "cell_type": "code",
   "execution_count": 122,
   "metadata": {},
   "outputs": [],
   "source": [
    "new_df = pd.DataFrame(numpyArray , \n",
    "                      index = index,\n",
    "                      columns = columns)"
   ]
  },
  {
   "cell_type": "code",
   "execution_count": 125,
   "metadata": {},
   "outputs": [],
   "source": [
    "new_df['general_syntax#'] = gen_syntax_list"
   ]
  },
  {
   "cell_type": "code",
   "execution_count": 128,
   "metadata": {},
   "outputs": [
    {
     "data": {
      "text/html": [
       "<div>\n",
       "<style scoped>\n",
       "    .dataframe tbody tr th:only-of-type {\n",
       "        vertical-align: middle;\n",
       "    }\n",
       "\n",
       "    .dataframe tbody tr th {\n",
       "        vertical-align: top;\n",
       "    }\n",
       "\n",
       "    .dataframe thead th {\n",
       "        text-align: right;\n",
       "    }\n",
       "</style>\n",
       "<table border=\"1\" class=\"dataframe\">\n",
       "  <thead>\n",
       "    <tr style=\"text-align: right;\">\n",
       "      <th></th>\n",
       "      <th>Feature_1</th>\n",
       "      <th>Feature_2</th>\n",
       "      <th>Feature_3</th>\n",
       "      <th>Feature_4</th>\n",
       "      <th>Feature_5</th>\n",
       "      <th>Feature_6</th>\n",
       "      <th>Feature_7</th>\n",
       "      <th>Feature_8</th>\n",
       "      <th>Feature_9</th>\n",
       "      <th>Feature_10</th>\n",
       "      <th>...</th>\n",
       "      <th>Feature_159</th>\n",
       "      <th>Feature_160</th>\n",
       "      <th>Feature_161</th>\n",
       "      <th>Feature_162</th>\n",
       "      <th>Feature_163</th>\n",
       "      <th>Feature_164</th>\n",
       "      <th>Feature_165</th>\n",
       "      <th>Feature_166</th>\n",
       "      <th>Feature_167</th>\n",
       "      <th>general_syntax#</th>\n",
       "    </tr>\n",
       "  </thead>\n",
       "  <tbody>\n",
       "    <tr>\n",
       "      <th>1</th>\n",
       "      <td>0</td>\n",
       "      <td>0</td>\n",
       "      <td>0</td>\n",
       "      <td>0</td>\n",
       "      <td>0</td>\n",
       "      <td>0</td>\n",
       "      <td>0</td>\n",
       "      <td>0</td>\n",
       "      <td>0</td>\n",
       "      <td>0</td>\n",
       "      <td>...</td>\n",
       "      <td>2</td>\n",
       "      <td>3</td>\n",
       "      <td>3</td>\n",
       "      <td>2</td>\n",
       "      <td>2</td>\n",
       "      <td>3</td>\n",
       "      <td>3</td>\n",
       "      <td>3</td>\n",
       "      <td>0</td>\n",
       "      <td>3</td>\n",
       "    </tr>\n",
       "    <tr>\n",
       "      <th>2</th>\n",
       "      <td>0</td>\n",
       "      <td>0</td>\n",
       "      <td>0</td>\n",
       "      <td>0</td>\n",
       "      <td>0</td>\n",
       "      <td>0</td>\n",
       "      <td>0</td>\n",
       "      <td>0</td>\n",
       "      <td>0</td>\n",
       "      <td>0</td>\n",
       "      <td>...</td>\n",
       "      <td>2</td>\n",
       "      <td>3</td>\n",
       "      <td>3</td>\n",
       "      <td>2</td>\n",
       "      <td>2</td>\n",
       "      <td>3</td>\n",
       "      <td>3</td>\n",
       "      <td>3</td>\n",
       "      <td>0</td>\n",
       "      <td>2</td>\n",
       "    </tr>\n",
       "    <tr>\n",
       "      <th>3</th>\n",
       "      <td>0</td>\n",
       "      <td>0</td>\n",
       "      <td>0</td>\n",
       "      <td>0</td>\n",
       "      <td>0</td>\n",
       "      <td>0</td>\n",
       "      <td>0</td>\n",
       "      <td>0</td>\n",
       "      <td>0</td>\n",
       "      <td>0</td>\n",
       "      <td>...</td>\n",
       "      <td>0</td>\n",
       "      <td>3</td>\n",
       "      <td>3</td>\n",
       "      <td>0</td>\n",
       "      <td>2</td>\n",
       "      <td>3</td>\n",
       "      <td>3</td>\n",
       "      <td>3</td>\n",
       "      <td>0</td>\n",
       "      <td>3</td>\n",
       "    </tr>\n",
       "    <tr>\n",
       "      <th>4</th>\n",
       "      <td>0</td>\n",
       "      <td>0</td>\n",
       "      <td>0</td>\n",
       "      <td>0</td>\n",
       "      <td>0</td>\n",
       "      <td>0</td>\n",
       "      <td>0</td>\n",
       "      <td>0</td>\n",
       "      <td>0</td>\n",
       "      <td>0</td>\n",
       "      <td>...</td>\n",
       "      <td>2</td>\n",
       "      <td>3</td>\n",
       "      <td>3</td>\n",
       "      <td>2</td>\n",
       "      <td>2</td>\n",
       "      <td>3</td>\n",
       "      <td>3</td>\n",
       "      <td>3</td>\n",
       "      <td>0</td>\n",
       "      <td>3</td>\n",
       "    </tr>\n",
       "    <tr>\n",
       "      <th>5</th>\n",
       "      <td>0</td>\n",
       "      <td>0</td>\n",
       "      <td>0</td>\n",
       "      <td>0</td>\n",
       "      <td>0</td>\n",
       "      <td>0</td>\n",
       "      <td>0</td>\n",
       "      <td>0</td>\n",
       "      <td>0</td>\n",
       "      <td>0</td>\n",
       "      <td>...</td>\n",
       "      <td>2</td>\n",
       "      <td>3</td>\n",
       "      <td>3</td>\n",
       "      <td>2</td>\n",
       "      <td>2</td>\n",
       "      <td>3</td>\n",
       "      <td>3</td>\n",
       "      <td>3</td>\n",
       "      <td>0</td>\n",
       "      <td>2</td>\n",
       "    </tr>\n",
       "  </tbody>\n",
       "</table>\n",
       "<p>5 rows × 168 columns</p>\n",
       "</div>"
      ],
      "text/plain": [
       "   Feature_1  Feature_2  Feature_3  Feature_4  Feature_5  Feature_6  \\\n",
       "1          0          0          0          0          0          0   \n",
       "2          0          0          0          0          0          0   \n",
       "3          0          0          0          0          0          0   \n",
       "4          0          0          0          0          0          0   \n",
       "5          0          0          0          0          0          0   \n",
       "\n",
       "   Feature_7  Feature_8  Feature_9  Feature_10  ...  Feature_159  Feature_160  \\\n",
       "1          0          0          0           0  ...            2            3   \n",
       "2          0          0          0           0  ...            2            3   \n",
       "3          0          0          0           0  ...            0            3   \n",
       "4          0          0          0           0  ...            2            3   \n",
       "5          0          0          0           0  ...            2            3   \n",
       "\n",
       "   Feature_161  Feature_162  Feature_163  Feature_164  Feature_165  \\\n",
       "1            3            2            2            3            3   \n",
       "2            3            2            2            3            3   \n",
       "3            3            0            2            3            3   \n",
       "4            3            2            2            3            3   \n",
       "5            3            2            2            3            3   \n",
       "\n",
       "   Feature_166  Feature_167  general_syntax#  \n",
       "1            3            0                3  \n",
       "2            3            0                2  \n",
       "3            3            0                3  \n",
       "4            3            0                3  \n",
       "5            3            0                2  \n",
       "\n",
       "[5 rows x 168 columns]"
      ]
     },
     "execution_count": 128,
     "metadata": {},
     "output_type": "execute_result"
    }
   ],
   "source": [
    "new_df.head()"
   ]
  },
  {
   "cell_type": "code",
   "execution_count": 129,
   "metadata": {},
   "outputs": [],
   "source": [
    "new_df.to_csv('167_features.csv')"
   ]
  },
  {
   "cell_type": "code",
   "execution_count": 80,
   "metadata": {},
   "outputs": [],
   "source": [
    "# new_df = pd.read_csv('../Data/167_features.csv')"
   ]
  },
  {
   "cell_type": "code",
   "execution_count": 82,
   "metadata": {},
   "outputs": [
    {
     "data": {
      "text/html": [
       "<div>\n",
       "<style scoped>\n",
       "    .dataframe tbody tr th:only-of-type {\n",
       "        vertical-align: middle;\n",
       "    }\n",
       "\n",
       "    .dataframe tbody tr th {\n",
       "        vertical-align: top;\n",
       "    }\n",
       "\n",
       "    .dataframe thead th {\n",
       "        text-align: right;\n",
       "    }\n",
       "</style>\n",
       "<table border=\"1\" class=\"dataframe\">\n",
       "  <thead>\n",
       "    <tr style=\"text-align: right;\">\n",
       "      <th></th>\n",
       "      <th>Unnamed: 0</th>\n",
       "      <th>Feature_1</th>\n",
       "      <th>Feature_2</th>\n",
       "      <th>Feature_3</th>\n",
       "      <th>Feature_4</th>\n",
       "      <th>Feature_5</th>\n",
       "      <th>Feature_6</th>\n",
       "      <th>Feature_7</th>\n",
       "      <th>Feature_8</th>\n",
       "      <th>Feature_9</th>\n",
       "      <th>...</th>\n",
       "      <th>Feature_159</th>\n",
       "      <th>Feature_160</th>\n",
       "      <th>Feature_161</th>\n",
       "      <th>Feature_162</th>\n",
       "      <th>Feature_163</th>\n",
       "      <th>Feature_164</th>\n",
       "      <th>Feature_165</th>\n",
       "      <th>Feature_166</th>\n",
       "      <th>Feature_167</th>\n",
       "      <th>general_syntax#</th>\n",
       "    </tr>\n",
       "  </thead>\n",
       "  <tbody>\n",
       "    <tr>\n",
       "      <th>0</th>\n",
       "      <td>0</td>\n",
       "      <td>0</td>\n",
       "      <td>0</td>\n",
       "      <td>0</td>\n",
       "      <td>0</td>\n",
       "      <td>0</td>\n",
       "      <td>0</td>\n",
       "      <td>0</td>\n",
       "      <td>0</td>\n",
       "      <td>0</td>\n",
       "      <td>...</td>\n",
       "      <td>2</td>\n",
       "      <td>3</td>\n",
       "      <td>3</td>\n",
       "      <td>2</td>\n",
       "      <td>2</td>\n",
       "      <td>3</td>\n",
       "      <td>3</td>\n",
       "      <td>3</td>\n",
       "      <td>0</td>\n",
       "      <td>3</td>\n",
       "    </tr>\n",
       "    <tr>\n",
       "      <th>1</th>\n",
       "      <td>1</td>\n",
       "      <td>0</td>\n",
       "      <td>0</td>\n",
       "      <td>0</td>\n",
       "      <td>0</td>\n",
       "      <td>0</td>\n",
       "      <td>0</td>\n",
       "      <td>0</td>\n",
       "      <td>0</td>\n",
       "      <td>0</td>\n",
       "      <td>...</td>\n",
       "      <td>2</td>\n",
       "      <td>3</td>\n",
       "      <td>3</td>\n",
       "      <td>2</td>\n",
       "      <td>2</td>\n",
       "      <td>3</td>\n",
       "      <td>3</td>\n",
       "      <td>3</td>\n",
       "      <td>0</td>\n",
       "      <td>2</td>\n",
       "    </tr>\n",
       "    <tr>\n",
       "      <th>2</th>\n",
       "      <td>2</td>\n",
       "      <td>0</td>\n",
       "      <td>0</td>\n",
       "      <td>0</td>\n",
       "      <td>0</td>\n",
       "      <td>0</td>\n",
       "      <td>0</td>\n",
       "      <td>0</td>\n",
       "      <td>0</td>\n",
       "      <td>0</td>\n",
       "      <td>...</td>\n",
       "      <td>0</td>\n",
       "      <td>3</td>\n",
       "      <td>3</td>\n",
       "      <td>0</td>\n",
       "      <td>2</td>\n",
       "      <td>3</td>\n",
       "      <td>3</td>\n",
       "      <td>3</td>\n",
       "      <td>0</td>\n",
       "      <td>3</td>\n",
       "    </tr>\n",
       "    <tr>\n",
       "      <th>3</th>\n",
       "      <td>3</td>\n",
       "      <td>0</td>\n",
       "      <td>0</td>\n",
       "      <td>0</td>\n",
       "      <td>0</td>\n",
       "      <td>0</td>\n",
       "      <td>0</td>\n",
       "      <td>0</td>\n",
       "      <td>0</td>\n",
       "      <td>0</td>\n",
       "      <td>...</td>\n",
       "      <td>2</td>\n",
       "      <td>3</td>\n",
       "      <td>3</td>\n",
       "      <td>2</td>\n",
       "      <td>2</td>\n",
       "      <td>3</td>\n",
       "      <td>3</td>\n",
       "      <td>3</td>\n",
       "      <td>0</td>\n",
       "      <td>3</td>\n",
       "    </tr>\n",
       "    <tr>\n",
       "      <th>4</th>\n",
       "      <td>4</td>\n",
       "      <td>0</td>\n",
       "      <td>0</td>\n",
       "      <td>0</td>\n",
       "      <td>0</td>\n",
       "      <td>0</td>\n",
       "      <td>0</td>\n",
       "      <td>0</td>\n",
       "      <td>0</td>\n",
       "      <td>0</td>\n",
       "      <td>...</td>\n",
       "      <td>2</td>\n",
       "      <td>3</td>\n",
       "      <td>3</td>\n",
       "      <td>2</td>\n",
       "      <td>2</td>\n",
       "      <td>3</td>\n",
       "      <td>3</td>\n",
       "      <td>3</td>\n",
       "      <td>0</td>\n",
       "      <td>2</td>\n",
       "    </tr>\n",
       "    <tr>\n",
       "      <th>5</th>\n",
       "      <td>5</td>\n",
       "      <td>0</td>\n",
       "      <td>0</td>\n",
       "      <td>0</td>\n",
       "      <td>0</td>\n",
       "      <td>0</td>\n",
       "      <td>0</td>\n",
       "      <td>0</td>\n",
       "      <td>0</td>\n",
       "      <td>0</td>\n",
       "      <td>...</td>\n",
       "      <td>2</td>\n",
       "      <td>3</td>\n",
       "      <td>3</td>\n",
       "      <td>2</td>\n",
       "      <td>2</td>\n",
       "      <td>3</td>\n",
       "      <td>3</td>\n",
       "      <td>3</td>\n",
       "      <td>0</td>\n",
       "      <td>2</td>\n",
       "    </tr>\n",
       "    <tr>\n",
       "      <th>6</th>\n",
       "      <td>6</td>\n",
       "      <td>0</td>\n",
       "      <td>0</td>\n",
       "      <td>0</td>\n",
       "      <td>0</td>\n",
       "      <td>0</td>\n",
       "      <td>0</td>\n",
       "      <td>0</td>\n",
       "      <td>0</td>\n",
       "      <td>0</td>\n",
       "      <td>...</td>\n",
       "      <td>2</td>\n",
       "      <td>3</td>\n",
       "      <td>3</td>\n",
       "      <td>2</td>\n",
       "      <td>2</td>\n",
       "      <td>3</td>\n",
       "      <td>3</td>\n",
       "      <td>3</td>\n",
       "      <td>0</td>\n",
       "      <td>2</td>\n",
       "    </tr>\n",
       "    <tr>\n",
       "      <th>7</th>\n",
       "      <td>7</td>\n",
       "      <td>0</td>\n",
       "      <td>0</td>\n",
       "      <td>0</td>\n",
       "      <td>0</td>\n",
       "      <td>0</td>\n",
       "      <td>0</td>\n",
       "      <td>0</td>\n",
       "      <td>0</td>\n",
       "      <td>0</td>\n",
       "      <td>...</td>\n",
       "      <td>0</td>\n",
       "      <td>3</td>\n",
       "      <td>3</td>\n",
       "      <td>0</td>\n",
       "      <td>0</td>\n",
       "      <td>3</td>\n",
       "      <td>3</td>\n",
       "      <td>3</td>\n",
       "      <td>0</td>\n",
       "      <td>3</td>\n",
       "    </tr>\n",
       "    <tr>\n",
       "      <th>8</th>\n",
       "      <td>8</td>\n",
       "      <td>0</td>\n",
       "      <td>0</td>\n",
       "      <td>0</td>\n",
       "      <td>0</td>\n",
       "      <td>0</td>\n",
       "      <td>0</td>\n",
       "      <td>0</td>\n",
       "      <td>0</td>\n",
       "      <td>0</td>\n",
       "      <td>...</td>\n",
       "      <td>2</td>\n",
       "      <td>1</td>\n",
       "      <td>1</td>\n",
       "      <td>2</td>\n",
       "      <td>0</td>\n",
       "      <td>3</td>\n",
       "      <td>1</td>\n",
       "      <td>3</td>\n",
       "      <td>0</td>\n",
       "      <td>2</td>\n",
       "    </tr>\n",
       "    <tr>\n",
       "      <th>9</th>\n",
       "      <td>9</td>\n",
       "      <td>0</td>\n",
       "      <td>0</td>\n",
       "      <td>0</td>\n",
       "      <td>0</td>\n",
       "      <td>0</td>\n",
       "      <td>0</td>\n",
       "      <td>0</td>\n",
       "      <td>0</td>\n",
       "      <td>0</td>\n",
       "      <td>...</td>\n",
       "      <td>0</td>\n",
       "      <td>3</td>\n",
       "      <td>3</td>\n",
       "      <td>2</td>\n",
       "      <td>2</td>\n",
       "      <td>3</td>\n",
       "      <td>3</td>\n",
       "      <td>3</td>\n",
       "      <td>0</td>\n",
       "      <td>3</td>\n",
       "    </tr>\n",
       "  </tbody>\n",
       "</table>\n",
       "<p>10 rows × 169 columns</p>\n",
       "</div>"
      ],
      "text/plain": [
       "   Unnamed: 0  Feature_1  Feature_2  Feature_3  Feature_4  Feature_5  \\\n",
       "0           0          0          0          0          0          0   \n",
       "1           1          0          0          0          0          0   \n",
       "2           2          0          0          0          0          0   \n",
       "3           3          0          0          0          0          0   \n",
       "4           4          0          0          0          0          0   \n",
       "5           5          0          0          0          0          0   \n",
       "6           6          0          0          0          0          0   \n",
       "7           7          0          0          0          0          0   \n",
       "8           8          0          0          0          0          0   \n",
       "9           9          0          0          0          0          0   \n",
       "\n",
       "   Feature_6  Feature_7  Feature_8  Feature_9  ...  Feature_159  Feature_160  \\\n",
       "0          0          0          0          0  ...            2            3   \n",
       "1          0          0          0          0  ...            2            3   \n",
       "2          0          0          0          0  ...            0            3   \n",
       "3          0          0          0          0  ...            2            3   \n",
       "4          0          0          0          0  ...            2            3   \n",
       "5          0          0          0          0  ...            2            3   \n",
       "6          0          0          0          0  ...            2            3   \n",
       "7          0          0          0          0  ...            0            3   \n",
       "8          0          0          0          0  ...            2            1   \n",
       "9          0          0          0          0  ...            0            3   \n",
       "\n",
       "   Feature_161  Feature_162  Feature_163  Feature_164  Feature_165  \\\n",
       "0            3            2            2            3            3   \n",
       "1            3            2            2            3            3   \n",
       "2            3            0            2            3            3   \n",
       "3            3            2            2            3            3   \n",
       "4            3            2            2            3            3   \n",
       "5            3            2            2            3            3   \n",
       "6            3            2            2            3            3   \n",
       "7            3            0            0            3            3   \n",
       "8            1            2            0            3            1   \n",
       "9            3            2            2            3            3   \n",
       "\n",
       "   Feature_166  Feature_167  general_syntax#  \n",
       "0            3            0                3  \n",
       "1            3            0                2  \n",
       "2            3            0                3  \n",
       "3            3            0                3  \n",
       "4            3            0                2  \n",
       "5            3            0                2  \n",
       "6            3            0                2  \n",
       "7            3            0                3  \n",
       "8            3            0                2  \n",
       "9            3            0                3  \n",
       "\n",
       "[10 rows x 169 columns]"
      ]
     },
     "execution_count": 82,
     "metadata": {},
     "output_type": "execute_result"
    }
   ],
   "source": [
    "new_df.head(10)"
   ]
  },
  {
   "cell_type": "code",
   "execution_count": 130,
   "metadata": {},
   "outputs": [],
   "source": [
    "new_df = new_df.loc[:, ~new_df.columns.str.contains('^Unnamed')]"
   ]
  },
  {
   "cell_type": "code",
   "execution_count": 131,
   "metadata": {},
   "outputs": [],
   "source": [
    "import numpy as np\n",
    "from sklearn.model_selection import train_test_split"
   ]
  },
  {
   "cell_type": "code",
   "execution_count": 132,
   "metadata": {},
   "outputs": [
    {
     "data": {
      "text/plain": [
       "['Feature_1',\n",
       " 'Feature_2',\n",
       " 'Feature_3',\n",
       " 'Feature_4',\n",
       " 'Feature_5',\n",
       " 'Feature_6',\n",
       " 'Feature_7',\n",
       " 'Feature_8',\n",
       " 'Feature_9',\n",
       " 'Feature_10',\n",
       " 'Feature_11',\n",
       " 'Feature_12',\n",
       " 'Feature_13',\n",
       " 'Feature_14',\n",
       " 'Feature_15',\n",
       " 'Feature_16',\n",
       " 'Feature_17',\n",
       " 'Feature_18',\n",
       " 'Feature_19',\n",
       " 'Feature_20',\n",
       " 'Feature_21',\n",
       " 'Feature_22',\n",
       " 'Feature_23',\n",
       " 'Feature_24',\n",
       " 'Feature_25',\n",
       " 'Feature_26',\n",
       " 'Feature_27',\n",
       " 'Feature_28',\n",
       " 'Feature_29',\n",
       " 'Feature_30',\n",
       " 'Feature_31',\n",
       " 'Feature_32',\n",
       " 'Feature_33',\n",
       " 'Feature_34',\n",
       " 'Feature_35',\n",
       " 'Feature_36',\n",
       " 'Feature_37',\n",
       " 'Feature_38',\n",
       " 'Feature_39',\n",
       " 'Feature_40',\n",
       " 'Feature_41',\n",
       " 'Feature_42',\n",
       " 'Feature_43',\n",
       " 'Feature_44',\n",
       " 'Feature_45',\n",
       " 'Feature_46',\n",
       " 'Feature_47',\n",
       " 'Feature_48',\n",
       " 'Feature_49',\n",
       " 'Feature_50',\n",
       " 'Feature_51',\n",
       " 'Feature_52',\n",
       " 'Feature_53',\n",
       " 'Feature_54',\n",
       " 'Feature_55',\n",
       " 'Feature_56',\n",
       " 'Feature_57',\n",
       " 'Feature_58',\n",
       " 'Feature_59',\n",
       " 'Feature_60',\n",
       " 'Feature_61',\n",
       " 'Feature_62',\n",
       " 'Feature_63',\n",
       " 'Feature_64',\n",
       " 'Feature_65',\n",
       " 'Feature_66',\n",
       " 'Feature_67',\n",
       " 'Feature_68',\n",
       " 'Feature_69',\n",
       " 'Feature_70',\n",
       " 'Feature_71',\n",
       " 'Feature_72',\n",
       " 'Feature_73',\n",
       " 'Feature_74',\n",
       " 'Feature_75',\n",
       " 'Feature_76',\n",
       " 'Feature_77',\n",
       " 'Feature_78',\n",
       " 'Feature_79',\n",
       " 'Feature_80',\n",
       " 'Feature_81',\n",
       " 'Feature_82',\n",
       " 'Feature_83',\n",
       " 'Feature_84',\n",
       " 'Feature_85',\n",
       " 'Feature_86',\n",
       " 'Feature_87',\n",
       " 'Feature_88',\n",
       " 'Feature_89',\n",
       " 'Feature_90',\n",
       " 'Feature_91',\n",
       " 'Feature_92',\n",
       " 'Feature_93',\n",
       " 'Feature_94',\n",
       " 'Feature_95',\n",
       " 'Feature_96',\n",
       " 'Feature_97',\n",
       " 'Feature_98',\n",
       " 'Feature_99',\n",
       " 'Feature_100',\n",
       " 'Feature_101',\n",
       " 'Feature_102',\n",
       " 'Feature_103',\n",
       " 'Feature_104',\n",
       " 'Feature_105',\n",
       " 'Feature_106',\n",
       " 'Feature_107',\n",
       " 'Feature_108',\n",
       " 'Feature_109',\n",
       " 'Feature_110',\n",
       " 'Feature_111',\n",
       " 'Feature_112',\n",
       " 'Feature_113',\n",
       " 'Feature_114',\n",
       " 'Feature_115',\n",
       " 'Feature_116',\n",
       " 'Feature_117',\n",
       " 'Feature_118',\n",
       " 'Feature_119',\n",
       " 'Feature_120',\n",
       " 'Feature_121',\n",
       " 'Feature_122',\n",
       " 'Feature_123',\n",
       " 'Feature_124',\n",
       " 'Feature_125',\n",
       " 'Feature_126',\n",
       " 'Feature_127',\n",
       " 'Feature_128',\n",
       " 'Feature_129',\n",
       " 'Feature_130',\n",
       " 'Feature_131',\n",
       " 'Feature_132',\n",
       " 'Feature_133',\n",
       " 'Feature_134',\n",
       " 'Feature_135',\n",
       " 'Feature_136',\n",
       " 'Feature_137',\n",
       " 'Feature_138',\n",
       " 'Feature_139',\n",
       " 'Feature_140',\n",
       " 'Feature_141',\n",
       " 'Feature_142',\n",
       " 'Feature_143',\n",
       " 'Feature_144',\n",
       " 'Feature_145',\n",
       " 'Feature_146',\n",
       " 'Feature_147',\n",
       " 'Feature_148',\n",
       " 'Feature_149',\n",
       " 'Feature_150',\n",
       " 'Feature_151',\n",
       " 'Feature_152',\n",
       " 'Feature_153',\n",
       " 'Feature_154',\n",
       " 'Feature_155',\n",
       " 'Feature_156',\n",
       " 'Feature_157',\n",
       " 'Feature_158',\n",
       " 'Feature_159',\n",
       " 'Feature_160',\n",
       " 'Feature_161',\n",
       " 'Feature_162',\n",
       " 'Feature_163',\n",
       " 'Feature_164',\n",
       " 'Feature_165',\n",
       " 'Feature_166',\n",
       " 'Feature_167']"
      ]
     },
     "execution_count": 132,
     "metadata": {},
     "output_type": "execute_result"
    }
   ],
   "source": [
    "x_list = list(new_df)\n",
    "x_list = x_list[:-1]\n",
    "x_list"
   ]
  },
  {
   "cell_type": "code",
   "execution_count": 133,
   "metadata": {},
   "outputs": [],
   "source": [
    "X = np.asarray(new_df[x_list])\n",
    "Y = np.asarray(new_df['general_syntax#'])\n",
    "\n",
    "X_train, X_test, y_train, y_test = train_test_split(X, Y, test_size=0.33, shuffle= True)"
   ]
  },
  {
   "cell_type": "code",
   "execution_count": 148,
   "metadata": {},
   "outputs": [
    {
     "data": {
      "text/plain": [
       "array([0, 1, 2, 3, 4, 5, 6, 7], dtype=int64)"
      ]
     },
     "execution_count": 148,
     "metadata": {},
     "output_type": "execute_result"
    }
   ],
   "source": [
    "np.unique(Y)"
   ]
  },
  {
   "cell_type": "code",
   "execution_count": 134,
   "metadata": {},
   "outputs": [],
   "source": [
    "from sklearn.linear_model import LinearRegression\n",
    "from sklearn import linear_model\n",
    "from sklearn import svm\n",
    "from sklearn import metrics\n",
    "from sklearn.svm import SVC"
   ]
  },
  {
   "cell_type": "code",
   "execution_count": 135,
   "metadata": {},
   "outputs": [
    {
     "name": "stdout",
     "output_type": "stream",
     "text": [
      "Score:  0.2410043432514134\n"
     ]
    }
   ],
   "source": [
    "lineReg = LinearRegression()\n",
    "lineReg.fit(X_train, y_train)\n",
    "print('Score: ', lineReg.score(X_test, y_test))\n",
    "# print('Weights: ', lineReg.coef_)"
   ]
  },
  {
   "cell_type": "code",
   "execution_count": 149,
   "metadata": {},
   "outputs": [],
   "source": [
    "from sklearn.metrics import confusion_matrix, ConfusionMatrixDisplay\n",
    "from sklearn.metrics import classification_report"
   ]
  },
  {
   "cell_type": "code",
   "execution_count": 136,
   "metadata": {},
   "outputs": [
    {
     "name": "stdout",
     "output_type": "stream",
     "text": [
      "Score:  0.2414827853223972\n"
     ]
    }
   ],
   "source": [
    "reg = linear_model.Ridge (alpha = .5)\n",
    "reg.fit(X_train, y_train)\n",
    "print('Score: ', reg.score(X_test, y_test))\n",
    "# print('Weights: ', reg.coef_)"
   ]
  },
  {
   "cell_type": "code",
   "execution_count": 137,
   "metadata": {},
   "outputs": [],
   "source": [
    "import pickle"
   ]
  },
  {
   "cell_type": "code",
   "execution_count": 23,
   "metadata": {},
   "outputs": [],
   "source": [
    "#Create a svm Classifier\n",
    "# clf = svm.SVC(kernel='linear') # Linear Kernel\n",
    "\n",
    "#Train the model using the training sets\n",
    "# clf.fit(X_train, y_train)\n",
    "\n",
    "#Predict the response for test dataset\n",
    "# y_pred = clf.predict(X_test)"
   ]
  },
  {
   "cell_type": "code",
   "execution_count": 35,
   "metadata": {},
   "outputs": [],
   "source": [
    "# filename = 'svm_initial_model.sav'"
   ]
  },
  {
   "cell_type": "code",
   "execution_count": 151,
   "metadata": {},
   "outputs": [
    {
     "data": {
      "text/html": [
       "<style>#sk-container-id-2 {color: black;background-color: white;}#sk-container-id-2 pre{padding: 0;}#sk-container-id-2 div.sk-toggleable {background-color: white;}#sk-container-id-2 label.sk-toggleable__label {cursor: pointer;display: block;width: 100%;margin-bottom: 0;padding: 0.3em;box-sizing: border-box;text-align: center;}#sk-container-id-2 label.sk-toggleable__label-arrow:before {content: \"▸\";float: left;margin-right: 0.25em;color: #696969;}#sk-container-id-2 label.sk-toggleable__label-arrow:hover:before {color: black;}#sk-container-id-2 div.sk-estimator:hover label.sk-toggleable__label-arrow:before {color: black;}#sk-container-id-2 div.sk-toggleable__content {max-height: 0;max-width: 0;overflow: hidden;text-align: left;background-color: #f0f8ff;}#sk-container-id-2 div.sk-toggleable__content pre {margin: 0.2em;color: black;border-radius: 0.25em;background-color: #f0f8ff;}#sk-container-id-2 input.sk-toggleable__control:checked~div.sk-toggleable__content {max-height: 200px;max-width: 100%;overflow: auto;}#sk-container-id-2 input.sk-toggleable__control:checked~label.sk-toggleable__label-arrow:before {content: \"▾\";}#sk-container-id-2 div.sk-estimator input.sk-toggleable__control:checked~label.sk-toggleable__label {background-color: #d4ebff;}#sk-container-id-2 div.sk-label input.sk-toggleable__control:checked~label.sk-toggleable__label {background-color: #d4ebff;}#sk-container-id-2 input.sk-hidden--visually {border: 0;clip: rect(1px 1px 1px 1px);clip: rect(1px, 1px, 1px, 1px);height: 1px;margin: -1px;overflow: hidden;padding: 0;position: absolute;width: 1px;}#sk-container-id-2 div.sk-estimator {font-family: monospace;background-color: #f0f8ff;border: 1px dotted black;border-radius: 0.25em;box-sizing: border-box;margin-bottom: 0.5em;}#sk-container-id-2 div.sk-estimator:hover {background-color: #d4ebff;}#sk-container-id-2 div.sk-parallel-item::after {content: \"\";width: 100%;border-bottom: 1px solid gray;flex-grow: 1;}#sk-container-id-2 div.sk-label:hover label.sk-toggleable__label {background-color: #d4ebff;}#sk-container-id-2 div.sk-serial::before {content: \"\";position: absolute;border-left: 1px solid gray;box-sizing: border-box;top: 0;bottom: 0;left: 50%;z-index: 0;}#sk-container-id-2 div.sk-serial {display: flex;flex-direction: column;align-items: center;background-color: white;padding-right: 0.2em;padding-left: 0.2em;position: relative;}#sk-container-id-2 div.sk-item {position: relative;z-index: 1;}#sk-container-id-2 div.sk-parallel {display: flex;align-items: stretch;justify-content: center;background-color: white;position: relative;}#sk-container-id-2 div.sk-item::before, #sk-container-id-2 div.sk-parallel-item::before {content: \"\";position: absolute;border-left: 1px solid gray;box-sizing: border-box;top: 0;bottom: 0;left: 50%;z-index: -1;}#sk-container-id-2 div.sk-parallel-item {display: flex;flex-direction: column;z-index: 1;position: relative;background-color: white;}#sk-container-id-2 div.sk-parallel-item:first-child::after {align-self: flex-end;width: 50%;}#sk-container-id-2 div.sk-parallel-item:last-child::after {align-self: flex-start;width: 50%;}#sk-container-id-2 div.sk-parallel-item:only-child::after {width: 0;}#sk-container-id-2 div.sk-dashed-wrapped {border: 1px dashed gray;margin: 0 0.4em 0.5em 0.4em;box-sizing: border-box;padding-bottom: 0.4em;background-color: white;}#sk-container-id-2 div.sk-label label {font-family: monospace;font-weight: bold;display: inline-block;line-height: 1.2em;}#sk-container-id-2 div.sk-label-container {text-align: center;}#sk-container-id-2 div.sk-container {/* jupyter's `normalize.less` sets `[hidden] { display: none; }` but bootstrap.min.css set `[hidden] { display: none !important; }` so we also need the `!important` here to be able to override the default hidden behavior on the sphinx rendered scikit-learn.org. See: https://github.com/scikit-learn/scikit-learn/issues/21755 */display: inline-block !important;position: relative;}#sk-container-id-2 div.sk-text-repr-fallback {display: none;}</style><div id=\"sk-container-id-2\" class=\"sk-top-container\"><div class=\"sk-text-repr-fallback\"><pre>SVC(C=8, coef0=1, degree=2, gamma=&#x27;auto&#x27;, kernel=&#x27;poly&#x27;)</pre><b>In a Jupyter environment, please rerun this cell to show the HTML representation or trust the notebook. <br />On GitHub, the HTML representation is unable to render, please try loading this page with nbviewer.org.</b></div><div class=\"sk-container\" hidden><div class=\"sk-item\"><div class=\"sk-estimator sk-toggleable\"><input class=\"sk-toggleable__control sk-hidden--visually\" id=\"sk-estimator-id-2\" type=\"checkbox\" checked><label for=\"sk-estimator-id-2\" class=\"sk-toggleable__label sk-toggleable__label-arrow\">SVC</label><div class=\"sk-toggleable__content\"><pre>SVC(C=8, coef0=1, degree=2, gamma=&#x27;auto&#x27;, kernel=&#x27;poly&#x27;)</pre></div></div></div></div></div>"
      ],
      "text/plain": [
       "SVC(C=8, coef0=1, degree=2, gamma='auto', kernel='poly')"
      ]
     },
     "execution_count": 151,
     "metadata": {},
     "output_type": "execute_result"
    }
   ],
   "source": [
    "# The hyperparameter coef0 controls how much the model is influenced by high degree ploynomials\n",
    "# svm_model2 = SVC(kernel='poly', degree=2, gamma='auto', coef0=1, C=8)\n",
    "# svm_model2.fit(X_train, y_train)\n"
   ]
  },
  {
   "cell_type": "code",
   "execution_count": 161,
   "metadata": {},
   "outputs": [],
   "source": [
    "svm_model2 = pickle.load(open('../models/poly_svm_model2.sav', 'rb'))"
   ]
  },
  {
   "cell_type": "code",
   "execution_count": 162,
   "metadata": {},
   "outputs": [
    {
     "name": "stdout",
     "output_type": "stream",
     "text": [
      "Accuracy: 0.7462250365319045\n"
     ]
    }
   ],
   "source": [
    "y_pred = svm_model2.predict(X_test)\n",
    "print(\"Accuracy:\",metrics.accuracy_score(y_test, y_pred))"
   ]
  },
  {
   "cell_type": "code",
   "execution_count": 160,
   "metadata": {},
   "outputs": [
    {
     "data": {
      "text/plain": [
       "<sklearn.metrics._plot.confusion_matrix.ConfusionMatrixDisplay at 0x1d1c6d1f4c0>"
      ]
     },
     "execution_count": 160,
     "metadata": {},
     "output_type": "execute_result"
    },
    {
     "data": {
      "image/png": "[encoded data removed]",
      "text/plain": [
       "<Figure size 432x288 with 2 Axes>"
      ]
     },
     "metadata": {
      "needs_background": "light"
     },
     "output_type": "display_data"
    }
   ],
   "source": [
    "cm = confusion_matrix(y_test, y_pred)\n",
    "disp = ConfusionMatrixDisplay(confusion_matrix=cm,\n",
    "                            display_labels=svm_model2.classes_)\n",
    "disp.plot()"
   ]
  },
  {
   "cell_type": "code",
   "execution_count": 154,
   "metadata": {},
   "outputs": [],
   "source": [
    "pickle.dump(svm_model2, open('poly_svm_model2.sav', 'wb'))"
   ]
  },
  {
   "cell_type": "code",
   "execution_count": 32,
   "metadata": {},
   "outputs": [],
   "source": [
    "svm_initial_model = pickle.load(open('../models/svm_initial_model.sav', 'rb'))"
   ]
  },
  {
   "cell_type": "code",
   "execution_count": 33,
   "metadata": {},
   "outputs": [],
   "source": [
    "y_pred = svm_initial_model.predict(X_test)"
   ]
  },
  {
   "cell_type": "code",
   "execution_count": 34,
   "metadata": {},
   "outputs": [
    {
     "name": "stdout",
     "output_type": "stream",
     "text": [
      "Accuracy: 0.555567304642064\n"
     ]
    }
   ],
   "source": [
    "print(\"Accuracy:\",metrics.accuracy_score(y_test, y_pred))"
   ]
  },
  {
   "cell_type": "markdown",
   "metadata": {},
   "source": [
    "https://www.analyticsvidhya.com/blog/2021/07/svm-and-pca-tutorial-for-beginners/"
   ]
  },
  {
   "cell_type": "code",
   "execution_count": 38,
   "metadata": {},
   "outputs": [
    {
     "ename": "NameError",
     "evalue": "name 'print_score' is not defined",
     "output_type": "error",
     "traceback": [
      "\u001b[1;31m---------------------------------------------------------------------------\u001b[0m",
      "\u001b[1;31mNameError\u001b[0m                                 Traceback (most recent call last)",
      "\u001b[1;32mc:\\Users\\RAZAK\\Desktop\\Github\\ADR\\JNs\\fingerprinting.ipynb Cell 45'\u001b[0m in \u001b[0;36m<cell line: 3>\u001b[1;34m()\u001b[0m\n\u001b[0;32m      <a href='vscode-notebook-cell:/c%3A/Users/RAZAK/Desktop/Github/ADR/JNs/fingerprinting.ipynb#ch0000045?line=0'>1</a>\u001b[0m model \u001b[39m=\u001b[39m SVC(kernel\u001b[39m=\u001b[39m\u001b[39m'\u001b[39m\u001b[39mpoly\u001b[39m\u001b[39m'\u001b[39m, degree\u001b[39m=\u001b[39m\u001b[39m2\u001b[39m, gamma\u001b[39m=\u001b[39m\u001b[39m'\u001b[39m\u001b[39mauto\u001b[39m\u001b[39m'\u001b[39m, coef0\u001b[39m=\u001b[39m\u001b[39m1\u001b[39m, C\u001b[39m=\u001b[39m\u001b[39m5\u001b[39m)\n\u001b[0;32m      <a href='vscode-notebook-cell:/c%3A/Users/RAZAK/Desktop/Github/ADR/JNs/fingerprinting.ipynb#ch0000045?line=1'>2</a>\u001b[0m model\u001b[39m.\u001b[39mfit(X_train, y_train)\n\u001b[1;32m----> <a href='vscode-notebook-cell:/c%3A/Users/RAZAK/Desktop/Github/ADR/JNs/fingerprinting.ipynb#ch0000045?line=2'>3</a>\u001b[0m print_score(model, X_train, y_train, X_test, y_test, train\u001b[39m=\u001b[39m\u001b[39mTrue\u001b[39;00m)\n\u001b[0;32m      <a href='vscode-notebook-cell:/c%3A/Users/RAZAK/Desktop/Github/ADR/JNs/fingerprinting.ipynb#ch0000045?line=3'>4</a>\u001b[0m print_score(model, X_train, y_train, X_test, y_test, train\u001b[39m=\u001b[39m\u001b[39mFalse\u001b[39;00m)\n",
      "\u001b[1;31mNameError\u001b[0m: name 'print_score' is not defined"
     ]
    }
   ],
   "source": [
    "# model = SVC(kernel='poly', degree=2, gamma='auto', coef0=1, C=5)\n",
    "# model.fit(X_train, y_train)\n"
   ]
  },
  {
   "cell_type": "code",
   "execution_count": 42,
   "metadata": {},
   "outputs": [],
   "source": [
    "model = pickle.load(open('../models/polynomial_kernel_svc_model.sav', 'rb'))"
   ]
  },
  {
   "cell_type": "code",
   "execution_count": 43,
   "metadata": {},
   "outputs": [],
   "source": [
    "y_pred = model.predict(X_test)"
   ]
  },
  {
   "cell_type": "code",
   "execution_count": 44,
   "metadata": {},
   "outputs": [
    {
     "name": "stdout",
     "output_type": "stream",
     "text": [
      "Accuracy: 0.7439991540657714\n"
     ]
    }
   ],
   "source": [
    "print(\"Accuracy:\",metrics.accuracy_score(y_test, y_pred))"
   ]
  },
  {
   "cell_type": "code",
   "execution_count": null,
   "metadata": {},
   "outputs": [],
   "source": []
  }
 ],
 "metadata": {
  "interpreter": {
   "hash": "4c09afe4b8f7c8840abb6699dad2ef7b14e9a2421b65b531128f5c4abc996cd6"
  },
  "kernelspec": {
   "display_name": "Python 3.10.0 ('venv': venv)",
   "language": "python",
   "name": "python3"
  },
  "language_info": {
   "codemirror_mode": {
    "name": "ipython",
    "version": 3
   },
   "file_extension": ".py",
   "mimetype": "text/x-python",
   "name": "python",
   "nbconvert_exporter": "python",
   "pygments_lexer": "ipython3",
   "version": "3.10.0"
  },
  "orig_nbformat": 4
 },
 "nbformat": 4,
 "nbformat_minor": 2
}
