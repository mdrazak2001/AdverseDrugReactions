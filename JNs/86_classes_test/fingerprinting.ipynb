{
 "cells": [
  {
   "cell_type": "code",
   "execution_count": 1,
   "metadata": {},
   "outputs": [],
   "source": [
    "import numpy as np \n",
    "import pandas as pd\n",
    "from rdkit import Chem\n",
    "from rdkit.Chem import MACCSkeys\n",
    "from rdkit.Chem import rdMolDescriptors\n",
    "from rdkit import DataStructs\n",
    "from ast import literal_eval\n"
   ]
  },
  {
   "cell_type": "code",
   "execution_count": 3,
   "metadata": {},
   "outputs": [
    {
     "data": {
      "text/html": [
       "<div>\n",
       "<style scoped>\n",
       "    .dataframe tbody tr th:only-of-type {\n",
       "        vertical-align: middle;\n",
       "    }\n",
       "\n",
       "    .dataframe tbody tr th {\n",
       "        vertical-align: top;\n",
       "    }\n",
       "\n",
       "    .dataframe thead th {\n",
       "        text-align: right;\n",
       "    }\n",
       "</style>\n",
       "<table border=\"1\" class=\"dataframe\">\n",
       "  <thead>\n",
       "    <tr style=\"text-align: right;\">\n",
       "      <th></th>\n",
       "      <th>Unnamed: 0</th>\n",
       "      <th>Drug1</th>\n",
       "      <th>Drug2</th>\n",
       "      <th>Label</th>\n",
       "      <th>smiles1</th>\n",
       "      <th>smiles2</th>\n",
       "    </tr>\n",
       "  </thead>\n",
       "  <tbody>\n",
       "    <tr>\n",
       "      <th>0</th>\n",
       "      <td>0</td>\n",
       "      <td>DB04571</td>\n",
       "      <td>DB00460</td>\n",
       "      <td>1</td>\n",
       "      <td>CC1=CC2=CC3=C(OC(=O)C=C3C)C(C)=C2O1</td>\n",
       "      <td>COC(=O)CCC1=C2NC(\\C=C3/N=C(/C=C4\\N\\C(=C/C5=N/C...</td>\n",
       "    </tr>\n",
       "    <tr>\n",
       "      <th>1</th>\n",
       "      <td>1</td>\n",
       "      <td>DB00855</td>\n",
       "      <td>DB00460</td>\n",
       "      <td>1</td>\n",
       "      <td>NCC(=O)CCC(O)=O</td>\n",
       "      <td>COC(=O)CCC1=C2NC(\\C=C3/N=C(/C=C4\\N\\C(=C/C5=N/C...</td>\n",
       "    </tr>\n",
       "    <tr>\n",
       "      <th>2</th>\n",
       "      <td>2</td>\n",
       "      <td>DB09536</td>\n",
       "      <td>DB00460</td>\n",
       "      <td>1</td>\n",
       "      <td>O=[Ti]=O</td>\n",
       "      <td>COC(=O)CCC1=C2NC(\\C=C3/N=C(/C=C4\\N\\C(=C/C5=N/C...</td>\n",
       "    </tr>\n",
       "    <tr>\n",
       "      <th>3</th>\n",
       "      <td>3</td>\n",
       "      <td>DB01600</td>\n",
       "      <td>DB00460</td>\n",
       "      <td>1</td>\n",
       "      <td>CC(C(O)=O)C1=CC=C(S1)C(=O)C1=CC=CC=C1</td>\n",
       "      <td>COC(=O)CCC1=C2NC(\\C=C3/N=C(/C=C4\\N\\C(=C/C5=N/C...</td>\n",
       "    </tr>\n",
       "    <tr>\n",
       "      <th>4</th>\n",
       "      <td>4</td>\n",
       "      <td>DB09000</td>\n",
       "      <td>DB00460</td>\n",
       "      <td>1</td>\n",
       "      <td>CC(CN(C)C)CN1C2=CC=CC=C2SC2=C1C=C(C=C2)C#N</td>\n",
       "      <td>COC(=O)CCC1=C2NC(\\C=C3/N=C(/C=C4\\N\\C(=C/C5=N/C...</td>\n",
       "    </tr>\n",
       "    <tr>\n",
       "      <th>...</th>\n",
       "      <td>...</td>\n",
       "      <td>...</td>\n",
       "      <td>...</td>\n",
       "      <td>...</td>\n",
       "      <td>...</td>\n",
       "      <td>...</td>\n",
       "    </tr>\n",
       "    <tr>\n",
       "      <th>191536</th>\n",
       "      <td>192279</td>\n",
       "      <td>DB00437</td>\n",
       "      <td>DB00492</td>\n",
       "      <td>86</td>\n",
       "      <td>O=C1N=CN=C2NNC=C12</td>\n",
       "      <td>CCC(=O)O[C@@H](O[P@](=O)(CCCCC1=CC=CC=C1)CC(=O...</td>\n",
       "    </tr>\n",
       "    <tr>\n",
       "      <th>191537</th>\n",
       "      <td>192280</td>\n",
       "      <td>DB00437</td>\n",
       "      <td>DB09477</td>\n",
       "      <td>86</td>\n",
       "      <td>O=C1N=CN=C2NNC=C12</td>\n",
       "      <td>[H][C@@](C)(N[C@@]([H])(CCC1=CC=CC=C1)C(O)=O)C...</td>\n",
       "    </tr>\n",
       "    <tr>\n",
       "      <th>191538</th>\n",
       "      <td>192281</td>\n",
       "      <td>DB00437</td>\n",
       "      <td>DB00790</td>\n",
       "      <td>86</td>\n",
       "      <td>O=C1N=CN=C2NNC=C12</td>\n",
       "      <td>[H][C@]12C[C@H](N(C(=O)[C@H](C)N[C@@H](CCC)C(=...</td>\n",
       "    </tr>\n",
       "    <tr>\n",
       "      <th>191539</th>\n",
       "      <td>192282</td>\n",
       "      <td>DB00415</td>\n",
       "      <td>DB00437</td>\n",
       "      <td>86</td>\n",
       "      <td>[H][C@]12SC(C)(C)[C@@H](N1C(=O)[C@H]2NC(=O)[C@...</td>\n",
       "      <td>O=C1N=CN=C2NNC=C12</td>\n",
       "    </tr>\n",
       "    <tr>\n",
       "      <th>191540</th>\n",
       "      <td>192283</td>\n",
       "      <td>DB00437</td>\n",
       "      <td>DB00691</td>\n",
       "      <td>86</td>\n",
       "      <td>O=C1N=CN=C2NNC=C12</td>\n",
       "      <td>CCOC(=O)[C@H](CCC1=CC=CC=C1)N[C@@H](C)C(=O)N1C...</td>\n",
       "    </tr>\n",
       "  </tbody>\n",
       "</table>\n",
       "<p>191541 rows × 6 columns</p>\n",
       "</div>"
      ],
      "text/plain": [
       "        Unnamed: 0    Drug1    Drug2  Label  \\\n",
       "0                0  DB04571  DB00460      1   \n",
       "1                1  DB00855  DB00460      1   \n",
       "2                2  DB09536  DB00460      1   \n",
       "3                3  DB01600  DB00460      1   \n",
       "4                4  DB09000  DB00460      1   \n",
       "...            ...      ...      ...    ...   \n",
       "191536      192279  DB00437  DB00492     86   \n",
       "191537      192280  DB00437  DB09477     86   \n",
       "191538      192281  DB00437  DB00790     86   \n",
       "191539      192282  DB00415  DB00437     86   \n",
       "191540      192283  DB00437  DB00691     86   \n",
       "\n",
       "                                                  smiles1  \\\n",
       "0                     CC1=CC2=CC3=C(OC(=O)C=C3C)C(C)=C2O1   \n",
       "1                                         NCC(=O)CCC(O)=O   \n",
       "2                                                O=[Ti]=O   \n",
       "3                   CC(C(O)=O)C1=CC=C(S1)C(=O)C1=CC=CC=C1   \n",
       "4              CC(CN(C)C)CN1C2=CC=CC=C2SC2=C1C=C(C=C2)C#N   \n",
       "...                                                   ...   \n",
       "191536                                 O=C1N=CN=C2NNC=C12   \n",
       "191537                                 O=C1N=CN=C2NNC=C12   \n",
       "191538                                 O=C1N=CN=C2NNC=C12   \n",
       "191539  [H][C@]12SC(C)(C)[C@@H](N1C(=O)[C@H]2NC(=O)[C@...   \n",
       "191540                                 O=C1N=CN=C2NNC=C12   \n",
       "\n",
       "                                                  smiles2  \n",
       "0       COC(=O)CCC1=C2NC(\\C=C3/N=C(/C=C4\\N\\C(=C/C5=N/C...  \n",
       "1       COC(=O)CCC1=C2NC(\\C=C3/N=C(/C=C4\\N\\C(=C/C5=N/C...  \n",
       "2       COC(=O)CCC1=C2NC(\\C=C3/N=C(/C=C4\\N\\C(=C/C5=N/C...  \n",
       "3       COC(=O)CCC1=C2NC(\\C=C3/N=C(/C=C4\\N\\C(=C/C5=N/C...  \n",
       "4       COC(=O)CCC1=C2NC(\\C=C3/N=C(/C=C4\\N\\C(=C/C5=N/C...  \n",
       "...                                                   ...  \n",
       "191536  CCC(=O)O[C@@H](O[P@](=O)(CCCCC1=CC=CC=C1)CC(=O...  \n",
       "191537  [H][C@@](C)(N[C@@]([H])(CCC1=CC=CC=C1)C(O)=O)C...  \n",
       "191538  [H][C@]12C[C@H](N(C(=O)[C@H](C)N[C@@H](CCC)C(=...  \n",
       "191539                                 O=C1N=CN=C2NNC=C12  \n",
       "191540  CCOC(=O)[C@H](CCC1=CC=CC=C1)N[C@@H](C)C(=O)N1C...  \n",
       "\n",
       "[191541 rows x 6 columns]"
      ]
     },
     "execution_count": 3,
     "metadata": {},
     "output_type": "execute_result"
    }
   ],
   "source": [
    "df = pd.read_csv('processed_df.csv')\n",
    "df"
   ]
  },
  {
   "cell_type": "code",
   "execution_count": 4,
   "metadata": {},
   "outputs": [],
   "source": [
    "def smiles_to_maccs(smile):\n",
    "    mol = Chem.MolFromSmiles(smile)\n",
    "    return MACCSkeys.GenMACCSKeys(mol).ToBitString()"
   ]
  },
  {
   "cell_type": "code",
   "execution_count": 5,
   "metadata": {},
   "outputs": [
    {
     "name": "stderr",
     "output_type": "stream",
     "text": [
      "[17:27:24] SMILES Parse Error: syntax error while parsing: OC1=CC=CC(=C1)C-1=C2\\CCC(=N2)\\C(=C2/N\\C(\\C=C2)=C(/C2=N/C(/C=C2)=C(\\C2=CC=C\\-1N2)C1=CC(O)=CC=C1)C1=CC(O)=CC=C1)\\C1=CC(O)=CC=C1\n",
      "[17:27:24] SMILES Parse Error: Failed parsing SMILES 'OC1=CC=CC(=C1)C-1=C2\\CCC(=N2)\\C(=C2/N\\C(\\C=C2)=C(/C2=N/C(/C=C2)=C(\\C2=CC=C\\-1N2)C1=CC(O)=CC=C1)C1=CC(O)=CC=C1)\\C1=CC(O)=CC=C1' for input: 'OC1=CC=CC(=C1)C-1=C2\\CCC(=N2)\\C(=C2/N\\C(\\C=C2)=C(/C2=N/C(/C=C2)=C(\\C2=CC=C\\-1N2)C1=CC(O)=CC=C1)C1=CC(O)=CC=C1)\\C1=CC(O)=CC=C1'\n"
     ]
    },
    {
     "name": "stdout",
     "output_type": "stream",
     "text": [
      "5   Python argument types in\n",
      "    rdkit.Chem.rdMolDescriptors.GetMACCSKeysFingerprint(NoneType)\n",
      "did not match C++ signature:\n",
      "    GetMACCSKeysFingerprint(class RDKit::ROMol mol)\n"
     ]
    },
    {
     "name": "stderr",
     "output_type": "stream",
     "text": [
      "[17:28:50] Explicit valence for atom # 0 N, 4, is greater than permitted\n",
      "[17:28:50] Explicit valence for atom # 0 N, 4, is greater than permitted\n",
      "[17:28:50] Explicit valence for atom # 0 N, 4, is greater than permitted\n",
      "[17:28:50] Explicit valence for atom # 0 N, 4, is greater than permitted\n",
      "[17:28:50] Explicit valence for atom # 0 N, 4, is greater than permitted\n",
      "[17:28:50] Explicit valence for atom # 0 N, 4, is greater than permitted\n",
      "[17:28:50] Explicit valence for atom # 0 N, 4, is greater than permitted\n",
      "[17:28:50] Explicit valence for atom # 0 N, 4, is greater than permitted\n",
      "[17:28:50] Explicit valence for atom # 0 N, 4, is greater than permitted\n",
      "[17:28:50] Explicit valence for atom # 0 N, 4, is greater than permitted\n",
      "[17:28:50] Explicit valence for atom # 0 N, 4, is greater than permitted\n",
      "[17:28:50] Explicit valence for atom # 0 N, 4, is greater than permitted\n",
      "[17:28:50] Explicit valence for atom # 0 N, 4, is greater than permitted\n",
      "[17:28:50] Explicit valence for atom # 0 N, 4, is greater than permitted\n",
      "[17:28:50] Explicit valence for atom # 0 N, 4, is greater than permitted\n",
      "[17:28:50] Explicit valence for atom # 0 N, 4, is greater than permitted\n",
      "[17:28:50] Explicit valence for atom # 0 N, 4, is greater than permitted\n",
      "[17:28:50] Explicit valence for atom # 0 N, 4, is greater than permitted\n",
      "[17:28:50] Explicit valence for atom # 0 N, 4, is greater than permitted\n",
      "[17:28:50] Explicit valence for atom # 0 N, 4, is greater than permitted\n"
     ]
    },
    {
     "name": "stdout",
     "output_type": "stream",
     "text": [
      "9316   Python argument types in\n",
      "    rdkit.Chem.rdMolDescriptors.GetMACCSKeysFingerprint(NoneType)\n",
      "did not match C++ signature:\n",
      "    GetMACCSKeysFingerprint(class RDKit::ROMol mol)\n",
      "9317   Python argument types in\n",
      "    rdkit.Chem.rdMolDescriptors.GetMACCSKeysFingerprint(NoneType)\n",
      "did not match C++ signature:\n",
      "    GetMACCSKeysFingerprint(class RDKit::ROMol mol)\n",
      "9318   Python argument types in\n",
      "    rdkit.Chem.rdMolDescriptors.GetMACCSKeysFingerprint(NoneType)\n",
      "did not match C++ signature:\n",
      "    GetMACCSKeysFingerprint(class RDKit::ROMol mol)\n",
      "9320   Python argument types in\n",
      "    rdkit.Chem.rdMolDescriptors.GetMACCSKeysFingerprint(NoneType)\n",
      "did not match C++ signature:\n",
      "    GetMACCSKeysFingerprint(class RDKit::ROMol mol)\n",
      "9321   Python argument types in\n",
      "    rdkit.Chem.rdMolDescriptors.GetMACCSKeysFingerprint(NoneType)\n",
      "did not match C++ signature:\n",
      "    GetMACCSKeysFingerprint(class RDKit::ROMol mol)\n",
      "9322   Python argument types in\n",
      "    rdkit.Chem.rdMolDescriptors.GetMACCSKeysFingerprint(NoneType)\n",
      "did not match C++ signature:\n",
      "    GetMACCSKeysFingerprint(class RDKit::ROMol mol)\n",
      "9323   Python argument types in\n",
      "    rdkit.Chem.rdMolDescriptors.GetMACCSKeysFingerprint(NoneType)\n",
      "did not match C++ signature:\n",
      "    GetMACCSKeysFingerprint(class RDKit::ROMol mol)\n",
      "9324   Python argument types in\n",
      "    rdkit.Chem.rdMolDescriptors.GetMACCSKeysFingerprint(NoneType)\n",
      "did not match C++ signature:\n",
      "    GetMACCSKeysFingerprint(class RDKit::ROMol mol)\n",
      "9325   Python argument types in\n",
      "    rdkit.Chem.rdMolDescriptors.GetMACCSKeysFingerprint(NoneType)\n",
      "did not match C++ signature:\n",
      "    GetMACCSKeysFingerprint(class RDKit::ROMol mol)\n",
      "9326   Python argument types in\n",
      "    rdkit.Chem.rdMolDescriptors.GetMACCSKeysFingerprint(NoneType)\n",
      "did not match C++ signature:\n",
      "    GetMACCSKeysFingerprint(class RDKit::ROMol mol)\n",
      "9327   Python argument types in\n",
      "    rdkit.Chem.rdMolDescriptors.GetMACCSKeysFingerprint(NoneType)\n",
      "did not match C++ signature:\n",
      "    GetMACCSKeysFingerprint(class RDKit::ROMol mol)\n",
      "9328   Python argument types in\n",
      "    rdkit.Chem.rdMolDescriptors.GetMACCSKeysFingerprint(NoneType)\n",
      "did not match C++ signature:\n",
      "    GetMACCSKeysFingerprint(class RDKit::ROMol mol)\n",
      "9329   Python argument types in\n",
      "    rdkit.Chem.rdMolDescriptors.GetMACCSKeysFingerprint(NoneType)\n",
      "did not match C++ signature:\n",
      "    GetMACCSKeysFingerprint(class RDKit::ROMol mol)\n",
      "9330   Python argument types in\n",
      "    rdkit.Chem.rdMolDescriptors.GetMACCSKeysFingerprint(NoneType)\n",
      "did not match C++ signature:\n",
      "    GetMACCSKeysFingerprint(class RDKit::ROMol mol)\n",
      "9331   Python argument types in\n",
      "    rdkit.Chem.rdMolDescriptors.GetMACCSKeysFingerprint(NoneType)\n",
      "did not match C++ signature:\n",
      "    GetMACCSKeysFingerprint(class RDKit::ROMol mol)\n",
      "9332   Python argument types in\n",
      "    rdkit.Chem.rdMolDescriptors.GetMACCSKeysFingerprint(NoneType)\n",
      "did not match C++ signature:\n",
      "    GetMACCSKeysFingerprint(class RDKit::ROMol mol)\n",
      "9333   Python argument types in\n",
      "    rdkit.Chem.rdMolDescriptors.GetMACCSKeysFingerprint(NoneType)\n",
      "did not match C++ signature:\n",
      "    GetMACCSKeysFingerprint(class RDKit::ROMol mol)\n",
      "9334   Python argument types in\n",
      "    rdkit.Chem.rdMolDescriptors.GetMACCSKeysFingerprint(NoneType)\n",
      "did not match C++ signature:\n",
      "    GetMACCSKeysFingerprint(class RDKit::ROMol mol)\n",
      "9335   Python argument types in\n",
      "    rdkit.Chem.rdMolDescriptors.GetMACCSKeysFingerprint(NoneType)\n",
      "did not match C++ signature:\n",
      "    GetMACCSKeysFingerprint(class RDKit::ROMol mol)\n",
      "9336   Python argument types in\n",
      "    rdkit.Chem.rdMolDescriptors.GetMACCSKeysFingerprint(NoneType)\n",
      "did not match C++ signature:\n",
      "    GetMACCSKeysFingerprint(class RDKit::ROMol mol)\n"
     ]
    },
    {
     "name": "stderr",
     "output_type": "stream",
     "text": [
      "[17:29:19] Explicit valence for atom # 0 N, 4, is greater than permitted\n"
     ]
    },
    {
     "name": "stdout",
     "output_type": "stream",
     "text": [
      "13292   Python argument types in\n",
      "    rdkit.Chem.rdMolDescriptors.GetMACCSKeysFingerprint(NoneType)\n",
      "did not match C++ signature:\n",
      "    GetMACCSKeysFingerprint(class RDKit::ROMol mol)\n"
     ]
    },
    {
     "name": "stderr",
     "output_type": "stream",
     "text": [
      "[17:29:19] Explicit valence for atom # 0 N, 4, is greater than permitted\n",
      "[17:29:20] SMILES Parse Error: syntax error while parsing: OC1=CC=CC(=C1)C-1=C2\\CCC(=N2)\\C(=C2/N\\C(\\C=C2)=C(/C2=N/C(/C=C2)=C(\\C2=CC=C\\-1N2)C1=CC(O)=CC=C1)C1=CC(O)=CC=C1)\\C1=CC(O)=CC=C1\n",
      "[17:29:20] SMILES Parse Error: Failed parsing SMILES 'OC1=CC=CC(=C1)C-1=C2\\CCC(=N2)\\C(=C2/N\\C(\\C=C2)=C(/C2=N/C(/C=C2)=C(\\C2=CC=C\\-1N2)C1=CC(O)=CC=C1)C1=CC(O)=CC=C1)\\C1=CC(O)=CC=C1' for input: 'OC1=CC=CC(=C1)C-1=C2\\CCC(=N2)\\C(=C2/N\\C(\\C=C2)=C(/C2=N/C(/C=C2)=C(\\C2=CC=C\\-1N2)C1=CC(O)=CC=C1)C1=CC(O)=CC=C1)\\C1=CC(O)=CC=C1'\n"
     ]
    },
    {
     "name": "stdout",
     "output_type": "stream",
     "text": [
      "13346   Python argument types in\n",
      "    rdkit.Chem.rdMolDescriptors.GetMACCSKeysFingerprint(NoneType)\n",
      "did not match C++ signature:\n",
      "    GetMACCSKeysFingerprint(class RDKit::ROMol mol)\n",
      "13375   Python argument types in\n",
      "    rdkit.Chem.rdMolDescriptors.GetMACCSKeysFingerprint(NoneType)\n",
      "did not match C++ signature:\n",
      "    GetMACCSKeysFingerprint(class RDKit::ROMol mol)\n"
     ]
    },
    {
     "name": "stderr",
     "output_type": "stream",
     "text": [
      "[17:29:20] Explicit valence for atom # 0 N, 4, is greater than permitted\n",
      "[17:29:20] Explicit valence for atom # 0 N, 4, is greater than permitted\n"
     ]
    },
    {
     "name": "stdout",
     "output_type": "stream",
     "text": [
      "13441   Python argument types in\n",
      "    rdkit.Chem.rdMolDescriptors.GetMACCSKeysFingerprint(NoneType)\n",
      "did not match C++ signature:\n",
      "    GetMACCSKeysFingerprint(class RDKit::ROMol mol)\n",
      "13467   Python argument types in\n",
      "    rdkit.Chem.rdMolDescriptors.GetMACCSKeysFingerprint(NoneType)\n",
      "did not match C++ signature:\n",
      "    GetMACCSKeysFingerprint(class RDKit::ROMol mol)\n"
     ]
    },
    {
     "name": "stderr",
     "output_type": "stream",
     "text": [
      "[17:31:39] Explicit valence for atom # 0 N, 4, is greater than permitted\n"
     ]
    },
    {
     "name": "stdout",
     "output_type": "stream",
     "text": [
      "30021   Python argument types in\n",
      "    rdkit.Chem.rdMolDescriptors.GetMACCSKeysFingerprint(NoneType)\n",
      "did not match C++ signature:\n",
      "    GetMACCSKeysFingerprint(class RDKit::ROMol mol)\n"
     ]
    },
    {
     "name": "stderr",
     "output_type": "stream",
     "text": [
      "[17:31:40] Explicit valence for atom # 0 N, 4, is greater than permitted\n",
      "[17:31:40] Explicit valence for atom # 0 N, 4, is greater than permitted\n"
     ]
    },
    {
     "name": "stdout",
     "output_type": "stream",
     "text": [
      "30148   Python argument types in\n",
      "    rdkit.Chem.rdMolDescriptors.GetMACCSKeysFingerprint(NoneType)\n",
      "did not match C++ signature:\n",
      "    GetMACCSKeysFingerprint(class RDKit::ROMol mol)\n",
      "30156   Python argument types in\n",
      "    rdkit.Chem.rdMolDescriptors.GetMACCSKeysFingerprint(NoneType)\n",
      "did not match C++ signature:\n",
      "    GetMACCSKeysFingerprint(class RDKit::ROMol mol)\n"
     ]
    },
    {
     "name": "stderr",
     "output_type": "stream",
     "text": [
      "[17:31:41] Explicit valence for atom # 0 N, 4, is greater than permitted\n",
      "[17:31:41] Explicit valence for atom # 0 N, 4, is greater than permitted\n"
     ]
    },
    {
     "name": "stdout",
     "output_type": "stream",
     "text": [
      "30195   Python argument types in\n",
      "    rdkit.Chem.rdMolDescriptors.GetMACCSKeysFingerprint(NoneType)\n",
      "did not match C++ signature:\n",
      "    GetMACCSKeysFingerprint(class RDKit::ROMol mol)\n",
      "30209   Python argument types in\n",
      "    rdkit.Chem.rdMolDescriptors.GetMACCSKeysFingerprint(NoneType)\n",
      "did not match C++ signature:\n",
      "    GetMACCSKeysFingerprint(class RDKit::ROMol mol)\n"
     ]
    },
    {
     "name": "stderr",
     "output_type": "stream",
     "text": [
      "[17:31:41] Explicit valence for atom # 0 N, 4, is greater than permitted\n",
      "[17:31:42] Explicit valence for atom # 0 N, 4, is greater than permitted\n"
     ]
    },
    {
     "name": "stdout",
     "output_type": "stream",
     "text": [
      "30277   Python argument types in\n",
      "    rdkit.Chem.rdMolDescriptors.GetMACCSKeysFingerprint(NoneType)\n",
      "did not match C++ signature:\n",
      "    GetMACCSKeysFingerprint(class RDKit::ROMol mol)\n",
      "30301   Python argument types in\n",
      "    rdkit.Chem.rdMolDescriptors.GetMACCSKeysFingerprint(NoneType)\n",
      "did not match C++ signature:\n",
      "    GetMACCSKeysFingerprint(class RDKit::ROMol mol)\n"
     ]
    },
    {
     "name": "stderr",
     "output_type": "stream",
     "text": [
      "[17:31:42] Explicit valence for atom # 0 N, 4, is greater than permitted\n",
      "[17:31:42] Explicit valence for atom # 0 N, 4, is greater than permitted\n"
     ]
    },
    {
     "name": "stdout",
     "output_type": "stream",
     "text": [
      "30330   Python argument types in\n",
      "    rdkit.Chem.rdMolDescriptors.GetMACCSKeysFingerprint(NoneType)\n",
      "did not match C++ signature:\n",
      "    GetMACCSKeysFingerprint(class RDKit::ROMol mol)\n",
      "30352   Python argument types in\n",
      "    rdkit.Chem.rdMolDescriptors.GetMACCSKeysFingerprint(NoneType)\n",
      "did not match C++ signature:\n",
      "    GetMACCSKeysFingerprint(class RDKit::ROMol mol)\n"
     ]
    },
    {
     "name": "stderr",
     "output_type": "stream",
     "text": [
      "[17:31:43] Explicit valence for atom # 0 N, 4, is greater than permitted\n"
     ]
    },
    {
     "name": "stdout",
     "output_type": "stream",
     "text": [
      "30409   Python argument types in\n",
      "    rdkit.Chem.rdMolDescriptors.GetMACCSKeysFingerprint(NoneType)\n",
      "did not match C++ signature:\n",
      "    GetMACCSKeysFingerprint(class RDKit::ROMol mol)\n"
     ]
    },
    {
     "name": "stderr",
     "output_type": "stream",
     "text": [
      "[17:32:53] Explicit valence for atom # 0 N, 4, is greater than permitted\n"
     ]
    },
    {
     "name": "stdout",
     "output_type": "stream",
     "text": [
      "38877   Python argument types in\n",
      "    rdkit.Chem.rdMolDescriptors.GetMACCSKeysFingerprint(NoneType)\n",
      "did not match C++ signature:\n",
      "    GetMACCSKeysFingerprint(class RDKit::ROMol mol)\n"
     ]
    },
    {
     "name": "stderr",
     "output_type": "stream",
     "text": [
      "[17:32:56] Explicit valence for atom # 0 N, 4, is greater than permitted\n"
     ]
    },
    {
     "name": "stdout",
     "output_type": "stream",
     "text": [
      "39173   Python argument types in\n",
      "    rdkit.Chem.rdMolDescriptors.GetMACCSKeysFingerprint(NoneType)\n",
      "did not match C++ signature:\n",
      "    GetMACCSKeysFingerprint(class RDKit::ROMol mol)\n"
     ]
    },
    {
     "name": "stderr",
     "output_type": "stream",
     "text": [
      "[17:33:17] Explicit valence for atom # 0 N, 4, is greater than permitted\n"
     ]
    },
    {
     "name": "stdout",
     "output_type": "stream",
     "text": [
      "41612   Python argument types in\n",
      "    rdkit.Chem.rdMolDescriptors.GetMACCSKeysFingerprint(NoneType)\n",
      "did not match C++ signature:\n",
      "    GetMACCSKeysFingerprint(class RDKit::ROMol mol)\n"
     ]
    },
    {
     "name": "stderr",
     "output_type": "stream",
     "text": [
      "[17:33:57] Explicit valence for atom # 0 N, 4, is greater than permitted\n"
     ]
    },
    {
     "name": "stdout",
     "output_type": "stream",
     "text": [
      "46020   Python argument types in\n",
      "    rdkit.Chem.rdMolDescriptors.GetMACCSKeysFingerprint(NoneType)\n",
      "did not match C++ signature:\n",
      "    GetMACCSKeysFingerprint(class RDKit::ROMol mol)\n"
     ]
    },
    {
     "name": "stderr",
     "output_type": "stream",
     "text": [
      "[17:34:13] Explicit valence for atom # 0 N, 4, is greater than permitted\n"
     ]
    },
    {
     "name": "stdout",
     "output_type": "stream",
     "text": [
      "47737   Python argument types in\n",
      "    rdkit.Chem.rdMolDescriptors.GetMACCSKeysFingerprint(NoneType)\n",
      "did not match C++ signature:\n",
      "    GetMACCSKeysFingerprint(class RDKit::ROMol mol)\n"
     ]
    },
    {
     "name": "stderr",
     "output_type": "stream",
     "text": [
      "[17:34:32] Explicit valence for atom # 0 N, 4, is greater than permitted\n"
     ]
    },
    {
     "name": "stdout",
     "output_type": "stream",
     "text": [
      "49932   Python argument types in\n",
      "    rdkit.Chem.rdMolDescriptors.GetMACCSKeysFingerprint(NoneType)\n",
      "did not match C++ signature:\n",
      "    GetMACCSKeysFingerprint(class RDKit::ROMol mol)\n"
     ]
    },
    {
     "name": "stderr",
     "output_type": "stream",
     "text": [
      "[17:34:46] Explicit valence for atom # 0 N, 4, is greater than permitted\n"
     ]
    },
    {
     "name": "stdout",
     "output_type": "stream",
     "text": [
      "51601   Python argument types in\n",
      "    rdkit.Chem.rdMolDescriptors.GetMACCSKeysFingerprint(NoneType)\n",
      "did not match C++ signature:\n",
      "    GetMACCSKeysFingerprint(class RDKit::ROMol mol)\n",
      "55434   Python argument types in\n",
      "    rdkit.Chem.rdMolDescriptors.GetMACCSKeysFingerprint(NoneType)\n",
      "did not match C++ signature:\n",
      "    GetMACCSKeysFingerprint(class RDKit::ROMol mol)\n"
     ]
    },
    {
     "name": "stderr",
     "output_type": "stream",
     "text": [
      "[17:35:21] Explicit valence for atom # 0 N, 4, is greater than permitted\n",
      "[17:35:21] Explicit valence for atom # 0 N, 4, is greater than permitted\n"
     ]
    },
    {
     "name": "stdout",
     "output_type": "stream",
     "text": [
      "55472   Python argument types in\n",
      "    rdkit.Chem.rdMolDescriptors.GetMACCSKeysFingerprint(NoneType)\n",
      "did not match C++ signature:\n",
      "    GetMACCSKeysFingerprint(class RDKit::ROMol mol)\n"
     ]
    },
    {
     "name": "stderr",
     "output_type": "stream",
     "text": [
      "[17:35:23] Explicit valence for atom # 0 N, 4, is greater than permitted\n"
     ]
    },
    {
     "name": "stdout",
     "output_type": "stream",
     "text": [
      "55718   Python argument types in\n",
      "    rdkit.Chem.rdMolDescriptors.GetMACCSKeysFingerprint(NoneType)\n",
      "did not match C++ signature:\n",
      "    GetMACCSKeysFingerprint(class RDKit::ROMol mol)\n"
     ]
    },
    {
     "name": "stderr",
     "output_type": "stream",
     "text": [
      "[17:35:32] Explicit valence for atom # 0 N, 4, is greater than permitted\n"
     ]
    },
    {
     "name": "stdout",
     "output_type": "stream",
     "text": [
      "56714   Python argument types in\n",
      "    rdkit.Chem.rdMolDescriptors.GetMACCSKeysFingerprint(NoneType)\n",
      "did not match C++ signature:\n",
      "    GetMACCSKeysFingerprint(class RDKit::ROMol mol)\n"
     ]
    },
    {
     "name": "stderr",
     "output_type": "stream",
     "text": [
      "[17:35:54] Explicit valence for atom # 0 N, 4, is greater than permitted\n"
     ]
    },
    {
     "name": "stdout",
     "output_type": "stream",
     "text": [
      "59247   Python argument types in\n",
      "    rdkit.Chem.rdMolDescriptors.GetMACCSKeysFingerprint(NoneType)\n",
      "did not match C++ signature:\n",
      "    GetMACCSKeysFingerprint(class RDKit::ROMol mol)\n"
     ]
    },
    {
     "name": "stderr",
     "output_type": "stream",
     "text": [
      "[17:36:04] Explicit valence for atom # 0 N, 4, is greater than permitted\n",
      "[17:36:04] Explicit valence for atom # 0 N, 4, is greater than permitted\n",
      "[17:36:04] Explicit valence for atom # 0 N, 4, is greater than permitted\n"
     ]
    },
    {
     "name": "stdout",
     "output_type": "stream",
     "text": [
      "60444   Python argument types in\n",
      "    rdkit.Chem.rdMolDescriptors.GetMACCSKeysFingerprint(NoneType)\n",
      "did not match C++ signature:\n",
      "    GetMACCSKeysFingerprint(class RDKit::ROMol mol)\n",
      "60447   Python argument types in\n",
      "    rdkit.Chem.rdMolDescriptors.GetMACCSKeysFingerprint(NoneType)\n",
      "did not match C++ signature:\n",
      "    GetMACCSKeysFingerprint(class RDKit::ROMol mol)\n",
      "60448   Python argument types in\n",
      "    rdkit.Chem.rdMolDescriptors.GetMACCSKeysFingerprint(NoneType)\n",
      "did not match C++ signature:\n",
      "    GetMACCSKeysFingerprint(class RDKit::ROMol mol)\n"
     ]
    },
    {
     "name": "stderr",
     "output_type": "stream",
     "text": [
      "[17:36:22] Explicit valence for atom # 0 N, 4, is greater than permitted\n"
     ]
    },
    {
     "name": "stdout",
     "output_type": "stream",
     "text": [
      "62499   Python argument types in\n",
      "    rdkit.Chem.rdMolDescriptors.GetMACCSKeysFingerprint(NoneType)\n",
      "did not match C++ signature:\n",
      "    GetMACCSKeysFingerprint(class RDKit::ROMol mol)\n"
     ]
    },
    {
     "name": "stderr",
     "output_type": "stream",
     "text": [
      "[17:36:37] Explicit valence for atom # 0 N, 4, is greater than permitted\n",
      "[17:36:38] Explicit valence for atom # 0 N, 4, is greater than permitted\n",
      "[17:36:38] Explicit valence for atom # 0 N, 4, is greater than permitted\n"
     ]
    },
    {
     "name": "stdout",
     "output_type": "stream",
     "text": [
      "64299   Python argument types in\n",
      "    rdkit.Chem.rdMolDescriptors.GetMACCSKeysFingerprint(NoneType)\n",
      "did not match C++ signature:\n",
      "    GetMACCSKeysFingerprint(class RDKit::ROMol mol)\n",
      "64310   Python argument types in\n",
      "    rdkit.Chem.rdMolDescriptors.GetMACCSKeysFingerprint(NoneType)\n",
      "did not match C++ signature:\n",
      "    GetMACCSKeysFingerprint(class RDKit::ROMol mol)\n",
      "64312   Python argument types in\n",
      "    rdkit.Chem.rdMolDescriptors.GetMACCSKeysFingerprint(NoneType)\n",
      "did not match C++ signature:\n",
      "    GetMACCSKeysFingerprint(class RDKit::ROMol mol)\n"
     ]
    },
    {
     "name": "stderr",
     "output_type": "stream",
     "text": [
      "[17:37:04] Explicit valence for atom # 0 N, 4, is greater than permitted\n"
     ]
    },
    {
     "name": "stdout",
     "output_type": "stream",
     "text": [
      "67335   Python argument types in\n",
      "    rdkit.Chem.rdMolDescriptors.GetMACCSKeysFingerprint(NoneType)\n",
      "did not match C++ signature:\n",
      "    GetMACCSKeysFingerprint(class RDKit::ROMol mol)\n"
     ]
    },
    {
     "name": "stderr",
     "output_type": "stream",
     "text": [
      "[17:37:11] Explicit valence for atom # 0 N, 4, is greater than permitted\n"
     ]
    },
    {
     "name": "stdout",
     "output_type": "stream",
     "text": [
      "68020   Python argument types in\n",
      "    rdkit.Chem.rdMolDescriptors.GetMACCSKeysFingerprint(NoneType)\n",
      "did not match C++ signature:\n",
      "    GetMACCSKeysFingerprint(class RDKit::ROMol mol)\n"
     ]
    },
    {
     "name": "stderr",
     "output_type": "stream",
     "text": [
      "[17:37:41] Explicit valence for atom # 0 N, 4, is greater than permitted\n"
     ]
    },
    {
     "name": "stdout",
     "output_type": "stream",
     "text": [
      "71742   Python argument types in\n",
      "    rdkit.Chem.rdMolDescriptors.GetMACCSKeysFingerprint(NoneType)\n",
      "did not match C++ signature:\n",
      "    GetMACCSKeysFingerprint(class RDKit::ROMol mol)\n"
     ]
    },
    {
     "name": "stderr",
     "output_type": "stream",
     "text": [
      "[17:38:12] Explicit valence for atom # 0 N, 4, is greater than permitted\n"
     ]
    },
    {
     "name": "stdout",
     "output_type": "stream",
     "text": [
      "75475   Python argument types in\n",
      "    rdkit.Chem.rdMolDescriptors.GetMACCSKeysFingerprint(NoneType)\n",
      "did not match C++ signature:\n",
      "    GetMACCSKeysFingerprint(class RDKit::ROMol mol)\n"
     ]
    },
    {
     "name": "stderr",
     "output_type": "stream",
     "text": [
      "[17:39:32] Explicit valence for atom # 0 N, 4, is greater than permitted\n"
     ]
    },
    {
     "name": "stdout",
     "output_type": "stream",
     "text": [
      "85180   Python argument types in\n",
      "    rdkit.Chem.rdMolDescriptors.GetMACCSKeysFingerprint(NoneType)\n",
      "did not match C++ signature:\n",
      "    GetMACCSKeysFingerprint(class RDKit::ROMol mol)\n"
     ]
    },
    {
     "name": "stderr",
     "output_type": "stream",
     "text": [
      "[17:39:33] Explicit valence for atom # 0 N, 4, is greater than permitted\n"
     ]
    },
    {
     "name": "stdout",
     "output_type": "stream",
     "text": [
      "85332   Python argument types in\n",
      "    rdkit.Chem.rdMolDescriptors.GetMACCSKeysFingerprint(NoneType)\n",
      "did not match C++ signature:\n",
      "    GetMACCSKeysFingerprint(class RDKit::ROMol mol)\n"
     ]
    },
    {
     "name": "stderr",
     "output_type": "stream",
     "text": [
      "[17:39:48] Explicit valence for atom # 0 N, 4, is greater than permitted\n"
     ]
    },
    {
     "name": "stdout",
     "output_type": "stream",
     "text": [
      "87199   Python argument types in\n",
      "    rdkit.Chem.rdMolDescriptors.GetMACCSKeysFingerprint(NoneType)\n",
      "did not match C++ signature:\n",
      "    GetMACCSKeysFingerprint(class RDKit::ROMol mol)\n"
     ]
    },
    {
     "name": "stderr",
     "output_type": "stream",
     "text": [
      "[17:40:44] Explicit valence for atom # 0 N, 4, is greater than permitted\n"
     ]
    },
    {
     "name": "stdout",
     "output_type": "stream",
     "text": [
      "93809   Python argument types in\n",
      "    rdkit.Chem.rdMolDescriptors.GetMACCSKeysFingerprint(NoneType)\n",
      "did not match C++ signature:\n",
      "    GetMACCSKeysFingerprint(class RDKit::ROMol mol)\n"
     ]
    },
    {
     "name": "stderr",
     "output_type": "stream",
     "text": [
      "[17:40:58] Explicit valence for atom # 0 N, 4, is greater than permitted\n",
      "[17:40:58] Explicit valence for atom # 0 N, 4, is greater than permitted\n"
     ]
    },
    {
     "name": "stdout",
     "output_type": "stream",
     "text": [
      "95472   Python argument types in\n",
      "    rdkit.Chem.rdMolDescriptors.GetMACCSKeysFingerprint(NoneType)\n",
      "did not match C++ signature:\n",
      "    GetMACCSKeysFingerprint(class RDKit::ROMol mol)\n",
      "95473   Python argument types in\n",
      "    rdkit.Chem.rdMolDescriptors.GetMACCSKeysFingerprint(NoneType)\n",
      "did not match C++ signature:\n",
      "    GetMACCSKeysFingerprint(class RDKit::ROMol mol)\n"
     ]
    },
    {
     "name": "stderr",
     "output_type": "stream",
     "text": [
      "[17:41:08] SMILES Parse Error: syntax error while parsing: OC1=CC=CC(=C1)C-1=C2\\CCC(=N2)\\C(=C2/N\\C(\\C=C2)=C(/C2=N/C(/C=C2)=C(\\C2=CC=C\\-1N2)C1=CC(O)=CC=C1)C1=CC(O)=CC=C1)\\C1=CC(O)=CC=C1\n",
      "[17:41:08] SMILES Parse Error: Failed parsing SMILES 'OC1=CC=CC(=C1)C-1=C2\\CCC(=N2)\\C(=C2/N\\C(\\C=C2)=C(/C2=N/C(/C=C2)=C(\\C2=CC=C\\-1N2)C1=CC(O)=CC=C1)C1=CC(O)=CC=C1)\\C1=CC(O)=CC=C1' for input: 'OC1=CC=CC(=C1)C-1=C2\\CCC(=N2)\\C(=C2/N\\C(\\C=C2)=C(/C2=N/C(/C=C2)=C(\\C2=CC=C\\-1N2)C1=CC(O)=CC=C1)C1=CC(O)=CC=C1)\\C1=CC(O)=CC=C1'\n"
     ]
    },
    {
     "name": "stdout",
     "output_type": "stream",
     "text": [
      "96666   Python argument types in\n",
      "    rdkit.Chem.rdMolDescriptors.GetMACCSKeysFingerprint(NoneType)\n",
      "did not match C++ signature:\n",
      "    GetMACCSKeysFingerprint(class RDKit::ROMol mol)\n"
     ]
    },
    {
     "name": "stderr",
     "output_type": "stream",
     "text": [
      "[17:42:02] Explicit valence for atom # 0 N, 4, is greater than permitted\n"
     ]
    },
    {
     "name": "stdout",
     "output_type": "stream",
     "text": [
      "103216   Python argument types in\n",
      "    rdkit.Chem.rdMolDescriptors.GetMACCSKeysFingerprint(NoneType)\n",
      "did not match C++ signature:\n",
      "    GetMACCSKeysFingerprint(class RDKit::ROMol mol)\n"
     ]
    },
    {
     "name": "stderr",
     "output_type": "stream",
     "text": [
      "[17:42:43] Explicit valence for atom # 0 N, 4, is greater than permitted\n"
     ]
    },
    {
     "name": "stdout",
     "output_type": "stream",
     "text": [
      "108130   Python argument types in\n",
      "    rdkit.Chem.rdMolDescriptors.GetMACCSKeysFingerprint(NoneType)\n",
      "did not match C++ signature:\n",
      "    GetMACCSKeysFingerprint(class RDKit::ROMol mol)\n"
     ]
    },
    {
     "name": "stderr",
     "output_type": "stream",
     "text": [
      "[17:42:51] Explicit valence for atom # 0 N, 4, is greater than permitted\n"
     ]
    },
    {
     "name": "stdout",
     "output_type": "stream",
     "text": [
      "109115   Python argument types in\n",
      "    rdkit.Chem.rdMolDescriptors.GetMACCSKeysFingerprint(NoneType)\n",
      "did not match C++ signature:\n",
      "    GetMACCSKeysFingerprint(class RDKit::ROMol mol)\n"
     ]
    },
    {
     "name": "stderr",
     "output_type": "stream",
     "text": [
      "[17:42:58] SMILES Parse Error: syntax error while parsing: OC1=CC=CC(=C1)C-1=C2\\CCC(=N2)\\C(=C2/N\\C(\\C=C2)=C(/C2=N/C(/C=C2)=C(\\C2=CC=C\\-1N2)C1=CC(O)=CC=C1)C1=CC(O)=CC=C1)\\C1=CC(O)=CC=C1\n",
      "[17:42:58] SMILES Parse Error: Failed parsing SMILES 'OC1=CC=CC(=C1)C-1=C2\\CCC(=N2)\\C(=C2/N\\C(\\C=C2)=C(/C2=N/C(/C=C2)=C(\\C2=CC=C\\-1N2)C1=CC(O)=CC=C1)C1=CC(O)=CC=C1)\\C1=CC(O)=CC=C1' for input: 'OC1=CC=CC(=C1)C-1=C2\\CCC(=N2)\\C(=C2/N\\C(\\C=C2)=C(/C2=N/C(/C=C2)=C(\\C2=CC=C\\-1N2)C1=CC(O)=CC=C1)C1=CC(O)=CC=C1)\\C1=CC(O)=CC=C1'\n"
     ]
    },
    {
     "name": "stdout",
     "output_type": "stream",
     "text": [
      "109913   Python argument types in\n",
      "    rdkit.Chem.rdMolDescriptors.GetMACCSKeysFingerprint(NoneType)\n",
      "did not match C++ signature:\n",
      "    GetMACCSKeysFingerprint(class RDKit::ROMol mol)\n"
     ]
    },
    {
     "name": "stderr",
     "output_type": "stream",
     "text": [
      "[17:43:31] Explicit valence for atom # 0 N, 4, is greater than permitted\n"
     ]
    },
    {
     "name": "stdout",
     "output_type": "stream",
     "text": [
      "113988   Python argument types in\n",
      "    rdkit.Chem.rdMolDescriptors.GetMACCSKeysFingerprint(NoneType)\n",
      "did not match C++ signature:\n",
      "    GetMACCSKeysFingerprint(class RDKit::ROMol mol)\n"
     ]
    },
    {
     "name": "stderr",
     "output_type": "stream",
     "text": [
      "[17:43:47] Explicit valence for atom # 0 N, 4, is greater than permitted\n"
     ]
    },
    {
     "name": "stdout",
     "output_type": "stream",
     "text": [
      "115983   Python argument types in\n",
      "    rdkit.Chem.rdMolDescriptors.GetMACCSKeysFingerprint(NoneType)\n",
      "did not match C++ signature:\n",
      "    GetMACCSKeysFingerprint(class RDKit::ROMol mol)\n"
     ]
    },
    {
     "name": "stderr",
     "output_type": "stream",
     "text": [
      "[17:44:05] Explicit valence for atom # 0 N, 4, is greater than permitted\n"
     ]
    },
    {
     "name": "stdout",
     "output_type": "stream",
     "text": [
      "118063   Python argument types in\n",
      "    rdkit.Chem.rdMolDescriptors.GetMACCSKeysFingerprint(NoneType)\n",
      "did not match C++ signature:\n",
      "    GetMACCSKeysFingerprint(class RDKit::ROMol mol)\n"
     ]
    },
    {
     "name": "stderr",
     "output_type": "stream",
     "text": [
      "[17:44:44] Explicit valence for atom # 0 N, 4, is greater than permitted\n"
     ]
    },
    {
     "name": "stdout",
     "output_type": "stream",
     "text": [
      "122650   Python argument types in\n",
      "    rdkit.Chem.rdMolDescriptors.GetMACCSKeysFingerprint(NoneType)\n",
      "did not match C++ signature:\n",
      "    GetMACCSKeysFingerprint(class RDKit::ROMol mol)\n"
     ]
    },
    {
     "name": "stderr",
     "output_type": "stream",
     "text": [
      "[17:45:08] Explicit valence for atom # 0 N, 4, is greater than permitted\n"
     ]
    },
    {
     "name": "stdout",
     "output_type": "stream",
     "text": [
      "125399   Python argument types in\n",
      "    rdkit.Chem.rdMolDescriptors.GetMACCSKeysFingerprint(NoneType)\n",
      "did not match C++ signature:\n",
      "    GetMACCSKeysFingerprint(class RDKit::ROMol mol)\n"
     ]
    },
    {
     "name": "stderr",
     "output_type": "stream",
     "text": [
      "[17:45:11] Explicit valence for atom # 0 N, 4, is greater than permitted\n"
     ]
    },
    {
     "name": "stdout",
     "output_type": "stream",
     "text": [
      "125750   Python argument types in\n",
      "    rdkit.Chem.rdMolDescriptors.GetMACCSKeysFingerprint(NoneType)\n",
      "did not match C++ signature:\n",
      "    GetMACCSKeysFingerprint(class RDKit::ROMol mol)\n"
     ]
    },
    {
     "name": "stderr",
     "output_type": "stream",
     "text": [
      "[17:45:12] SMILES Parse Error: syntax error while parsing: OC1=CC=CC(=C1)C-1=C2\\CCC(=N2)\\C(=C2/N\\C(\\C=C2)=C(/C2=N/C(/C=C2)=C(\\C2=CC=C\\-1N2)C1=CC(O)=CC=C1)C1=CC(O)=CC=C1)\\C1=CC(O)=CC=C1\n",
      "[17:45:12] SMILES Parse Error: Failed parsing SMILES 'OC1=CC=CC(=C1)C-1=C2\\CCC(=N2)\\C(=C2/N\\C(\\C=C2)=C(/C2=N/C(/C=C2)=C(\\C2=CC=C\\-1N2)C1=CC(O)=CC=C1)C1=CC(O)=CC=C1)\\C1=CC(O)=CC=C1' for input: 'OC1=CC=CC(=C1)C-1=C2\\CCC(=N2)\\C(=C2/N\\C(\\C=C2)=C(/C2=N/C(/C=C2)=C(\\C2=CC=C\\-1N2)C1=CC(O)=CC=C1)C1=CC(O)=CC=C1)\\C1=CC(O)=CC=C1'\n"
     ]
    },
    {
     "name": "stdout",
     "output_type": "stream",
     "text": [
      "125861   Python argument types in\n",
      "    rdkit.Chem.rdMolDescriptors.GetMACCSKeysFingerprint(NoneType)\n",
      "did not match C++ signature:\n",
      "    GetMACCSKeysFingerprint(class RDKit::ROMol mol)\n"
     ]
    },
    {
     "name": "stderr",
     "output_type": "stream",
     "text": [
      "[17:45:28] Explicit valence for atom # 0 N, 4, is greater than permitted\n"
     ]
    },
    {
     "name": "stdout",
     "output_type": "stream",
     "text": [
      "127836   Python argument types in\n",
      "    rdkit.Chem.rdMolDescriptors.GetMACCSKeysFingerprint(NoneType)\n",
      "did not match C++ signature:\n",
      "    GetMACCSKeysFingerprint(class RDKit::ROMol mol)\n"
     ]
    },
    {
     "name": "stderr",
     "output_type": "stream",
     "text": [
      "[17:45:56] Explicit valence for atom # 0 N, 4, is greater than permitted\n",
      "[17:45:56] Explicit valence for atom # 0 N, 4, is greater than permitted\n",
      "[17:45:56] Explicit valence for atom # 0 N, 4, is greater than permitted\n"
     ]
    },
    {
     "name": "stdout",
     "output_type": "stream",
     "text": [
      "131295   Python argument types in\n",
      "    rdkit.Chem.rdMolDescriptors.GetMACCSKeysFingerprint(NoneType)\n",
      "did not match C++ signature:\n",
      "    GetMACCSKeysFingerprint(class RDKit::ROMol mol)\n",
      "131306   Python argument types in\n",
      "    rdkit.Chem.rdMolDescriptors.GetMACCSKeysFingerprint(NoneType)\n",
      "did not match C++ signature:\n",
      "    GetMACCSKeysFingerprint(class RDKit::ROMol mol)\n",
      "131310   Python argument types in\n",
      "    rdkit.Chem.rdMolDescriptors.GetMACCSKeysFingerprint(NoneType)\n",
      "did not match C++ signature:\n",
      "    GetMACCSKeysFingerprint(class RDKit::ROMol mol)\n"
     ]
    },
    {
     "name": "stderr",
     "output_type": "stream",
     "text": [
      "[17:45:56] Explicit valence for atom # 0 N, 4, is greater than permitted\n",
      "[17:45:56] Explicit valence for atom # 0 N, 4, is greater than permitted\n",
      "[17:45:57] Explicit valence for atom # 0 N, 4, is greater than permitted\n",
      "[17:45:57] Explicit valence for atom # 0 N, 4, is greater than permitted\n",
      "[17:45:57] Explicit valence for atom # 0 N, 4, is greater than permitted\n",
      "[17:45:57] Explicit valence for atom # 0 N, 4, is greater than permitted\n"
     ]
    },
    {
     "name": "stdout",
     "output_type": "stream",
     "text": [
      "131327   Python argument types in\n",
      "    rdkit.Chem.rdMolDescriptors.GetMACCSKeysFingerprint(NoneType)\n",
      "did not match C++ signature:\n",
      "    GetMACCSKeysFingerprint(class RDKit::ROMol mol)\n",
      "131335   Python argument types in\n",
      "    rdkit.Chem.rdMolDescriptors.GetMACCSKeysFingerprint(NoneType)\n",
      "did not match C++ signature:\n",
      "    GetMACCSKeysFingerprint(class RDKit::ROMol mol)\n",
      "131345   Python argument types in\n",
      "    rdkit.Chem.rdMolDescriptors.GetMACCSKeysFingerprint(NoneType)\n",
      "did not match C++ signature:\n",
      "    GetMACCSKeysFingerprint(class RDKit::ROMol mol)\n",
      "131366   Python argument types in\n",
      "    rdkit.Chem.rdMolDescriptors.GetMACCSKeysFingerprint(NoneType)\n",
      "did not match C++ signature:\n",
      "    GetMACCSKeysFingerprint(class RDKit::ROMol mol)\n",
      "131376   Python argument types in\n",
      "    rdkit.Chem.rdMolDescriptors.GetMACCSKeysFingerprint(NoneType)\n",
      "did not match C++ signature:\n",
      "    GetMACCSKeysFingerprint(class RDKit::ROMol mol)\n",
      "131377   Python argument types in\n",
      "    rdkit.Chem.rdMolDescriptors.GetMACCSKeysFingerprint(NoneType)\n",
      "did not match C++ signature:\n",
      "    GetMACCSKeysFingerprint(class RDKit::ROMol mol)\n"
     ]
    },
    {
     "name": "stderr",
     "output_type": "stream",
     "text": [
      "[17:45:57] Explicit valence for atom # 0 N, 4, is greater than permitted\n"
     ]
    },
    {
     "name": "stdout",
     "output_type": "stream",
     "text": [
      "131384   Python argument types in\n",
      "    rdkit.Chem.rdMolDescriptors.GetMACCSKeysFingerprint(NoneType)\n",
      "did not match C++ signature:\n",
      "    GetMACCSKeysFingerprint(class RDKit::ROMol mol)\n"
     ]
    },
    {
     "name": "stderr",
     "output_type": "stream",
     "text": [
      "[17:45:57] Explicit valence for atom # 0 N, 4, is greater than permitted\n"
     ]
    },
    {
     "name": "stdout",
     "output_type": "stream",
     "text": [
      "131421   Python argument types in\n",
      "    rdkit.Chem.rdMolDescriptors.GetMACCSKeysFingerprint(NoneType)\n",
      "did not match C++ signature:\n",
      "    GetMACCSKeysFingerprint(class RDKit::ROMol mol)\n"
     ]
    },
    {
     "name": "stderr",
     "output_type": "stream",
     "text": [
      "[17:45:58] Explicit valence for atom # 0 N, 4, is greater than permitted\n",
      "[17:45:58] Explicit valence for atom # 0 N, 4, is greater than permitted\n",
      "[17:45:58] Explicit valence for atom # 0 N, 4, is greater than permitted\n"
     ]
    },
    {
     "name": "stdout",
     "output_type": "stream",
     "text": [
      "131497   Python argument types in\n",
      "    rdkit.Chem.rdMolDescriptors.GetMACCSKeysFingerprint(NoneType)\n",
      "did not match C++ signature:\n",
      "    GetMACCSKeysFingerprint(class RDKit::ROMol mol)\n",
      "131519   Python argument types in\n",
      "    rdkit.Chem.rdMolDescriptors.GetMACCSKeysFingerprint(NoneType)\n",
      "did not match C++ signature:\n",
      "    GetMACCSKeysFingerprint(class RDKit::ROMol mol)\n",
      "131520   Python argument types in\n",
      "    rdkit.Chem.rdMolDescriptors.GetMACCSKeysFingerprint(NoneType)\n",
      "did not match C++ signature:\n",
      "    GetMACCSKeysFingerprint(class RDKit::ROMol mol)\n"
     ]
    },
    {
     "name": "stderr",
     "output_type": "stream",
     "text": [
      "[17:45:58] Explicit valence for atom # 0 N, 4, is greater than permitted\n",
      "[17:45:58] Explicit valence for atom # 0 N, 4, is greater than permitted\n",
      "[17:45:58] Explicit valence for atom # 0 N, 4, is greater than permitted\n"
     ]
    },
    {
     "name": "stdout",
     "output_type": "stream",
     "text": [
      "131541   Python argument types in\n",
      "    rdkit.Chem.rdMolDescriptors.GetMACCSKeysFingerprint(NoneType)\n",
      "did not match C++ signature:\n",
      "    GetMACCSKeysFingerprint(class RDKit::ROMol mol)\n",
      "131566   Python argument types in\n",
      "    rdkit.Chem.rdMolDescriptors.GetMACCSKeysFingerprint(NoneType)\n",
      "did not match C++ signature:\n",
      "    GetMACCSKeysFingerprint(class RDKit::ROMol mol)\n",
      "131569   Python argument types in\n",
      "    rdkit.Chem.rdMolDescriptors.GetMACCSKeysFingerprint(NoneType)\n",
      "did not match C++ signature:\n",
      "    GetMACCSKeysFingerprint(class RDKit::ROMol mol)\n"
     ]
    },
    {
     "name": "stderr",
     "output_type": "stream",
     "text": [
      "[17:45:59] Explicit valence for atom # 0 N, 4, is greater than permitted\n",
      "[17:45:59] Explicit valence for atom # 0 N, 4, is greater than permitted\n"
     ]
    },
    {
     "name": "stdout",
     "output_type": "stream",
     "text": [
      "131610   Python argument types in\n",
      "    rdkit.Chem.rdMolDescriptors.GetMACCSKeysFingerprint(NoneType)\n",
      "did not match C++ signature:\n",
      "    GetMACCSKeysFingerprint(class RDKit::ROMol mol)\n",
      "131628   Python argument types in\n",
      "    rdkit.Chem.rdMolDescriptors.GetMACCSKeysFingerprint(NoneType)\n",
      "did not match C++ signature:\n",
      "    GetMACCSKeysFingerprint(class RDKit::ROMol mol)\n"
     ]
    },
    {
     "name": "stderr",
     "output_type": "stream",
     "text": [
      "[17:45:59] Explicit valence for atom # 0 N, 4, is greater than permitted\n",
      "[17:45:59] Explicit valence for atom # 0 N, 4, is greater than permitted\n"
     ]
    },
    {
     "name": "stdout",
     "output_type": "stream",
     "text": [
      "131676   Python argument types in\n",
      "    rdkit.Chem.rdMolDescriptors.GetMACCSKeysFingerprint(NoneType)\n",
      "did not match C++ signature:\n",
      "    GetMACCSKeysFingerprint(class RDKit::ROMol mol)\n",
      "131697   Python argument types in\n",
      "    rdkit.Chem.rdMolDescriptors.GetMACCSKeysFingerprint(NoneType)\n",
      "did not match C++ signature:\n",
      "    GetMACCSKeysFingerprint(class RDKit::ROMol mol)\n"
     ]
    },
    {
     "name": "stderr",
     "output_type": "stream",
     "text": [
      "[17:46:00] Explicit valence for atom # 0 N, 4, is greater than permitted\n"
     ]
    },
    {
     "name": "stdout",
     "output_type": "stream",
     "text": [
      "131728   Python argument types in\n",
      "    rdkit.Chem.rdMolDescriptors.GetMACCSKeysFingerprint(NoneType)\n",
      "did not match C++ signature:\n",
      "    GetMACCSKeysFingerprint(class RDKit::ROMol mol)\n"
     ]
    },
    {
     "name": "stderr",
     "output_type": "stream",
     "text": [
      "[17:46:01] Explicit valence for atom # 0 N, 4, is greater than permitted\n",
      "[17:46:01] Explicit valence for atom # 0 N, 4, is greater than permitted\n"
     ]
    },
    {
     "name": "stdout",
     "output_type": "stream",
     "text": [
      "131858   Python argument types in\n",
      "    rdkit.Chem.rdMolDescriptors.GetMACCSKeysFingerprint(NoneType)\n",
      "did not match C++ signature:\n",
      "    GetMACCSKeysFingerprint(class RDKit::ROMol mol)\n",
      "131871   Python argument types in\n",
      "    rdkit.Chem.rdMolDescriptors.GetMACCSKeysFingerprint(NoneType)\n",
      "did not match C++ signature:\n",
      "    GetMACCSKeysFingerprint(class RDKit::ROMol mol)\n"
     ]
    },
    {
     "name": "stderr",
     "output_type": "stream",
     "text": [
      "[17:46:01] Explicit valence for atom # 0 N, 4, is greater than permitted\n"
     ]
    },
    {
     "name": "stdout",
     "output_type": "stream",
     "text": [
      "131895   Python argument types in\n",
      "    rdkit.Chem.rdMolDescriptors.GetMACCSKeysFingerprint(NoneType)\n",
      "did not match C++ signature:\n",
      "    GetMACCSKeysFingerprint(class RDKit::ROMol mol)\n"
     ]
    },
    {
     "name": "stderr",
     "output_type": "stream",
     "text": [
      "[17:46:02] Explicit valence for atom # 0 N, 4, is greater than permitted\n",
      "[17:46:02] Explicit valence for atom # 0 N, 4, is greater than permitted\n"
     ]
    },
    {
     "name": "stdout",
     "output_type": "stream",
     "text": [
      "131933   Python argument types in\n",
      "    rdkit.Chem.rdMolDescriptors.GetMACCSKeysFingerprint(NoneType)\n",
      "did not match C++ signature:\n",
      "    GetMACCSKeysFingerprint(class RDKit::ROMol mol)\n",
      "131937   Python argument types in\n",
      "    rdkit.Chem.rdMolDescriptors.GetMACCSKeysFingerprint(NoneType)\n",
      "did not match C++ signature:\n",
      "    GetMACCSKeysFingerprint(class RDKit::ROMol mol)\n"
     ]
    },
    {
     "name": "stderr",
     "output_type": "stream",
     "text": [
      "[17:46:02] Explicit valence for atom # 0 N, 4, is greater than permitted\n"
     ]
    },
    {
     "name": "stdout",
     "output_type": "stream",
     "text": [
      "131976   Python argument types in\n",
      "    rdkit.Chem.rdMolDescriptors.GetMACCSKeysFingerprint(NoneType)\n",
      "did not match C++ signature:\n",
      "    GetMACCSKeysFingerprint(class RDKit::ROMol mol)\n"
     ]
    },
    {
     "name": "stderr",
     "output_type": "stream",
     "text": [
      "[17:46:03] Explicit valence for atom # 0 N, 4, is greater than permitted\n",
      "[17:46:03] SMILES Parse Error: syntax error while parsing: OC1=CC=CC(=C1)C-1=C2\\CCC(=N2)\\C(=C2/N\\C(\\C=C2)=C(/C2=N/C(/C=C2)=C(\\C2=CC=C\\-1N2)C1=CC(O)=CC=C1)C1=CC(O)=CC=C1)\\C1=CC(O)=CC=C1\n",
      "[17:46:03] SMILES Parse Error: Failed parsing SMILES 'OC1=CC=CC(=C1)C-1=C2\\CCC(=N2)\\C(=C2/N\\C(\\C=C2)=C(/C2=N/C(/C=C2)=C(\\C2=CC=C\\-1N2)C1=CC(O)=CC=C1)C1=CC(O)=CC=C1)\\C1=CC(O)=CC=C1' for input: 'OC1=CC=CC(=C1)C-1=C2\\CCC(=N2)\\C(=C2/N\\C(\\C=C2)=C(/C2=N/C(/C=C2)=C(\\C2=CC=C\\-1N2)C1=CC(O)=CC=C1)C1=CC(O)=CC=C1)\\C1=CC(O)=CC=C1'\n"
     ]
    },
    {
     "name": "stdout",
     "output_type": "stream",
     "text": [
      "132009   Python argument types in\n",
      "    rdkit.Chem.rdMolDescriptors.GetMACCSKeysFingerprint(NoneType)\n",
      "did not match C++ signature:\n",
      "    GetMACCSKeysFingerprint(class RDKit::ROMol mol)\n",
      "132014   Python argument types in\n",
      "    rdkit.Chem.rdMolDescriptors.GetMACCSKeysFingerprint(NoneType)\n",
      "did not match C++ signature:\n",
      "    GetMACCSKeysFingerprint(class RDKit::ROMol mol)\n"
     ]
    },
    {
     "name": "stderr",
     "output_type": "stream",
     "text": [
      "[17:46:03] SMILES Parse Error: syntax error while parsing: OC1=CC=CC(=C1)C-1=C2\\CCC(=N2)\\C(=C2/N\\C(\\C=C2)=C(/C2=N/C(/C=C2)=C(\\C2=CC=C\\-1N2)C1=CC(O)=CC=C1)C1=CC(O)=CC=C1)\\C1=CC(O)=CC=C1\n",
      "[17:46:03] SMILES Parse Error: Failed parsing SMILES 'OC1=CC=CC(=C1)C-1=C2\\CCC(=N2)\\C(=C2/N\\C(\\C=C2)=C(/C2=N/C(/C=C2)=C(\\C2=CC=C\\-1N2)C1=CC(O)=CC=C1)C1=CC(O)=CC=C1)\\C1=CC(O)=CC=C1' for input: 'OC1=CC=CC(=C1)C-1=C2\\CCC(=N2)\\C(=C2/N\\C(\\C=C2)=C(/C2=N/C(/C=C2)=C(\\C2=CC=C\\-1N2)C1=CC(O)=CC=C1)C1=CC(O)=CC=C1)\\C1=CC(O)=CC=C1'\n"
     ]
    },
    {
     "name": "stdout",
     "output_type": "stream",
     "text": [
      "132030   Python argument types in\n",
      "    rdkit.Chem.rdMolDescriptors.GetMACCSKeysFingerprint(NoneType)\n",
      "did not match C++ signature:\n",
      "    GetMACCSKeysFingerprint(class RDKit::ROMol mol)\n"
     ]
    },
    {
     "name": "stderr",
     "output_type": "stream",
     "text": [
      "[17:46:06] Explicit valence for atom # 0 N, 4, is greater than permitted\n",
      "[17:46:06] Explicit valence for atom # 0 N, 4, is greater than permitted\n"
     ]
    },
    {
     "name": "stdout",
     "output_type": "stream",
     "text": [
      "132177   Python argument types in\n",
      "    rdkit.Chem.rdMolDescriptors.GetMACCSKeysFingerprint(NoneType)\n",
      "did not match C++ signature:\n",
      "    GetMACCSKeysFingerprint(class RDKit::ROMol mol)\n",
      "132180   Python argument types in\n",
      "    rdkit.Chem.rdMolDescriptors.GetMACCSKeysFingerprint(NoneType)\n",
      "did not match C++ signature:\n",
      "    GetMACCSKeysFingerprint(class RDKit::ROMol mol)\n"
     ]
    },
    {
     "name": "stderr",
     "output_type": "stream",
     "text": [
      "[17:46:06] Explicit valence for atom # 0 N, 4, is greater than permitted\n"
     ]
    },
    {
     "name": "stdout",
     "output_type": "stream",
     "text": [
      "132201   Python argument types in\n",
      "    rdkit.Chem.rdMolDescriptors.GetMACCSKeysFingerprint(NoneType)\n",
      "did not match C++ signature:\n",
      "    GetMACCSKeysFingerprint(class RDKit::ROMol mol)\n"
     ]
    },
    {
     "name": "stderr",
     "output_type": "stream",
     "text": [
      "[17:46:07] SMILES Parse Error: syntax error while parsing: OC1=CC=CC(=C1)C-1=C2\\CCC(=N2)\\C(=C2/N\\C(\\C=C2)=C(/C2=N/C(/C=C2)=C(\\C2=CC=C\\-1N2)C1=CC(O)=CC=C1)C1=CC(O)=CC=C1)\\C1=CC(O)=CC=C1\n",
      "[17:46:07] SMILES Parse Error: Failed parsing SMILES 'OC1=CC=CC(=C1)C-1=C2\\CCC(=N2)\\C(=C2/N\\C(\\C=C2)=C(/C2=N/C(/C=C2)=C(\\C2=CC=C\\-1N2)C1=CC(O)=CC=C1)C1=CC(O)=CC=C1)\\C1=CC(O)=CC=C1' for input: 'OC1=CC=CC(=C1)C-1=C2\\CCC(=N2)\\C(=C2/N\\C(\\C=C2)=C(/C2=N/C(/C=C2)=C(\\C2=CC=C\\-1N2)C1=CC(O)=CC=C1)C1=CC(O)=CC=C1)\\C1=CC(O)=CC=C1'\n"
     ]
    },
    {
     "name": "stdout",
     "output_type": "stream",
     "text": [
      "132274   Python argument types in\n",
      "    rdkit.Chem.rdMolDescriptors.GetMACCSKeysFingerprint(NoneType)\n",
      "did not match C++ signature:\n",
      "    GetMACCSKeysFingerprint(class RDKit::ROMol mol)\n"
     ]
    },
    {
     "name": "stderr",
     "output_type": "stream",
     "text": [
      "[17:46:08] Explicit valence for atom # 0 N, 4, is greater than permitted\n"
     ]
    },
    {
     "name": "stdout",
     "output_type": "stream",
     "text": [
      "132321   Python argument types in\n",
      "    rdkit.Chem.rdMolDescriptors.GetMACCSKeysFingerprint(NoneType)\n",
      "did not match C++ signature:\n",
      "    GetMACCSKeysFingerprint(class RDKit::ROMol mol)\n"
     ]
    },
    {
     "name": "stderr",
     "output_type": "stream",
     "text": [
      "[17:46:09] Explicit valence for atom # 0 N, 4, is greater than permitted\n"
     ]
    },
    {
     "name": "stdout",
     "output_type": "stream",
     "text": [
      "132341   Python argument types in\n",
      "    rdkit.Chem.rdMolDescriptors.GetMACCSKeysFingerprint(NoneType)\n",
      "did not match C++ signature:\n",
      "    GetMACCSKeysFingerprint(class RDKit::ROMol mol)\n"
     ]
    },
    {
     "name": "stderr",
     "output_type": "stream",
     "text": [
      "[17:46:09] Explicit valence for atom # 0 N, 4, is greater than permitted\n"
     ]
    },
    {
     "name": "stdout",
     "output_type": "stream",
     "text": [
      "132398   Python argument types in\n",
      "    rdkit.Chem.rdMolDescriptors.GetMACCSKeysFingerprint(NoneType)\n",
      "did not match C++ signature:\n",
      "    GetMACCSKeysFingerprint(class RDKit::ROMol mol)\n"
     ]
    },
    {
     "name": "stderr",
     "output_type": "stream",
     "text": [
      "[17:46:11] Explicit valence for atom # 0 N, 4, is greater than permitted\n"
     ]
    },
    {
     "name": "stdout",
     "output_type": "stream",
     "text": [
      "132501   Python argument types in\n",
      "    rdkit.Chem.rdMolDescriptors.GetMACCSKeysFingerprint(NoneType)\n",
      "did not match C++ signature:\n",
      "    GetMACCSKeysFingerprint(class RDKit::ROMol mol)\n"
     ]
    },
    {
     "name": "stderr",
     "output_type": "stream",
     "text": [
      "[17:46:12] Explicit valence for atom # 0 N, 4, is greater than permitted\n"
     ]
    },
    {
     "name": "stdout",
     "output_type": "stream",
     "text": [
      "132524   Python argument types in\n",
      "    rdkit.Chem.rdMolDescriptors.GetMACCSKeysFingerprint(NoneType)\n",
      "did not match C++ signature:\n",
      "    GetMACCSKeysFingerprint(class RDKit::ROMol mol)\n"
     ]
    },
    {
     "name": "stderr",
     "output_type": "stream",
     "text": [
      "[17:46:13] Explicit valence for atom # 0 N, 4, is greater than permitted\n"
     ]
    },
    {
     "name": "stdout",
     "output_type": "stream",
     "text": [
      "132605   Python argument types in\n",
      "    rdkit.Chem.rdMolDescriptors.GetMACCSKeysFingerprint(NoneType)\n",
      "did not match C++ signature:\n",
      "    GetMACCSKeysFingerprint(class RDKit::ROMol mol)\n"
     ]
    },
    {
     "name": "stderr",
     "output_type": "stream",
     "text": [
      "[17:46:14] Explicit valence for atom # 0 N, 4, is greater than permitted\n"
     ]
    },
    {
     "name": "stdout",
     "output_type": "stream",
     "text": [
      "132656   Python argument types in\n",
      "    rdkit.Chem.rdMolDescriptors.GetMACCSKeysFingerprint(NoneType)\n",
      "did not match C++ signature:\n",
      "    GetMACCSKeysFingerprint(class RDKit::ROMol mol)\n"
     ]
    },
    {
     "name": "stderr",
     "output_type": "stream",
     "text": [
      "[17:46:15] Explicit valence for atom # 0 N, 4, is greater than permitted\n"
     ]
    },
    {
     "name": "stdout",
     "output_type": "stream",
     "text": [
      "132717   Python argument types in\n",
      "    rdkit.Chem.rdMolDescriptors.GetMACCSKeysFingerprint(NoneType)\n",
      "did not match C++ signature:\n",
      "    GetMACCSKeysFingerprint(class RDKit::ROMol mol)\n"
     ]
    },
    {
     "name": "stderr",
     "output_type": "stream",
     "text": [
      "[17:46:15] Explicit valence for atom # 0 N, 4, is greater than permitted\n",
      "[17:46:15] SMILES Parse Error: syntax error while parsing: OC1=CC=CC(=C1)C-1=C2\\CCC(=N2)\\C(=C2/N\\C(\\C=C2)=C(/C2=N/C(/C=C2)=C(\\C2=CC=C\\-1N2)C1=CC(O)=CC=C1)C1=CC(O)=CC=C1)\\C1=CC(O)=CC=C1\n",
      "[17:46:15] SMILES Parse Error: Failed parsing SMILES 'OC1=CC=CC(=C1)C-1=C2\\CCC(=N2)\\C(=C2/N\\C(\\C=C2)=C(/C2=N/C(/C=C2)=C(\\C2=CC=C\\-1N2)C1=CC(O)=CC=C1)C1=CC(O)=CC=C1)\\C1=CC(O)=CC=C1' for input: 'OC1=CC=CC(=C1)C-1=C2\\CCC(=N2)\\C(=C2/N\\C(\\C=C2)=C(/C2=N/C(/C=C2)=C(\\C2=CC=C\\-1N2)C1=CC(O)=CC=C1)C1=CC(O)=CC=C1)\\C1=CC(O)=CC=C1'\n"
     ]
    },
    {
     "name": "stdout",
     "output_type": "stream",
     "text": [
      "132732   Python argument types in\n",
      "    rdkit.Chem.rdMolDescriptors.GetMACCSKeysFingerprint(NoneType)\n",
      "did not match C++ signature:\n",
      "    GetMACCSKeysFingerprint(class RDKit::ROMol mol)\n",
      "132746   Python argument types in\n",
      "    rdkit.Chem.rdMolDescriptors.GetMACCSKeysFingerprint(NoneType)\n",
      "did not match C++ signature:\n",
      "    GetMACCSKeysFingerprint(class RDKit::ROMol mol)\n"
     ]
    },
    {
     "name": "stderr",
     "output_type": "stream",
     "text": [
      "[17:46:16] Explicit valence for atom # 0 N, 4, is greater than permitted\n"
     ]
    },
    {
     "name": "stdout",
     "output_type": "stream",
     "text": [
      "132784   Python argument types in\n",
      "    rdkit.Chem.rdMolDescriptors.GetMACCSKeysFingerprint(NoneType)\n",
      "did not match C++ signature:\n",
      "    GetMACCSKeysFingerprint(class RDKit::ROMol mol)\n"
     ]
    },
    {
     "name": "stderr",
     "output_type": "stream",
     "text": [
      "[17:46:17] Explicit valence for atom # 0 N, 4, is greater than permitted\n",
      "[17:46:17] Explicit valence for atom # 0 N, 4, is greater than permitted\n"
     ]
    },
    {
     "name": "stdout",
     "output_type": "stream",
     "text": [
      "132883   Python argument types in\n",
      "    rdkit.Chem.rdMolDescriptors.GetMACCSKeysFingerprint(NoneType)\n",
      "did not match C++ signature:\n",
      "    GetMACCSKeysFingerprint(class RDKit::ROMol mol)\n",
      "132884   Python argument types in\n",
      "    rdkit.Chem.rdMolDescriptors.GetMACCSKeysFingerprint(NoneType)\n",
      "did not match C++ signature:\n",
      "    GetMACCSKeysFingerprint(class RDKit::ROMol mol)\n"
     ]
    },
    {
     "name": "stderr",
     "output_type": "stream",
     "text": [
      "[17:46:18] SMILES Parse Error: syntax error while parsing: OC1=CC=CC(=C1)C-1=C2\\CCC(=N2)\\C(=C2/N\\C(\\C=C2)=C(/C2=N/C(/C=C2)=C(\\C2=CC=C\\-1N2)C1=CC(O)=CC=C1)C1=CC(O)=CC=C1)\\C1=CC(O)=CC=C1\n",
      "[17:46:18] SMILES Parse Error: Failed parsing SMILES 'OC1=CC=CC(=C1)C-1=C2\\CCC(=N2)\\C(=C2/N\\C(\\C=C2)=C(/C2=N/C(/C=C2)=C(\\C2=CC=C\\-1N2)C1=CC(O)=CC=C1)C1=CC(O)=CC=C1)\\C1=CC(O)=CC=C1' for input: 'OC1=CC=CC(=C1)C-1=C2\\CCC(=N2)\\C(=C2/N\\C(\\C=C2)=C(/C2=N/C(/C=C2)=C(\\C2=CC=C\\-1N2)C1=CC(O)=CC=C1)C1=CC(O)=CC=C1)\\C1=CC(O)=CC=C1'\n"
     ]
    },
    {
     "name": "stdout",
     "output_type": "stream",
     "text": [
      "132920   Python argument types in\n",
      "    rdkit.Chem.rdMolDescriptors.GetMACCSKeysFingerprint(NoneType)\n",
      "did not match C++ signature:\n",
      "    GetMACCSKeysFingerprint(class RDKit::ROMol mol)\n"
     ]
    },
    {
     "name": "stderr",
     "output_type": "stream",
     "text": [
      "[17:47:23] Explicit valence for atom # 0 N, 4, is greater than permitted\n",
      "[17:47:23] Explicit valence for atom # 0 N, 4, is greater than permitted\n",
      "[17:47:23] Explicit valence for atom # 0 N, 4, is greater than permitted\n",
      "[17:47:23] Explicit valence for atom # 0 N, 4, is greater than permitted\n",
      "[17:47:23] Explicit valence for atom # 0 N, 4, is greater than permitted\n",
      "[17:47:23] Explicit valence for atom # 0 N, 4, is greater than permitted\n",
      "[17:47:23] Explicit valence for atom # 0 N, 4, is greater than permitted\n",
      "[17:47:23] Explicit valence for atom # 0 N, 4, is greater than permitted\n",
      "[17:47:23] Explicit valence for atom # 0 N, 4, is greater than permitted\n",
      "[17:47:23] Explicit valence for atom # 0 N, 4, is greater than permitted\n"
     ]
    },
    {
     "name": "stdout",
     "output_type": "stream",
     "text": [
      "141886   Python argument types in\n",
      "    rdkit.Chem.rdMolDescriptors.GetMACCSKeysFingerprint(NoneType)\n",
      "did not match C++ signature:\n",
      "    GetMACCSKeysFingerprint(class RDKit::ROMol mol)\n",
      "141887   Python argument types in\n",
      "    rdkit.Chem.rdMolDescriptors.GetMACCSKeysFingerprint(NoneType)\n",
      "did not match C++ signature:\n",
      "    GetMACCSKeysFingerprint(class RDKit::ROMol mol)\n",
      "141888   Python argument types in\n",
      "    rdkit.Chem.rdMolDescriptors.GetMACCSKeysFingerprint(NoneType)\n",
      "did not match C++ signature:\n",
      "    GetMACCSKeysFingerprint(class RDKit::ROMol mol)\n",
      "141893   Python argument types in\n",
      "    rdkit.Chem.rdMolDescriptors.GetMACCSKeysFingerprint(NoneType)\n",
      "did not match C++ signature:\n",
      "    GetMACCSKeysFingerprint(class RDKit::ROMol mol)\n",
      "141895   Python argument types in\n",
      "    rdkit.Chem.rdMolDescriptors.GetMACCSKeysFingerprint(NoneType)\n",
      "did not match C++ signature:\n",
      "    GetMACCSKeysFingerprint(class RDKit::ROMol mol)\n",
      "141898   Python argument types in\n",
      "    rdkit.Chem.rdMolDescriptors.GetMACCSKeysFingerprint(NoneType)\n",
      "did not match C++ signature:\n",
      "    GetMACCSKeysFingerprint(class RDKit::ROMol mol)\n",
      "141902   Python argument types in\n",
      "    rdkit.Chem.rdMolDescriptors.GetMACCSKeysFingerprint(NoneType)\n",
      "did not match C++ signature:\n",
      "    GetMACCSKeysFingerprint(class RDKit::ROMol mol)\n",
      "141903   Python argument types in\n",
      "    rdkit.Chem.rdMolDescriptors.GetMACCSKeysFingerprint(NoneType)\n",
      "did not match C++ signature:\n",
      "    GetMACCSKeysFingerprint(class RDKit::ROMol mol)\n",
      "141907   Python argument types in\n",
      "    rdkit.Chem.rdMolDescriptors.GetMACCSKeysFingerprint(NoneType)\n",
      "did not match C++ signature:\n",
      "    GetMACCSKeysFingerprint(class RDKit::ROMol mol)\n",
      "141913   Python argument types in\n",
      "    rdkit.Chem.rdMolDescriptors.GetMACCSKeysFingerprint(NoneType)\n",
      "did not match C++ signature:\n",
      "    GetMACCSKeysFingerprint(class RDKit::ROMol mol)\n"
     ]
    },
    {
     "name": "stderr",
     "output_type": "stream",
     "text": [
      "[17:47:23] Explicit valence for atom # 0 N, 4, is greater than permitted\n",
      "[17:47:23] Explicit valence for atom # 0 N, 4, is greater than permitted\n"
     ]
    },
    {
     "name": "stdout",
     "output_type": "stream",
     "text": [
      "141915   Python argument types in\n",
      "    rdkit.Chem.rdMolDescriptors.GetMACCSKeysFingerprint(NoneType)\n",
      "did not match C++ signature:\n",
      "    GetMACCSKeysFingerprint(class RDKit::ROMol mol)\n",
      "141916   Python argument types in\n",
      "    rdkit.Chem.rdMolDescriptors.GetMACCSKeysFingerprint(NoneType)\n",
      "did not match C++ signature:\n",
      "    GetMACCSKeysFingerprint(class RDKit::ROMol mol)\n"
     ]
    },
    {
     "name": "stderr",
     "output_type": "stream",
     "text": [
      "[17:47:53] Explicit valence for atom # 0 N, 4, is greater than permitted\n"
     ]
    },
    {
     "name": "stdout",
     "output_type": "stream",
     "text": [
      "145430   Python argument types in\n",
      "    rdkit.Chem.rdMolDescriptors.GetMACCSKeysFingerprint(NoneType)\n",
      "did not match C++ signature:\n",
      "    GetMACCSKeysFingerprint(class RDKit::ROMol mol)\n"
     ]
    },
    {
     "name": "stderr",
     "output_type": "stream",
     "text": [
      "[17:49:09] Explicit valence for atom # 0 N, 4, is greater than permitted\n"
     ]
    },
    {
     "name": "stdout",
     "output_type": "stream",
     "text": [
      "154620   Python argument types in\n",
      "    rdkit.Chem.rdMolDescriptors.GetMACCSKeysFingerprint(NoneType)\n",
      "did not match C++ signature:\n",
      "    GetMACCSKeysFingerprint(class RDKit::ROMol mol)\n"
     ]
    },
    {
     "name": "stderr",
     "output_type": "stream",
     "text": [
      "[17:49:11] Explicit valence for atom # 0 N, 4, is greater than permitted\n"
     ]
    },
    {
     "name": "stdout",
     "output_type": "stream",
     "text": [
      "154800   Python argument types in\n",
      "    rdkit.Chem.rdMolDescriptors.GetMACCSKeysFingerprint(NoneType)\n",
      "did not match C++ signature:\n",
      "    GetMACCSKeysFingerprint(class RDKit::ROMol mol)\n"
     ]
    },
    {
     "name": "stderr",
     "output_type": "stream",
     "text": [
      "[17:49:20] Explicit valence for atom # 0 N, 4, is greater than permitted\n"
     ]
    },
    {
     "name": "stdout",
     "output_type": "stream",
     "text": [
      "155592   Python argument types in\n",
      "    rdkit.Chem.rdMolDescriptors.GetMACCSKeysFingerprint(NoneType)\n",
      "did not match C++ signature:\n",
      "    GetMACCSKeysFingerprint(class RDKit::ROMol mol)\n"
     ]
    },
    {
     "name": "stderr",
     "output_type": "stream",
     "text": [
      "[17:49:22] Explicit valence for atom # 0 N, 4, is greater than permitted\n"
     ]
    },
    {
     "name": "stdout",
     "output_type": "stream",
     "text": [
      "155839   Python argument types in\n",
      "    rdkit.Chem.rdMolDescriptors.GetMACCSKeysFingerprint(NoneType)\n",
      "did not match C++ signature:\n",
      "    GetMACCSKeysFingerprint(class RDKit::ROMol mol)\n"
     ]
    },
    {
     "name": "stderr",
     "output_type": "stream",
     "text": [
      "[17:49:24] Explicit valence for atom # 0 N, 4, is greater than permitted\n"
     ]
    },
    {
     "name": "stdout",
     "output_type": "stream",
     "text": [
      "155994   Python argument types in\n",
      "    rdkit.Chem.rdMolDescriptors.GetMACCSKeysFingerprint(NoneType)\n",
      "did not match C++ signature:\n",
      "    GetMACCSKeysFingerprint(class RDKit::ROMol mol)\n"
     ]
    },
    {
     "name": "stderr",
     "output_type": "stream",
     "text": [
      "[17:49:37] Explicit valence for atom # 0 N, 4, is greater than permitted\n"
     ]
    },
    {
     "name": "stdout",
     "output_type": "stream",
     "text": [
      "157237   Python argument types in\n",
      "    rdkit.Chem.rdMolDescriptors.GetMACCSKeysFingerprint(NoneType)\n",
      "did not match C++ signature:\n",
      "    GetMACCSKeysFingerprint(class RDKit::ROMol mol)\n"
     ]
    },
    {
     "name": "stderr",
     "output_type": "stream",
     "text": [
      "[17:49:56] Explicit valence for atom # 0 N, 4, is greater than permitted\n"
     ]
    },
    {
     "name": "stdout",
     "output_type": "stream",
     "text": [
      "159068   Python argument types in\n",
      "    rdkit.Chem.rdMolDescriptors.GetMACCSKeysFingerprint(NoneType)\n",
      "did not match C++ signature:\n",
      "    GetMACCSKeysFingerprint(class RDKit::ROMol mol)\n"
     ]
    },
    {
     "name": "stderr",
     "output_type": "stream",
     "text": [
      "[17:50:21] Explicit valence for atom # 0 N, 4, is greater than permitted\n"
     ]
    },
    {
     "name": "stdout",
     "output_type": "stream",
     "text": [
      "161465   Python argument types in\n",
      "    rdkit.Chem.rdMolDescriptors.GetMACCSKeysFingerprint(NoneType)\n",
      "did not match C++ signature:\n",
      "    GetMACCSKeysFingerprint(class RDKit::ROMol mol)\n"
     ]
    },
    {
     "name": "stderr",
     "output_type": "stream",
     "text": [
      "[17:51:12] Explicit valence for atom # 0 N, 4, is greater than permitted\n"
     ]
    },
    {
     "name": "stdout",
     "output_type": "stream",
     "text": [
      "166302   Python argument types in\n",
      "    rdkit.Chem.rdMolDescriptors.GetMACCSKeysFingerprint(NoneType)\n",
      "did not match C++ signature:\n",
      "    GetMACCSKeysFingerprint(class RDKit::ROMol mol)\n"
     ]
    },
    {
     "name": "stderr",
     "output_type": "stream",
     "text": [
      "[17:51:27] Explicit valence for atom # 0 N, 4, is greater than permitted\n"
     ]
    },
    {
     "name": "stdout",
     "output_type": "stream",
     "text": [
      "167665   Python argument types in\n",
      "    rdkit.Chem.rdMolDescriptors.GetMACCSKeysFingerprint(NoneType)\n",
      "did not match C++ signature:\n",
      "    GetMACCSKeysFingerprint(class RDKit::ROMol mol)\n"
     ]
    },
    {
     "name": "stderr",
     "output_type": "stream",
     "text": [
      "[17:51:34] Explicit valence for atom # 0 N, 4, is greater than permitted\n"
     ]
    },
    {
     "name": "stdout",
     "output_type": "stream",
     "text": [
      "168279   Python argument types in\n",
      "    rdkit.Chem.rdMolDescriptors.GetMACCSKeysFingerprint(NoneType)\n",
      "did not match C++ signature:\n",
      "    GetMACCSKeysFingerprint(class RDKit::ROMol mol)\n"
     ]
    },
    {
     "name": "stderr",
     "output_type": "stream",
     "text": [
      "[17:51:41] Explicit valence for atom # 0 N, 4, is greater than permitted\n"
     ]
    },
    {
     "name": "stdout",
     "output_type": "stream",
     "text": [
      "168946   Python argument types in\n",
      "    rdkit.Chem.rdMolDescriptors.GetMACCSKeysFingerprint(NoneType)\n",
      "did not match C++ signature:\n",
      "    GetMACCSKeysFingerprint(class RDKit::ROMol mol)\n"
     ]
    },
    {
     "name": "stderr",
     "output_type": "stream",
     "text": [
      "[17:52:09] Explicit valence for atom # 0 N, 4, is greater than permitted\n"
     ]
    },
    {
     "name": "stdout",
     "output_type": "stream",
     "text": [
      "171587   Python argument types in\n",
      "    rdkit.Chem.rdMolDescriptors.GetMACCSKeysFingerprint(NoneType)\n",
      "did not match C++ signature:\n",
      "    GetMACCSKeysFingerprint(class RDKit::ROMol mol)\n"
     ]
    },
    {
     "name": "stderr",
     "output_type": "stream",
     "text": [
      "[17:52:23] Explicit valence for atom # 0 N, 4, is greater than permitted\n"
     ]
    },
    {
     "name": "stdout",
     "output_type": "stream",
     "text": [
      "172869   Python argument types in\n",
      "    rdkit.Chem.rdMolDescriptors.GetMACCSKeysFingerprint(NoneType)\n",
      "did not match C++ signature:\n",
      "    GetMACCSKeysFingerprint(class RDKit::ROMol mol)\n"
     ]
    },
    {
     "name": "stderr",
     "output_type": "stream",
     "text": [
      "[17:52:38] Explicit valence for atom # 0 N, 4, is greater than permitted\n",
      "[17:52:38] Explicit valence for atom # 0 N, 4, is greater than permitted\n"
     ]
    },
    {
     "name": "stdout",
     "output_type": "stream",
     "text": [
      "174294   Python argument types in\n",
      "    rdkit.Chem.rdMolDescriptors.GetMACCSKeysFingerprint(NoneType)\n",
      "did not match C++ signature:\n",
      "    GetMACCSKeysFingerprint(class RDKit::ROMol mol)\n",
      "174295   Python argument types in\n",
      "    rdkit.Chem.rdMolDescriptors.GetMACCSKeysFingerprint(NoneType)\n",
      "did not match C++ signature:\n",
      "    GetMACCSKeysFingerprint(class RDKit::ROMol mol)\n"
     ]
    },
    {
     "name": "stderr",
     "output_type": "stream",
     "text": [
      "[17:53:01] Explicit valence for atom # 0 N, 4, is greater than permitted\n"
     ]
    },
    {
     "name": "stdout",
     "output_type": "stream",
     "text": [
      "176513   Python argument types in\n",
      "    rdkit.Chem.rdMolDescriptors.GetMACCSKeysFingerprint(NoneType)\n",
      "did not match C++ signature:\n",
      "    GetMACCSKeysFingerprint(class RDKit::ROMol mol)\n"
     ]
    },
    {
     "name": "stderr",
     "output_type": "stream",
     "text": [
      "[17:53:18] Explicit valence for atom # 0 N, 4, is greater than permitted\n"
     ]
    },
    {
     "name": "stdout",
     "output_type": "stream",
     "text": [
      "178175   Python argument types in\n",
      "    rdkit.Chem.rdMolDescriptors.GetMACCSKeysFingerprint(NoneType)\n",
      "did not match C++ signature:\n",
      "    GetMACCSKeysFingerprint(class RDKit::ROMol mol)\n"
     ]
    },
    {
     "name": "stderr",
     "output_type": "stream",
     "text": [
      "[17:53:38] Explicit valence for atom # 0 N, 4, is greater than permitted\n"
     ]
    },
    {
     "name": "stdout",
     "output_type": "stream",
     "text": [
      "179966   Python argument types in\n",
      "    rdkit.Chem.rdMolDescriptors.GetMACCSKeysFingerprint(NoneType)\n",
      "did not match C++ signature:\n",
      "    GetMACCSKeysFingerprint(class RDKit::ROMol mol)\n"
     ]
    },
    {
     "name": "stderr",
     "output_type": "stream",
     "text": [
      "[17:53:43] Explicit valence for atom # 0 N, 4, is greater than permitted\n"
     ]
    },
    {
     "name": "stdout",
     "output_type": "stream",
     "text": [
      "180483   Python argument types in\n",
      "    rdkit.Chem.rdMolDescriptors.GetMACCSKeysFingerprint(NoneType)\n",
      "did not match C++ signature:\n",
      "    GetMACCSKeysFingerprint(class RDKit::ROMol mol)\n"
     ]
    },
    {
     "name": "stderr",
     "output_type": "stream",
     "text": [
      "[17:53:53] Explicit valence for atom # 0 N, 4, is greater than permitted\n"
     ]
    },
    {
     "name": "stdout",
     "output_type": "stream",
     "text": [
      "181631   Python argument types in\n",
      "    rdkit.Chem.rdMolDescriptors.GetMACCSKeysFingerprint(NoneType)\n",
      "did not match C++ signature:\n",
      "    GetMACCSKeysFingerprint(class RDKit::ROMol mol)\n"
     ]
    },
    {
     "name": "stderr",
     "output_type": "stream",
     "text": [
      "[17:53:54] Explicit valence for atom # 0 N, 4, is greater than permitted\n"
     ]
    },
    {
     "name": "stdout",
     "output_type": "stream",
     "text": [
      "181718   Python argument types in\n",
      "    rdkit.Chem.rdMolDescriptors.GetMACCSKeysFingerprint(NoneType)\n",
      "did not match C++ signature:\n",
      "    GetMACCSKeysFingerprint(class RDKit::ROMol mol)\n"
     ]
    },
    {
     "name": "stderr",
     "output_type": "stream",
     "text": [
      "[17:54:05] Explicit valence for atom # 0 N, 4, is greater than permitted\n"
     ]
    },
    {
     "name": "stdout",
     "output_type": "stream",
     "text": [
      "182859   Python argument types in\n",
      "    rdkit.Chem.rdMolDescriptors.GetMACCSKeysFingerprint(NoneType)\n",
      "did not match C++ signature:\n",
      "    GetMACCSKeysFingerprint(class RDKit::ROMol mol)\n"
     ]
    },
    {
     "name": "stderr",
     "output_type": "stream",
     "text": [
      "[17:54:09] Explicit valence for atom # 0 N, 4, is greater than permitted\n"
     ]
    },
    {
     "name": "stdout",
     "output_type": "stream",
     "text": [
      "183252   Python argument types in\n",
      "    rdkit.Chem.rdMolDescriptors.GetMACCSKeysFingerprint(NoneType)\n",
      "did not match C++ signature:\n",
      "    GetMACCSKeysFingerprint(class RDKit::ROMol mol)\n"
     ]
    },
    {
     "name": "stderr",
     "output_type": "stream",
     "text": [
      "[17:54:13] Explicit valence for atom # 0 N, 4, is greater than permitted\n"
     ]
    },
    {
     "name": "stdout",
     "output_type": "stream",
     "text": [
      "183674   Python argument types in\n",
      "    rdkit.Chem.rdMolDescriptors.GetMACCSKeysFingerprint(NoneType)\n",
      "did not match C++ signature:\n",
      "    GetMACCSKeysFingerprint(class RDKit::ROMol mol)\n"
     ]
    },
    {
     "name": "stderr",
     "output_type": "stream",
     "text": [
      "[17:54:28] Explicit valence for atom # 0 N, 4, is greater than permitted\n"
     ]
    },
    {
     "name": "stdout",
     "output_type": "stream",
     "text": [
      "185219   Python argument types in\n",
      "    rdkit.Chem.rdMolDescriptors.GetMACCSKeysFingerprint(NoneType)\n",
      "did not match C++ signature:\n",
      "    GetMACCSKeysFingerprint(class RDKit::ROMol mol)\n"
     ]
    },
    {
     "name": "stderr",
     "output_type": "stream",
     "text": [
      "[17:54:38] Explicit valence for atom # 0 N, 4, is greater than permitted\n"
     ]
    },
    {
     "name": "stdout",
     "output_type": "stream",
     "text": [
      "186328   Python argument types in\n",
      "    rdkit.Chem.rdMolDescriptors.GetMACCSKeysFingerprint(NoneType)\n",
      "did not match C++ signature:\n",
      "    GetMACCSKeysFingerprint(class RDKit::ROMol mol)\n"
     ]
    },
    {
     "name": "stderr",
     "output_type": "stream",
     "text": [
      "[17:54:39] Explicit valence for atom # 0 N, 4, is greater than permitted\n"
     ]
    },
    {
     "name": "stdout",
     "output_type": "stream",
     "text": [
      "186395   Python argument types in\n",
      "    rdkit.Chem.rdMolDescriptors.GetMACCSKeysFingerprint(NoneType)\n",
      "did not match C++ signature:\n",
      "    GetMACCSKeysFingerprint(class RDKit::ROMol mol)\n"
     ]
    },
    {
     "name": "stderr",
     "output_type": "stream",
     "text": [
      "[17:54:40] Explicit valence for atom # 0 N, 4, is greater than permitted\n"
     ]
    },
    {
     "name": "stdout",
     "output_type": "stream",
     "text": [
      "186489   Python argument types in\n",
      "    rdkit.Chem.rdMolDescriptors.GetMACCSKeysFingerprint(NoneType)\n",
      "did not match C++ signature:\n",
      "    GetMACCSKeysFingerprint(class RDKit::ROMol mol)\n"
     ]
    },
    {
     "name": "stderr",
     "output_type": "stream",
     "text": [
      "[17:54:42] Explicit valence for atom # 0 N, 4, is greater than permitted\n"
     ]
    },
    {
     "name": "stdout",
     "output_type": "stream",
     "text": [
      "186742   Python argument types in\n",
      "    rdkit.Chem.rdMolDescriptors.GetMACCSKeysFingerprint(NoneType)\n",
      "did not match C++ signature:\n",
      "    GetMACCSKeysFingerprint(class RDKit::ROMol mol)\n"
     ]
    },
    {
     "name": "stderr",
     "output_type": "stream",
     "text": [
      "[17:54:49] Explicit valence for atom # 0 N, 4, is greater than permitted\n"
     ]
    },
    {
     "name": "stdout",
     "output_type": "stream",
     "text": [
      "187391   Python argument types in\n",
      "    rdkit.Chem.rdMolDescriptors.GetMACCSKeysFingerprint(NoneType)\n",
      "did not match C++ signature:\n",
      "    GetMACCSKeysFingerprint(class RDKit::ROMol mol)\n"
     ]
    }
   ],
   "source": [
    "df['fingerprint1'] = 'None'\n",
    "df['fingerprint2'] = 'None'\n",
    "drop_list = []\n",
    "for i in df.index:\n",
    "    smiles1 = df.at[i, 'smiles1']\n",
    "    smiles2 = df.at[i, 'smiles2']\n",
    "    try:\n",
    "        df.at[i, 'fingerprint1'] = str(smiles_to_maccs(smiles1))\n",
    "        df.at[i, 'fingerprint2'] = str(smiles_to_maccs(smiles2))\n",
    "    except Exception as e:\n",
    "        print(i, ' ', e)\n",
    "    if((df.at[i, 'fingerprint1'] == 'None') or (df.at[i, 'fingerprint2'] == 'None')):\n",
    "        drop_list.append(i)\n",
    "        continue"
   ]
  },
  {
   "cell_type": "code",
   "execution_count": 24,
   "metadata": {},
   "outputs": [],
   "source": [
    "df['combined_fingerprint'] = 'None'\n",
    "drop_list = []\n",
    "for i in df.index:\n",
    "    try:\n",
    "        fingerprint1 = df.at[i, 'fingerprint1'] \n",
    "        fingerprint2 = df.at[i, 'fingerprint2'] \n",
    "        # print(len(fingerprint1))\n",
    "        result = ''\n",
    "        for x in range(0, 167):\n",
    "            if fingerprint1[x] == '0' and fingerprint2[x] == '0':\n",
    "                result += '0'\n",
    "            if fingerprint1[x] == '0' and fingerprint2[x] == '1':\n",
    "                result += '2'\n",
    "            if fingerprint1[x] == '1' and fingerprint2[x] == '0':\n",
    "                result += '1'\n",
    "            if fingerprint1[x] == '1' and fingerprint2[x] == '1':\n",
    "                result += '3'\n",
    "        df.at[i, 'combined_fingerprint'] = result\n",
    "    except:\n",
    "        drop_list.append(i)"
   ]
  },
  {
   "cell_type": "code",
   "execution_count": 30,
   "metadata": {},
   "outputs": [],
   "source": [
    "for i in df.index:\n",
    "    combined_fingerprint = df.at[i, 'combined_fingerprint']\n",
    "    x = list(np.array(list(map(list, [combined_fingerprint])))) # adding commas\n",
    "    x = list(x[0]) # take array & not array of arrays of chars\n",
    "    x = list(map(int, x)) # chars -> int\n",
    "    # print(x)\n",
    "    df.at[i, 'combined_fingerprint'] = x\n",
    "    # print(df.at[i, 'combined_fingerprint'])\n",
    "    # break"
   ]
  },
  {
   "cell_type": "code",
   "execution_count": 32,
   "metadata": {},
   "outputs": [
    {
     "name": "stdout",
     "output_type": "stream",
     "text": [
      "[0, 0, 0, 0, 0, 0, 0, 0, 0, 0, 0, 0, 0, 0, 0, 0, 0, 0, 0, 0, 0, 0, 0, 0, 0, 0, 2, 0, 0, 0, 0, 0, 0, 0, 2, 0, 0, 0, 0, 0, 0, 0, 0, 0, 0, 0, 0, 0, 0, 0, 2, 0, 0, 0, 0, 0, 0, 1, 0, 0, 0, 0, 0, 0, 0, 2, 2, 0, 0, 0, 0, 0, 0, 0, 0, 0, 2, 0, 0, 0, 2, 0, 0, 3, 0, 0, 0, 0, 0, 1, 2, 2, 0, 2, 0, 0, 3, 0, 1, 2, 0, 3, 0, 0, 2, 3, 0, 0, 2, 0, 0, 0, 2, 1, 0, 0, 2, 0, 2, 0, 3, 2, 0, 3, 0, 3, 2, 1, 0, 0, 0, 2, 2, 0, 0, 0, 2, 3, 0, 2, 2, 3, 2, 1, 2, 1, 3, 2, 0, 3, 2, 2, 1, 0, 3, 2, 2, 2, 0, 3, 3, 2, 3, 3, 3, 3, 0]\n"
     ]
    }
   ],
   "source": [
    "for i in df.index:\n",
    "    print(df.at[i, 'combined_fingerprint'])\n",
    "    break"
   ]
  },
  {
   "cell_type": "code",
   "execution_count": 33,
   "metadata": {},
   "outputs": [
    {
     "data": {
      "text/plain": [
       "49    60701\n",
       "47    34292\n",
       "73    23738\n",
       "75     9402\n",
       "60     8397\n",
       "      ...  \n",
       "52       10\n",
       "1        10\n",
       "26        7\n",
       "42        6\n",
       "7         1\n",
       "Name: Label, Length: 86, dtype: int64"
      ]
     },
     "execution_count": 33,
     "metadata": {},
     "output_type": "execute_result"
    }
   ],
   "source": [
    "df['Label'].value_counts()"
   ]
  },
  {
   "cell_type": "code",
   "execution_count": 34,
   "metadata": {},
   "outputs": [
    {
     "data": {
      "text/html": [
       "<div>\n",
       "<style scoped>\n",
       "    .dataframe tbody tr th:only-of-type {\n",
       "        vertical-align: middle;\n",
       "    }\n",
       "\n",
       "    .dataframe tbody tr th {\n",
       "        vertical-align: top;\n",
       "    }\n",
       "\n",
       "    .dataframe thead th {\n",
       "        text-align: right;\n",
       "    }\n",
       "</style>\n",
       "<table border=\"1\" class=\"dataframe\">\n",
       "  <thead>\n",
       "    <tr style=\"text-align: right;\">\n",
       "      <th></th>\n",
       "      <th>Unnamed: 0</th>\n",
       "      <th>Drug1</th>\n",
       "      <th>Drug2</th>\n",
       "      <th>Label</th>\n",
       "      <th>smiles1</th>\n",
       "      <th>smiles2</th>\n",
       "      <th>fingerprint1</th>\n",
       "      <th>fingerprint2</th>\n",
       "      <th>combined_fingerprint</th>\n",
       "    </tr>\n",
       "  </thead>\n",
       "  <tbody>\n",
       "    <tr>\n",
       "      <th>0</th>\n",
       "      <td>0</td>\n",
       "      <td>DB04571</td>\n",
       "      <td>DB00460</td>\n",
       "      <td>1</td>\n",
       "      <td>CC1=CC2=CC3=C(OC(=O)C=C3C)C(C)=C2O1</td>\n",
       "      <td>COC(=O)CCC1=C2NC(\\C=C3/N=C(/C=C4\\N\\C(=C/C5=N/C...</td>\n",
       "      <td>0000000000000000000000000000000000000000000000...</td>\n",
       "      <td>0000000000000000000000000010000000100000000000...</td>\n",
       "      <td>[0, 0, 0, 0, 0, 0, 0, 0, 0, 0, 0, 0, 0, 0, 0, ...</td>\n",
       "    </tr>\n",
       "    <tr>\n",
       "      <th>1</th>\n",
       "      <td>1</td>\n",
       "      <td>DB00855</td>\n",
       "      <td>DB00460</td>\n",
       "      <td>1</td>\n",
       "      <td>NCC(=O)CCC(O)=O</td>\n",
       "      <td>COC(=O)CCC1=C2NC(\\C=C3/N=C(/C=C4\\N\\C(=C/C5=N/C...</td>\n",
       "      <td>0000000000000000000000000000000000000000000000...</td>\n",
       "      <td>0000000000000000000000000010000000100000000000...</td>\n",
       "      <td>[0, 0, 0, 0, 0, 0, 0, 0, 0, 0, 0, 0, 0, 0, 0, ...</td>\n",
       "    </tr>\n",
       "    <tr>\n",
       "      <th>2</th>\n",
       "      <td>2</td>\n",
       "      <td>DB09536</td>\n",
       "      <td>DB00460</td>\n",
       "      <td>1</td>\n",
       "      <td>O=[Ti]=O</td>\n",
       "      <td>COC(=O)CCC1=C2NC(\\C=C3/N=C(/C=C4\\N\\C(=C/C5=N/C...</td>\n",
       "      <td>0000010000000000000000000000000000000000000010...</td>\n",
       "      <td>0000000000000000000000000010000000100000000000...</td>\n",
       "      <td>[0, 0, 0, 0, 0, 1, 0, 0, 0, 0, 0, 0, 0, 0, 0, ...</td>\n",
       "    </tr>\n",
       "    <tr>\n",
       "      <th>3</th>\n",
       "      <td>3</td>\n",
       "      <td>DB01600</td>\n",
       "      <td>DB00460</td>\n",
       "      <td>1</td>\n",
       "      <td>CC(C(O)=O)C1=CC=C(S1)C(=O)C1=CC=CC=C1</td>\n",
       "      <td>COC(=O)CCC1=C2NC(\\C=C3/N=C(/C=C4\\N\\C(=C/C5=N/C...</td>\n",
       "      <td>0000000000000000000000000000000000001000000000...</td>\n",
       "      <td>0000000000000000000000000010000000100000000000...</td>\n",
       "      <td>[0, 0, 0, 0, 0, 0, 0, 0, 0, 0, 0, 0, 0, 0, 0, ...</td>\n",
       "    </tr>\n",
       "    <tr>\n",
       "      <th>4</th>\n",
       "      <td>4</td>\n",
       "      <td>DB09000</td>\n",
       "      <td>DB00460</td>\n",
       "      <td>1</td>\n",
       "      <td>CC(CN(C)C)CN1C2=CC=CC=C2SC2=C1C=C(C=C2)C#N</td>\n",
       "      <td>COC(=O)CCC1=C2NC(\\C=C3/N=C(/C=C4\\N\\C(=C/C5=N/C...</td>\n",
       "      <td>0000000000000000000000000000000000001000010000...</td>\n",
       "      <td>0000000000000000000000000010000000100000000000...</td>\n",
       "      <td>[0, 0, 0, 0, 0, 0, 0, 0, 0, 0, 0, 0, 0, 0, 0, ...</td>\n",
       "    </tr>\n",
       "  </tbody>\n",
       "</table>\n",
       "</div>"
      ],
      "text/plain": [
       "   Unnamed: 0    Drug1    Drug2  Label  \\\n",
       "0           0  DB04571  DB00460      1   \n",
       "1           1  DB00855  DB00460      1   \n",
       "2           2  DB09536  DB00460      1   \n",
       "3           3  DB01600  DB00460      1   \n",
       "4           4  DB09000  DB00460      1   \n",
       "\n",
       "                                      smiles1  \\\n",
       "0         CC1=CC2=CC3=C(OC(=O)C=C3C)C(C)=C2O1   \n",
       "1                             NCC(=O)CCC(O)=O   \n",
       "2                                    O=[Ti]=O   \n",
       "3       CC(C(O)=O)C1=CC=C(S1)C(=O)C1=CC=CC=C1   \n",
       "4  CC(CN(C)C)CN1C2=CC=CC=C2SC2=C1C=C(C=C2)C#N   \n",
       "\n",
       "                                             smiles2  \\\n",
       "0  COC(=O)CCC1=C2NC(\\C=C3/N=C(/C=C4\\N\\C(=C/C5=N/C...   \n",
       "1  COC(=O)CCC1=C2NC(\\C=C3/N=C(/C=C4\\N\\C(=C/C5=N/C...   \n",
       "2  COC(=O)CCC1=C2NC(\\C=C3/N=C(/C=C4\\N\\C(=C/C5=N/C...   \n",
       "3  COC(=O)CCC1=C2NC(\\C=C3/N=C(/C=C4\\N\\C(=C/C5=N/C...   \n",
       "4  COC(=O)CCC1=C2NC(\\C=C3/N=C(/C=C4\\N\\C(=C/C5=N/C...   \n",
       "\n",
       "                                        fingerprint1  \\\n",
       "0  0000000000000000000000000000000000000000000000...   \n",
       "1  0000000000000000000000000000000000000000000000...   \n",
       "2  0000010000000000000000000000000000000000000010...   \n",
       "3  0000000000000000000000000000000000001000000000...   \n",
       "4  0000000000000000000000000000000000001000010000...   \n",
       "\n",
       "                                        fingerprint2  \\\n",
       "0  0000000000000000000000000010000000100000000000...   \n",
       "1  0000000000000000000000000010000000100000000000...   \n",
       "2  0000000000000000000000000010000000100000000000...   \n",
       "3  0000000000000000000000000010000000100000000000...   \n",
       "4  0000000000000000000000000010000000100000000000...   \n",
       "\n",
       "                                combined_fingerprint  \n",
       "0  [0, 0, 0, 0, 0, 0, 0, 0, 0, 0, 0, 0, 0, 0, 0, ...  \n",
       "1  [0, 0, 0, 0, 0, 0, 0, 0, 0, 0, 0, 0, 0, 0, 0, ...  \n",
       "2  [0, 0, 0, 0, 0, 1, 0, 0, 0, 0, 0, 0, 0, 0, 0, ...  \n",
       "3  [0, 0, 0, 0, 0, 0, 0, 0, 0, 0, 0, 0, 0, 0, 0, ...  \n",
       "4  [0, 0, 0, 0, 0, 0, 0, 0, 0, 0, 0, 0, 0, 0, 0, ...  "
      ]
     },
     "execution_count": 34,
     "metadata": {},
     "output_type": "execute_result"
    }
   ],
   "source": [
    "df.head()"
   ]
  },
  {
   "cell_type": "code",
   "execution_count": 35,
   "metadata": {},
   "outputs": [],
   "source": [
    "df.to_csv('fingerprint.csv')"
   ]
  },
  {
   "cell_type": "code",
   "execution_count": 36,
   "metadata": {},
   "outputs": [
    {
     "name": "stdout",
     "output_type": "stream",
     "text": [
      "167\n"
     ]
    }
   ],
   "source": [
    "newdf = []\n",
    "npy_array_list = []\n",
    "gen_syntax_list = []\n",
    "# print(len(df.at[2, 'combined_fingerprint']))\n",
    "for i in df.index:\n",
    "    # print(i)\n",
    "    npy_array_list.append((df.at[i, 'combined_fingerprint']))\n",
    "    gen_syntax_list.append(df.at[i, 'Label'])\n",
    "print(len(df.at[2, 'combined_fingerprint']))"
   ]
  },
  {
   "cell_type": "code",
   "execution_count": 37,
   "metadata": {},
   "outputs": [
    {
     "data": {
      "text/plain": [
       "167"
      ]
     },
     "execution_count": 37,
     "metadata": {},
     "output_type": "execute_result"
    }
   ],
   "source": [
    "numpyArray = np.array(npy_array_list)\n",
    "len(numpyArray[0])"
   ]
  },
  {
   "cell_type": "code",
   "execution_count": 38,
   "metadata": {},
   "outputs": [
    {
     "data": {
      "text/plain": [
       "array([[0, 0, 0, ..., 3, 3, 0],\n",
       "       [0, 0, 0, ..., 3, 2, 0],\n",
       "       [0, 0, 0, ..., 3, 2, 0],\n",
       "       ...,\n",
       "       [0, 0, 0, ..., 3, 3, 0],\n",
       "       [0, 0, 0, ..., 3, 3, 0],\n",
       "       [0, 0, 0, ..., 3, 3, 0]])"
      ]
     },
     "execution_count": 38,
     "metadata": {},
     "output_type": "execute_result"
    }
   ],
   "source": [
    "numpyArray"
   ]
  },
  {
   "cell_type": "code",
   "execution_count": 40,
   "metadata": {},
   "outputs": [
    {
     "data": {
      "text/plain": [
       "167"
      ]
     },
     "execution_count": 40,
     "metadata": {},
     "output_type": "execute_result"
    }
   ],
   "source": [
    "index = [str(i) for i in range(1, len(numpyArray) + 1)]\n",
    "columns = ['Feature_' + str(i) for i in range(1, len(numpyArray[0]) + 1)]\n",
    "len(columns)"
   ]
  },
  {
   "cell_type": "code",
   "execution_count": 41,
   "metadata": {},
   "outputs": [],
   "source": [
    "new_df = pd.DataFrame(numpyArray , \n",
    "                      index = index,\n",
    "                      columns = columns)"
   ]
  },
  {
   "cell_type": "code",
   "execution_count": 42,
   "metadata": {},
   "outputs": [],
   "source": [
    "new_df['Label'] = gen_syntax_list"
   ]
  },
  {
   "cell_type": "code",
   "execution_count": 44,
   "metadata": {},
   "outputs": [
    {
     "data": {
      "text/html": [
       "<div>\n",
       "<style scoped>\n",
       "    .dataframe tbody tr th:only-of-type {\n",
       "        vertical-align: middle;\n",
       "    }\n",
       "\n",
       "    .dataframe tbody tr th {\n",
       "        vertical-align: top;\n",
       "    }\n",
       "\n",
       "    .dataframe thead th {\n",
       "        text-align: right;\n",
       "    }\n",
       "</style>\n",
       "<table border=\"1\" class=\"dataframe\">\n",
       "  <thead>\n",
       "    <tr style=\"text-align: right;\">\n",
       "      <th></th>\n",
       "      <th>Feature_1</th>\n",
       "      <th>Feature_2</th>\n",
       "      <th>Feature_3</th>\n",
       "      <th>Feature_4</th>\n",
       "      <th>Feature_5</th>\n",
       "      <th>Feature_6</th>\n",
       "      <th>Feature_7</th>\n",
       "      <th>Feature_8</th>\n",
       "      <th>Feature_9</th>\n",
       "      <th>Feature_10</th>\n",
       "      <th>...</th>\n",
       "      <th>Feature_159</th>\n",
       "      <th>Feature_160</th>\n",
       "      <th>Feature_161</th>\n",
       "      <th>Feature_162</th>\n",
       "      <th>Feature_163</th>\n",
       "      <th>Feature_164</th>\n",
       "      <th>Feature_165</th>\n",
       "      <th>Feature_166</th>\n",
       "      <th>Feature_167</th>\n",
       "      <th>Label</th>\n",
       "    </tr>\n",
       "  </thead>\n",
       "  <tbody>\n",
       "    <tr>\n",
       "      <th>1</th>\n",
       "      <td>0</td>\n",
       "      <td>0</td>\n",
       "      <td>0</td>\n",
       "      <td>0</td>\n",
       "      <td>0</td>\n",
       "      <td>0</td>\n",
       "      <td>0</td>\n",
       "      <td>0</td>\n",
       "      <td>0</td>\n",
       "      <td>0</td>\n",
       "      <td>...</td>\n",
       "      <td>0</td>\n",
       "      <td>3</td>\n",
       "      <td>3</td>\n",
       "      <td>2</td>\n",
       "      <td>3</td>\n",
       "      <td>3</td>\n",
       "      <td>3</td>\n",
       "      <td>3</td>\n",
       "      <td>0</td>\n",
       "      <td>1</td>\n",
       "    </tr>\n",
       "    <tr>\n",
       "      <th>2</th>\n",
       "      <td>0</td>\n",
       "      <td>0</td>\n",
       "      <td>0</td>\n",
       "      <td>0</td>\n",
       "      <td>0</td>\n",
       "      <td>0</td>\n",
       "      <td>0</td>\n",
       "      <td>0</td>\n",
       "      <td>0</td>\n",
       "      <td>0</td>\n",
       "      <td>...</td>\n",
       "      <td>1</td>\n",
       "      <td>3</td>\n",
       "      <td>2</td>\n",
       "      <td>3</td>\n",
       "      <td>2</td>\n",
       "      <td>2</td>\n",
       "      <td>3</td>\n",
       "      <td>2</td>\n",
       "      <td>0</td>\n",
       "      <td>1</td>\n",
       "    </tr>\n",
       "    <tr>\n",
       "      <th>3</th>\n",
       "      <td>0</td>\n",
       "      <td>0</td>\n",
       "      <td>0</td>\n",
       "      <td>0</td>\n",
       "      <td>0</td>\n",
       "      <td>1</td>\n",
       "      <td>0</td>\n",
       "      <td>0</td>\n",
       "      <td>0</td>\n",
       "      <td>0</td>\n",
       "      <td>...</td>\n",
       "      <td>0</td>\n",
       "      <td>3</td>\n",
       "      <td>2</td>\n",
       "      <td>2</td>\n",
       "      <td>2</td>\n",
       "      <td>2</td>\n",
       "      <td>3</td>\n",
       "      <td>2</td>\n",
       "      <td>0</td>\n",
       "      <td>1</td>\n",
       "    </tr>\n",
       "    <tr>\n",
       "      <th>4</th>\n",
       "      <td>0</td>\n",
       "      <td>0</td>\n",
       "      <td>0</td>\n",
       "      <td>0</td>\n",
       "      <td>0</td>\n",
       "      <td>0</td>\n",
       "      <td>0</td>\n",
       "      <td>0</td>\n",
       "      <td>0</td>\n",
       "      <td>0</td>\n",
       "      <td>...</td>\n",
       "      <td>0</td>\n",
       "      <td>3</td>\n",
       "      <td>3</td>\n",
       "      <td>2</td>\n",
       "      <td>3</td>\n",
       "      <td>3</td>\n",
       "      <td>3</td>\n",
       "      <td>3</td>\n",
       "      <td>0</td>\n",
       "      <td>1</td>\n",
       "    </tr>\n",
       "    <tr>\n",
       "      <th>5</th>\n",
       "      <td>0</td>\n",
       "      <td>0</td>\n",
       "      <td>0</td>\n",
       "      <td>0</td>\n",
       "      <td>0</td>\n",
       "      <td>0</td>\n",
       "      <td>0</td>\n",
       "      <td>0</td>\n",
       "      <td>0</td>\n",
       "      <td>0</td>\n",
       "      <td>...</td>\n",
       "      <td>1</td>\n",
       "      <td>2</td>\n",
       "      <td>3</td>\n",
       "      <td>3</td>\n",
       "      <td>3</td>\n",
       "      <td>3</td>\n",
       "      <td>2</td>\n",
       "      <td>3</td>\n",
       "      <td>0</td>\n",
       "      <td>1</td>\n",
       "    </tr>\n",
       "    <tr>\n",
       "      <th>...</th>\n",
       "      <td>...</td>\n",
       "      <td>...</td>\n",
       "      <td>...</td>\n",
       "      <td>...</td>\n",
       "      <td>...</td>\n",
       "      <td>...</td>\n",
       "      <td>...</td>\n",
       "      <td>...</td>\n",
       "      <td>...</td>\n",
       "      <td>...</td>\n",
       "      <td>...</td>\n",
       "      <td>...</td>\n",
       "      <td>...</td>\n",
       "      <td>...</td>\n",
       "      <td>...</td>\n",
       "      <td>...</td>\n",
       "      <td>...</td>\n",
       "      <td>...</td>\n",
       "      <td>...</td>\n",
       "      <td>...</td>\n",
       "      <td>...</td>\n",
       "    </tr>\n",
       "    <tr>\n",
       "      <th>191366</th>\n",
       "      <td>0</td>\n",
       "      <td>0</td>\n",
       "      <td>0</td>\n",
       "      <td>0</td>\n",
       "      <td>0</td>\n",
       "      <td>0</td>\n",
       "      <td>0</td>\n",
       "      <td>0</td>\n",
       "      <td>0</td>\n",
       "      <td>0</td>\n",
       "      <td>...</td>\n",
       "      <td>2</td>\n",
       "      <td>2</td>\n",
       "      <td>2</td>\n",
       "      <td>3</td>\n",
       "      <td>3</td>\n",
       "      <td>3</td>\n",
       "      <td>3</td>\n",
       "      <td>3</td>\n",
       "      <td>0</td>\n",
       "      <td>86</td>\n",
       "    </tr>\n",
       "    <tr>\n",
       "      <th>191367</th>\n",
       "      <td>0</td>\n",
       "      <td>0</td>\n",
       "      <td>0</td>\n",
       "      <td>0</td>\n",
       "      <td>0</td>\n",
       "      <td>0</td>\n",
       "      <td>0</td>\n",
       "      <td>0</td>\n",
       "      <td>0</td>\n",
       "      <td>0</td>\n",
       "      <td>...</td>\n",
       "      <td>2</td>\n",
       "      <td>2</td>\n",
       "      <td>2</td>\n",
       "      <td>3</td>\n",
       "      <td>3</td>\n",
       "      <td>3</td>\n",
       "      <td>3</td>\n",
       "      <td>3</td>\n",
       "      <td>0</td>\n",
       "      <td>86</td>\n",
       "    </tr>\n",
       "    <tr>\n",
       "      <th>191368</th>\n",
       "      <td>0</td>\n",
       "      <td>0</td>\n",
       "      <td>0</td>\n",
       "      <td>0</td>\n",
       "      <td>0</td>\n",
       "      <td>0</td>\n",
       "      <td>0</td>\n",
       "      <td>0</td>\n",
       "      <td>0</td>\n",
       "      <td>0</td>\n",
       "      <td>...</td>\n",
       "      <td>2</td>\n",
       "      <td>2</td>\n",
       "      <td>2</td>\n",
       "      <td>3</td>\n",
       "      <td>1</td>\n",
       "      <td>3</td>\n",
       "      <td>3</td>\n",
       "      <td>3</td>\n",
       "      <td>0</td>\n",
       "      <td>86</td>\n",
       "    </tr>\n",
       "    <tr>\n",
       "      <th>191369</th>\n",
       "      <td>0</td>\n",
       "      <td>0</td>\n",
       "      <td>0</td>\n",
       "      <td>0</td>\n",
       "      <td>0</td>\n",
       "      <td>0</td>\n",
       "      <td>0</td>\n",
       "      <td>0</td>\n",
       "      <td>1</td>\n",
       "      <td>0</td>\n",
       "      <td>...</td>\n",
       "      <td>1</td>\n",
       "      <td>1</td>\n",
       "      <td>1</td>\n",
       "      <td>3</td>\n",
       "      <td>3</td>\n",
       "      <td>3</td>\n",
       "      <td>3</td>\n",
       "      <td>3</td>\n",
       "      <td>0</td>\n",
       "      <td>86</td>\n",
       "    </tr>\n",
       "    <tr>\n",
       "      <th>191370</th>\n",
       "      <td>0</td>\n",
       "      <td>0</td>\n",
       "      <td>0</td>\n",
       "      <td>0</td>\n",
       "      <td>0</td>\n",
       "      <td>0</td>\n",
       "      <td>0</td>\n",
       "      <td>0</td>\n",
       "      <td>0</td>\n",
       "      <td>0</td>\n",
       "      <td>...</td>\n",
       "      <td>2</td>\n",
       "      <td>2</td>\n",
       "      <td>2</td>\n",
       "      <td>3</td>\n",
       "      <td>3</td>\n",
       "      <td>3</td>\n",
       "      <td>3</td>\n",
       "      <td>3</td>\n",
       "      <td>0</td>\n",
       "      <td>86</td>\n",
       "    </tr>\n",
       "  </tbody>\n",
       "</table>\n",
       "<p>191370 rows × 168 columns</p>\n",
       "</div>"
      ],
      "text/plain": [
       "        Feature_1  Feature_2  Feature_3  Feature_4  Feature_5  Feature_6  \\\n",
       "1               0          0          0          0          0          0   \n",
       "2               0          0          0          0          0          0   \n",
       "3               0          0          0          0          0          1   \n",
       "4               0          0          0          0          0          0   \n",
       "5               0          0          0          0          0          0   \n",
       "...           ...        ...        ...        ...        ...        ...   \n",
       "191366          0          0          0          0          0          0   \n",
       "191367          0          0          0          0          0          0   \n",
       "191368          0          0          0          0          0          0   \n",
       "191369          0          0          0          0          0          0   \n",
       "191370          0          0          0          0          0          0   \n",
       "\n",
       "        Feature_7  Feature_8  Feature_9  Feature_10  ...  Feature_159  \\\n",
       "1               0          0          0           0  ...            0   \n",
       "2               0          0          0           0  ...            1   \n",
       "3               0          0          0           0  ...            0   \n",
       "4               0          0          0           0  ...            0   \n",
       "5               0          0          0           0  ...            1   \n",
       "...           ...        ...        ...         ...  ...          ...   \n",
       "191366          0          0          0           0  ...            2   \n",
       "191367          0          0          0           0  ...            2   \n",
       "191368          0          0          0           0  ...            2   \n",
       "191369          0          0          1           0  ...            1   \n",
       "191370          0          0          0           0  ...            2   \n",
       "\n",
       "        Feature_160  Feature_161  Feature_162  Feature_163  Feature_164  \\\n",
       "1                 3            3            2            3            3   \n",
       "2                 3            2            3            2            2   \n",
       "3                 3            2            2            2            2   \n",
       "4                 3            3            2            3            3   \n",
       "5                 2            3            3            3            3   \n",
       "...             ...          ...          ...          ...          ...   \n",
       "191366            2            2            3            3            3   \n",
       "191367            2            2            3            3            3   \n",
       "191368            2            2            3            1            3   \n",
       "191369            1            1            3            3            3   \n",
       "191370            2            2            3            3            3   \n",
       "\n",
       "        Feature_165  Feature_166  Feature_167  Label  \n",
       "1                 3            3            0      1  \n",
       "2                 3            2            0      1  \n",
       "3                 3            2            0      1  \n",
       "4                 3            3            0      1  \n",
       "5                 2            3            0      1  \n",
       "...             ...          ...          ...    ...  \n",
       "191366            3            3            0     86  \n",
       "191367            3            3            0     86  \n",
       "191368            3            3            0     86  \n",
       "191369            3            3            0     86  \n",
       "191370            3            3            0     86  \n",
       "\n",
       "[191370 rows x 168 columns]"
      ]
     },
     "execution_count": 44,
     "metadata": {},
     "output_type": "execute_result"
    }
   ],
   "source": [
    "new_df"
   ]
  },
  {
   "cell_type": "code",
   "execution_count": 2,
   "metadata": {},
   "outputs": [],
   "source": [
    "# new_df.to_csv('167_features.csv')\n",
    "new_df = pd.read_csv('167_features.csv')"
   ]
  },
  {
   "cell_type": "code",
   "execution_count": 3,
   "metadata": {},
   "outputs": [],
   "source": [
    "new_df = new_df.loc[:, ~new_df.columns.str.contains('^Unnamed')]"
   ]
  },
  {
   "cell_type": "code",
   "execution_count": 4,
   "metadata": {},
   "outputs": [],
   "source": [
    "import numpy as np\n",
    "from sklearn.model_selection import train_test_split"
   ]
  },
  {
   "cell_type": "code",
   "execution_count": 5,
   "metadata": {},
   "outputs": [
    {
     "data": {
      "text/plain": [
       "['Feature_1',\n",
       " 'Feature_2',\n",
       " 'Feature_3',\n",
       " 'Feature_4',\n",
       " 'Feature_5',\n",
       " 'Feature_6',\n",
       " 'Feature_7',\n",
       " 'Feature_8',\n",
       " 'Feature_9',\n",
       " 'Feature_10',\n",
       " 'Feature_11',\n",
       " 'Feature_12',\n",
       " 'Feature_13',\n",
       " 'Feature_14',\n",
       " 'Feature_15',\n",
       " 'Feature_16',\n",
       " 'Feature_17',\n",
       " 'Feature_18',\n",
       " 'Feature_19',\n",
       " 'Feature_20',\n",
       " 'Feature_21',\n",
       " 'Feature_22',\n",
       " 'Feature_23',\n",
       " 'Feature_24',\n",
       " 'Feature_25',\n",
       " 'Feature_26',\n",
       " 'Feature_27',\n",
       " 'Feature_28',\n",
       " 'Feature_29',\n",
       " 'Feature_30',\n",
       " 'Feature_31',\n",
       " 'Feature_32',\n",
       " 'Feature_33',\n",
       " 'Feature_34',\n",
       " 'Feature_35',\n",
       " 'Feature_36',\n",
       " 'Feature_37',\n",
       " 'Feature_38',\n",
       " 'Feature_39',\n",
       " 'Feature_40',\n",
       " 'Feature_41',\n",
       " 'Feature_42',\n",
       " 'Feature_43',\n",
       " 'Feature_44',\n",
       " 'Feature_45',\n",
       " 'Feature_46',\n",
       " 'Feature_47',\n",
       " 'Feature_48',\n",
       " 'Feature_49',\n",
       " 'Feature_50',\n",
       " 'Feature_51',\n",
       " 'Feature_52',\n",
       " 'Feature_53',\n",
       " 'Feature_54',\n",
       " 'Feature_55',\n",
       " 'Feature_56',\n",
       " 'Feature_57',\n",
       " 'Feature_58',\n",
       " 'Feature_59',\n",
       " 'Feature_60',\n",
       " 'Feature_61',\n",
       " 'Feature_62',\n",
       " 'Feature_63',\n",
       " 'Feature_64',\n",
       " 'Feature_65',\n",
       " 'Feature_66',\n",
       " 'Feature_67',\n",
       " 'Feature_68',\n",
       " 'Feature_69',\n",
       " 'Feature_70',\n",
       " 'Feature_71',\n",
       " 'Feature_72',\n",
       " 'Feature_73',\n",
       " 'Feature_74',\n",
       " 'Feature_75',\n",
       " 'Feature_76',\n",
       " 'Feature_77',\n",
       " 'Feature_78',\n",
       " 'Feature_79',\n",
       " 'Feature_80',\n",
       " 'Feature_81',\n",
       " 'Feature_82',\n",
       " 'Feature_83',\n",
       " 'Feature_84',\n",
       " 'Feature_85',\n",
       " 'Feature_86',\n",
       " 'Feature_87',\n",
       " 'Feature_88',\n",
       " 'Feature_89',\n",
       " 'Feature_90',\n",
       " 'Feature_91',\n",
       " 'Feature_92',\n",
       " 'Feature_93',\n",
       " 'Feature_94',\n",
       " 'Feature_95',\n",
       " 'Feature_96',\n",
       " 'Feature_97',\n",
       " 'Feature_98',\n",
       " 'Feature_99',\n",
       " 'Feature_100',\n",
       " 'Feature_101',\n",
       " 'Feature_102',\n",
       " 'Feature_103',\n",
       " 'Feature_104',\n",
       " 'Feature_105',\n",
       " 'Feature_106',\n",
       " 'Feature_107',\n",
       " 'Feature_108',\n",
       " 'Feature_109',\n",
       " 'Feature_110',\n",
       " 'Feature_111',\n",
       " 'Feature_112',\n",
       " 'Feature_113',\n",
       " 'Feature_114',\n",
       " 'Feature_115',\n",
       " 'Feature_116',\n",
       " 'Feature_117',\n",
       " 'Feature_118',\n",
       " 'Feature_119',\n",
       " 'Feature_120',\n",
       " 'Feature_121',\n",
       " 'Feature_122',\n",
       " 'Feature_123',\n",
       " 'Feature_124',\n",
       " 'Feature_125',\n",
       " 'Feature_126',\n",
       " 'Feature_127',\n",
       " 'Feature_128',\n",
       " 'Feature_129',\n",
       " 'Feature_130',\n",
       " 'Feature_131',\n",
       " 'Feature_132',\n",
       " 'Feature_133',\n",
       " 'Feature_134',\n",
       " 'Feature_135',\n",
       " 'Feature_136',\n",
       " 'Feature_137',\n",
       " 'Feature_138',\n",
       " 'Feature_139',\n",
       " 'Feature_140',\n",
       " 'Feature_141',\n",
       " 'Feature_142',\n",
       " 'Feature_143',\n",
       " 'Feature_144',\n",
       " 'Feature_145',\n",
       " 'Feature_146',\n",
       " 'Feature_147',\n",
       " 'Feature_148',\n",
       " 'Feature_149',\n",
       " 'Feature_150',\n",
       " 'Feature_151',\n",
       " 'Feature_152',\n",
       " 'Feature_153',\n",
       " 'Feature_154',\n",
       " 'Feature_155',\n",
       " 'Feature_156',\n",
       " 'Feature_157',\n",
       " 'Feature_158',\n",
       " 'Feature_159',\n",
       " 'Feature_160',\n",
       " 'Feature_161',\n",
       " 'Feature_162',\n",
       " 'Feature_163',\n",
       " 'Feature_164',\n",
       " 'Feature_165',\n",
       " 'Feature_166',\n",
       " 'Feature_167']"
      ]
     },
     "execution_count": 5,
     "metadata": {},
     "output_type": "execute_result"
    }
   ],
   "source": [
    "x_list = list(new_df)\n",
    "x_list = x_list[:-1]\n",
    "x_list"
   ]
  },
  {
   "cell_type": "code",
   "execution_count": 6,
   "metadata": {},
   "outputs": [],
   "source": [
    "X = np.asarray(new_df[x_list])\n",
    "Y = np.asarray(new_df['Label'])\n",
    "\n",
    "X_train, X_test, y_train, y_test = train_test_split(X, Y, test_size=0.33, shuffle= True)"
   ]
  },
  {
   "cell_type": "code",
   "execution_count": 7,
   "metadata": {},
   "outputs": [],
   "source": [
    "from sklearn.linear_model import LinearRegression\n",
    "from sklearn import linear_model\n",
    "from sklearn import svm\n",
    "from sklearn import metrics\n",
    "from sklearn.svm import SVC\n",
    "from sklearn.metrics import confusion_matrix, ConfusionMatrixDisplay\n",
    "from sklearn.metrics import classification_report\n",
    "import pickle"
   ]
  },
  {
   "cell_type": "code",
   "execution_count": 8,
   "metadata": {},
   "outputs": [
    {
     "data": {
      "text/html": [
       "<style>#sk-container-id-1 {color: black;background-color: white;}#sk-container-id-1 pre{padding: 0;}#sk-container-id-1 div.sk-toggleable {background-color: white;}#sk-container-id-1 label.sk-toggleable__label {cursor: pointer;display: block;width: 100%;margin-bottom: 0;padding: 0.3em;box-sizing: border-box;text-align: center;}#sk-container-id-1 label.sk-toggleable__label-arrow:before {content: \"▸\";float: left;margin-right: 0.25em;color: #696969;}#sk-container-id-1 label.sk-toggleable__label-arrow:hover:before {color: black;}#sk-container-id-1 div.sk-estimator:hover label.sk-toggleable__label-arrow:before {color: black;}#sk-container-id-1 div.sk-toggleable__content {max-height: 0;max-width: 0;overflow: hidden;text-align: left;background-color: #f0f8ff;}#sk-container-id-1 div.sk-toggleable__content pre {margin: 0.2em;color: black;border-radius: 0.25em;background-color: #f0f8ff;}#sk-container-id-1 input.sk-toggleable__control:checked~div.sk-toggleable__content {max-height: 200px;max-width: 100%;overflow: auto;}#sk-container-id-1 input.sk-toggleable__control:checked~label.sk-toggleable__label-arrow:before {content: \"▾\";}#sk-container-id-1 div.sk-estimator input.sk-toggleable__control:checked~label.sk-toggleable__label {background-color: #d4ebff;}#sk-container-id-1 div.sk-label input.sk-toggleable__control:checked~label.sk-toggleable__label {background-color: #d4ebff;}#sk-container-id-1 input.sk-hidden--visually {border: 0;clip: rect(1px 1px 1px 1px);clip: rect(1px, 1px, 1px, 1px);height: 1px;margin: -1px;overflow: hidden;padding: 0;position: absolute;width: 1px;}#sk-container-id-1 div.sk-estimator {font-family: monospace;background-color: #f0f8ff;border: 1px dotted black;border-radius: 0.25em;box-sizing: border-box;margin-bottom: 0.5em;}#sk-container-id-1 div.sk-estimator:hover {background-color: #d4ebff;}#sk-container-id-1 div.sk-parallel-item::after {content: \"\";width: 100%;border-bottom: 1px solid gray;flex-grow: 1;}#sk-container-id-1 div.sk-label:hover label.sk-toggleable__label {background-color: #d4ebff;}#sk-container-id-1 div.sk-serial::before {content: \"\";position: absolute;border-left: 1px solid gray;box-sizing: border-box;top: 0;bottom: 0;left: 50%;z-index: 0;}#sk-container-id-1 div.sk-serial {display: flex;flex-direction: column;align-items: center;background-color: white;padding-right: 0.2em;padding-left: 0.2em;position: relative;}#sk-container-id-1 div.sk-item {position: relative;z-index: 1;}#sk-container-id-1 div.sk-parallel {display: flex;align-items: stretch;justify-content: center;background-color: white;position: relative;}#sk-container-id-1 div.sk-item::before, #sk-container-id-1 div.sk-parallel-item::before {content: \"\";position: absolute;border-left: 1px solid gray;box-sizing: border-box;top: 0;bottom: 0;left: 50%;z-index: -1;}#sk-container-id-1 div.sk-parallel-item {display: flex;flex-direction: column;z-index: 1;position: relative;background-color: white;}#sk-container-id-1 div.sk-parallel-item:first-child::after {align-self: flex-end;width: 50%;}#sk-container-id-1 div.sk-parallel-item:last-child::after {align-self: flex-start;width: 50%;}#sk-container-id-1 div.sk-parallel-item:only-child::after {width: 0;}#sk-container-id-1 div.sk-dashed-wrapped {border: 1px dashed gray;margin: 0 0.4em 0.5em 0.4em;box-sizing: border-box;padding-bottom: 0.4em;background-color: white;}#sk-container-id-1 div.sk-label label {font-family: monospace;font-weight: bold;display: inline-block;line-height: 1.2em;}#sk-container-id-1 div.sk-label-container {text-align: center;}#sk-container-id-1 div.sk-container {/* jupyter's `normalize.less` sets `[hidden] { display: none; }` but bootstrap.min.css set `[hidden] { display: none !important; }` so we also need the `!important` here to be able to override the default hidden behavior on the sphinx rendered scikit-learn.org. See: https://github.com/scikit-learn/scikit-learn/issues/21755 */display: inline-block !important;position: relative;}#sk-container-id-1 div.sk-text-repr-fallback {display: none;}</style><div id=\"sk-container-id-1\" class=\"sk-top-container\"><div class=\"sk-text-repr-fallback\"><pre>SVC(C=8, coef0=1, gamma=&#x27;auto&#x27;, kernel=&#x27;poly&#x27;)</pre><b>In a Jupyter environment, please rerun this cell to show the HTML representation or trust the notebook. <br />On GitHub, the HTML representation is unable to render, please try loading this page with nbviewer.org.</b></div><div class=\"sk-container\" hidden><div class=\"sk-item\"><div class=\"sk-estimator sk-toggleable\"><input class=\"sk-toggleable__control sk-hidden--visually\" id=\"sk-estimator-id-1\" type=\"checkbox\" checked><label for=\"sk-estimator-id-1\" class=\"sk-toggleable__label sk-toggleable__label-arrow\">SVC</label><div class=\"sk-toggleable__content\"><pre>SVC(C=8, coef0=1, gamma=&#x27;auto&#x27;, kernel=&#x27;poly&#x27;)</pre></div></div></div></div></div>"
      ],
      "text/plain": [
       "SVC(C=8, coef0=1, gamma='auto', kernel='poly')"
      ]
     },
     "execution_count": 8,
     "metadata": {},
     "output_type": "execute_result"
    }
   ],
   "source": [
    "svc_model = SVC(kernel='poly', degree=3, gamma='auto', coef0=1, C=8)\n",
    "svc_model.fit(X_train, y_train)"
   ]
  },
  {
   "cell_type": "code",
   "execution_count": 9,
   "metadata": {},
   "outputs": [
    {
     "name": "stdout",
     "output_type": "stream",
     "text": [
      "Accuracy: 0.8842493626589394\n"
     ]
    }
   ],
   "source": [
    "y_pred = svc_model.predict(X_test)\n",
    "print(\"Accuracy:\",metrics.accuracy_score(y_test, y_pred))"
   ]
  },
  {
   "cell_type": "code",
   "execution_count": 10,
   "metadata": {},
   "outputs": [],
   "source": [
    "pickle.dump(svc_model, open('poly_svc_86_classes_2.sav', 'wb'))"
   ]
  },
  {
   "cell_type": "code",
   "execution_count": 11,
   "metadata": {},
   "outputs": [
    {
     "name": "stdout",
     "output_type": "stream",
     "text": [
      "Accuracy: 0.8842493626589394\n"
     ]
    }
   ],
   "source": [
    "svc_model = pickle.load(open('poly_svc_86_classes_2.sav', 'rb'))\n",
    "y_pred = svc_model.predict(X_test)\n",
    "print(\"Accuracy:\",metrics.accuracy_score(y_test, y_pred))"
   ]
  },
  {
   "cell_type": "code",
   "execution_count": 12,
   "metadata": {},
   "outputs": [
    {
     "name": "stdout",
     "output_type": "stream",
     "text": [
      "              precision    recall  f1-score   support\n",
      "\n",
      "           1       0.83      1.00      0.91         5\n",
      "           2       0.92      0.86      0.89       103\n",
      "           3       0.98      1.00      0.99       174\n",
      "           4       0.83      0.87      0.85      1686\n",
      "           5       0.95      0.89      0.92       102\n",
      "           6       0.89      0.93      0.91      1007\n",
      "           7       0.00      0.00      0.00         1\n",
      "           8       0.71      0.80      0.75        69\n",
      "           9       0.91      0.94      0.93       722\n",
      "          10       0.85      0.90      0.87       200\n",
      "          11       0.54      0.70      0.61        98\n",
      "          12       0.97      0.99      0.98        87\n",
      "          13       0.87      0.93      0.90        14\n",
      "          14       0.99      0.98      0.98       125\n",
      "          15       0.74      0.76      0.75        55\n",
      "          16       0.90      0.93      0.92      1749\n",
      "          17       0.86      1.00      0.93        25\n",
      "          18       0.79      0.86      0.83        22\n",
      "          19       0.94      0.91      0.92        32\n",
      "          20       0.82      0.84      0.83      2067\n",
      "          21       0.99      0.94      0.97       124\n",
      "          22       1.00      1.00      1.00        19\n",
      "          23       0.83      1.00      0.91        10\n",
      "          24       0.98      1.00      0.99        59\n",
      "          25       0.92      0.97      0.94       237\n",
      "          26       1.00      0.33      0.50         3\n",
      "          27       0.93      0.94      0.94       283\n",
      "          28       1.00      0.50      0.67         4\n",
      "          29       0.82      0.92      0.87       112\n",
      "          30       0.72      0.82      0.77       207\n",
      "          31       1.00      0.50      0.67         4\n",
      "          32       0.86      0.94      0.90       343\n",
      "          33       0.63      0.57      0.60       137\n",
      "          34       0.85      0.86      0.86       108\n",
      "          35       0.95      0.69      0.80        29\n",
      "          36       0.90      0.74      0.81        38\n",
      "          37       0.95      0.95      0.95       992\n",
      "          38       1.00      1.00      1.00         9\n",
      "          39       0.98      1.00      0.99        52\n",
      "          40       1.00      1.00      1.00        91\n",
      "          41       1.00      0.17      0.29         6\n",
      "          42       1.00      0.33      0.50         3\n",
      "          43       1.00      1.00      1.00         5\n",
      "          44       0.50      0.33      0.40         3\n",
      "          45       1.00      1.00      1.00         8\n",
      "          46       0.93      1.00      0.97        14\n",
      "          47       0.83      0.89      0.86     11262\n",
      "          48       0.83      0.86      0.84        22\n",
      "          49       0.92      0.93      0.92     20015\n",
      "          50       0.44      0.80      0.57         5\n",
      "          51       1.00      0.97      0.98        30\n",
      "          52       1.00      0.75      0.86         4\n",
      "          53       0.85      0.75      0.80       113\n",
      "          54       0.92      0.88      0.90       429\n",
      "          55       0.94      0.94      0.94        31\n",
      "          56       0.57      0.67      0.62         6\n",
      "          57       0.89      0.81      0.84       195\n",
      "          58       0.98      1.00      0.99       349\n",
      "          59       1.00      0.94      0.97        17\n",
      "          60       0.92      0.89      0.90      2785\n",
      "          61       0.98      0.98      0.98       161\n",
      "          62       0.00      0.00      0.00         1\n",
      "          63       1.00      0.60      0.75         5\n",
      "          64       0.89      0.80      0.84       264\n",
      "          65       0.92      1.00      0.96        11\n",
      "          66       0.83      0.64      0.73        45\n",
      "          67       0.98      0.94      0.96       302\n",
      "          68       0.81      0.65      0.72        98\n",
      "          69       0.99      0.97      0.98        96\n",
      "          70       0.93      0.88      0.90      2641\n",
      "          71       0.91      0.85      0.88       215\n",
      "          72       0.96      0.97      0.97       595\n",
      "          73       0.85      0.77      0.81      7924\n",
      "          74       0.99      1.00      1.00       138\n",
      "          75       0.88      0.79      0.83      3029\n",
      "          76       0.97      0.94      0.96       208\n",
      "          77       0.80      0.77      0.78       178\n",
      "          78       1.00      0.90      0.95        10\n",
      "          79       1.00      0.55      0.71        11\n",
      "          80       1.00      0.38      0.55        24\n",
      "          81       0.98      0.93      0.96        46\n",
      "          82       0.97      0.71      0.82       102\n",
      "          83       0.99      0.99      0.99       401\n",
      "          84       1.00      0.94      0.97        16\n",
      "          85       0.97      0.88      0.92       117\n",
      "          86       1.00      0.89      0.94         9\n",
      "\n",
      "    accuracy                           0.88     63153\n",
      "   macro avg       0.88      0.82      0.83     63153\n",
      "weighted avg       0.89      0.88      0.88     63153\n",
      "\n"
     ]
    },
    {
     "name": "stderr",
     "output_type": "stream",
     "text": [
      "c:\\Users\\RAZAK\\Desktop\\Github\\ADR\\venv\\lib\\site-packages\\sklearn\\metrics\\_classification.py:1327: UndefinedMetricWarning: Precision and F-score are ill-defined and being set to 0.0 in labels with no predicted samples. Use `zero_division` parameter to control this behavior.\n",
      "  _warn_prf(average, modifier, msg_start, len(result))\n",
      "c:\\Users\\RAZAK\\Desktop\\Github\\ADR\\venv\\lib\\site-packages\\sklearn\\metrics\\_classification.py:1327: UndefinedMetricWarning: Precision and F-score are ill-defined and being set to 0.0 in labels with no predicted samples. Use `zero_division` parameter to control this behavior.\n",
      "  _warn_prf(average, modifier, msg_start, len(result))\n",
      "c:\\Users\\RAZAK\\Desktop\\Github\\ADR\\venv\\lib\\site-packages\\sklearn\\metrics\\_classification.py:1327: UndefinedMetricWarning: Precision and F-score are ill-defined and being set to 0.0 in labels with no predicted samples. Use `zero_division` parameter to control this behavior.\n",
      "  _warn_prf(average, modifier, msg_start, len(result))\n"
     ]
    }
   ],
   "source": [
    "print(classification_report(y_test, y_pred))"
   ]
  }
 ],
 "metadata": {
  "kernelspec": {
   "display_name": "Python 3.10.0 ('venv': venv)",
   "language": "python",
   "name": "python3"
  },
  "language_info": {
   "codemirror_mode": {
    "name": "ipython",
    "version": 3
   },
   "file_extension": ".py",
   "mimetype": "text/x-python",
   "name": "python",
   "nbconvert_exporter": "python",
   "pygments_lexer": "ipython3",
   "version": "3.10.0"
  },
  "orig_nbformat": 4,
  "vscode": {
   "interpreter": {
    "hash": "4c09afe4b8f7c8840abb6699dad2ef7b14e9a2421b65b531128f5c4abc996cd6"
   }
  }
 },
 "nbformat": 4,
 "nbformat_minor": 2
}
