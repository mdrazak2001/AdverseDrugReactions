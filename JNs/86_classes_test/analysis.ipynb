{
 "cells": [
  {
   "cell_type": "code",
   "execution_count": 1,
   "metadata": {},
   "outputs": [],
   "source": [
    "import numpy as np\n",
    "import numpy as np \n",
    "import pandas as pd\n",
    "from rdkit import Chem\n",
    "from rdkit.Chem import MACCSkeys\n",
    "from rdkit.Chem import rdMolDescriptors\n",
    "from rdkit import DataStructs\n",
    "from ast import literal_eval\n",
    "from sklearn.model_selection import train_test_split\n",
    "from sklearn.linear_model import LinearRegression\n",
    "from sklearn import linear_model\n",
    "from sklearn import svm\n",
    "from sklearn import metrics\n",
    "from sklearn.svm import SVC\n",
    "import pickle\n",
    "from sklearn.metrics import confusion_matrix, ConfusionMatrixDisplay\n",
    "from sklearn.metrics import classification_report\n",
    "import matplotlib.pyplot as plt\n",
    "import seaborn as sns"
   ]
  },
  {
   "cell_type": "code",
   "execution_count": 8,
   "metadata": {},
   "outputs": [],
   "source": [
    "df = pd.read_csv('Interaction_information.csv')\n",
    "df.head()\n",
    "map_label = {}\n",
    "for i in df.index:\n",
    "    label = df.at[i, 'Interaction type']\n",
    "    description = df.at[i, 'Description']\n",
    "    map_label[int(label)] = description"
   ]
  },
  {
   "cell_type": "code",
   "execution_count": 3,
   "metadata": {},
   "outputs": [
    {
     "data": {
      "text/html": [
       "<div>\n",
       "<style scoped>\n",
       "    .dataframe tbody tr th:only-of-type {\n",
       "        vertical-align: middle;\n",
       "    }\n",
       "\n",
       "    .dataframe tbody tr th {\n",
       "        vertical-align: top;\n",
       "    }\n",
       "\n",
       "    .dataframe thead th {\n",
       "        text-align: right;\n",
       "    }\n",
       "</style>\n",
       "<table border=\"1\" class=\"dataframe\">\n",
       "  <thead>\n",
       "    <tr style=\"text-align: right;\">\n",
       "      <th></th>\n",
       "      <th>Drug1</th>\n",
       "      <th>Drug2</th>\n",
       "      <th>Label</th>\n",
       "    </tr>\n",
       "  </thead>\n",
       "  <tbody>\n",
       "    <tr>\n",
       "      <th>0</th>\n",
       "      <td>DB04571</td>\n",
       "      <td>DB00460</td>\n",
       "      <td>1</td>\n",
       "    </tr>\n",
       "    <tr>\n",
       "      <th>1</th>\n",
       "      <td>DB00855</td>\n",
       "      <td>DB00460</td>\n",
       "      <td>1</td>\n",
       "    </tr>\n",
       "    <tr>\n",
       "      <th>2</th>\n",
       "      <td>DB09536</td>\n",
       "      <td>DB00460</td>\n",
       "      <td>1</td>\n",
       "    </tr>\n",
       "    <tr>\n",
       "      <th>3</th>\n",
       "      <td>DB01600</td>\n",
       "      <td>DB00460</td>\n",
       "      <td>1</td>\n",
       "    </tr>\n",
       "    <tr>\n",
       "      <th>4</th>\n",
       "      <td>DB09000</td>\n",
       "      <td>DB00460</td>\n",
       "      <td>1</td>\n",
       "    </tr>\n",
       "  </tbody>\n",
       "</table>\n",
       "</div>"
      ],
      "text/plain": [
       "     Drug1    Drug2  Label\n",
       "0  DB04571  DB00460      1\n",
       "1  DB00855  DB00460      1\n",
       "2  DB09536  DB00460      1\n",
       "3  DB01600  DB00460      1\n",
       "4  DB09000  DB00460      1"
      ]
     },
     "execution_count": 3,
     "metadata": {},
     "output_type": "execute_result"
    }
   ],
   "source": [
    "ddi_df = pd.read_csv('KnownDDI.csv')\n",
    "ddi_df.head()"
   ]
  },
  {
   "cell_type": "code",
   "execution_count": 28,
   "metadata": {},
   "outputs": [
    {
     "name": "stdout",
     "output_type": "stream",
     "text": [
      "49 The risk or severity of adverse effects can be increased when #Drug1 is combined with #Drug2. 60997\n",
      "47 The metabolism of #Drug2 can be decreased when combined with #Drug1. 34360\n",
      "73 The serum concentration of #Drug2 can be increased when it is combined with #Drug1. 23779\n",
      "75 The serum concentration of #Drug2 can be decreased when it is combined with #Drug1. 9506\n",
      "60 #Drug1 may increase the hypotensive activities of #Drug2. 8397\n",
      "70 The therapeutic efficacy of #Drug2 can be decreased when used in combination with #Drug1. 7788\n",
      "20 #Drug1 may increase the QTc-prolonging activities of #Drug2. 6140\n",
      "16 #Drug1 may increase the central nervous system depressant (CNS depressant) activities of #Drug2. 5435\n",
      "4 The metabolism of #Drug2 can be increased when combined with #Drug1. 5011\n",
      "6 #Drug1 may increase the anticoagulant activities of #Drug2. 3160\n",
      "37 #Drug1 may decrease the antihypertensive activities of #Drug2. 3089\n",
      "9 #Drug1 may increase the hypoglycemic activities of #Drug2. 2109\n",
      "72 #Drug1 may decrease the excretion rate of #Drug2 which could result in a higher serum level. 1825\n",
      "54 #Drug1 may increase the bradycardic activities of #Drug2. 1277\n",
      "83 #Drug1 may increase the hypokalemic activities of #Drug2. 1204\n",
      "67 #Drug1 can cause a decrease in the absorption of #Drug2 resulting in a reduced serum concentration and potentially a decrease in efficacy. 1092\n",
      "58 #Drug1 may decrease the cardiotoxic activities of #Drug2. 1043\n",
      "32 #Drug1 may increase the sedative activities of #Drug2. 1015\n",
      "27 #Drug1 may increase the neuroexcitatory activities of #Drug2. 936\n",
      "64 #Drug1 may increase the serotonergic activities of #Drug2. 803\n",
      "25 #Drug1 may increase the atrioventricular blocking (AV block) activities of #Drug2. 716\n",
      "71 #Drug1 may increase the hypertensive activities of #Drug2. 673\n",
      "57 #Drug1 may increase the nephrotoxic activities of #Drug2. 664\n",
      "10 #Drug1 may increase the antihypertensive activities of #Drug2. 629\n",
      "30 #Drug1 may increase the orthostatic hypotensive activities of #Drug2. 616\n",
      "76 #Drug1 may decrease the sedative activities of #Drug2. 558\n",
      "77 The serum concentration of the active metabolites of #Drug2 can be increased when #Drug2 is used in combination with #Drug1. 538\n",
      "3 The bioavailability of #Drug2 can be decreased when combined with #Drug1. 519\n",
      "61 #Drug1 may decrease the stimulatory activities of #Drug2. 498\n",
      "33 The risk or severity of QTc prolongation can be increased when #Drug1 is combined with #Drug2. 443\n",
      "184820\n"
     ]
    }
   ],
   "source": [
    "keys = ddi_df['Label'].value_counts()[:30].keys()\n",
    "sum = 0 \n",
    "for key in keys:\n",
    "    sum += (ddi_df['Label']==key).sum()\n",
    "    print(key, map_label[key], (ddi_df['Label']==key).sum())\n",
    "print(sum)"
   ]
  }
 ],
 "metadata": {
  "kernelspec": {
   "display_name": "Python 3.10.0 ('venv': venv)",
   "language": "python",
   "name": "python3"
  },
  "language_info": {
   "codemirror_mode": {
    "name": "ipython",
    "version": 3
   },
   "file_extension": ".py",
   "mimetype": "text/x-python",
   "name": "python",
   "nbconvert_exporter": "python",
   "pygments_lexer": "ipython3",
   "version": "3.10.0"
  },
  "orig_nbformat": 4,
  "vscode": {
   "interpreter": {
    "hash": "4c09afe4b8f7c8840abb6699dad2ef7b14e9a2421b65b531128f5c4abc996cd6"
   }
  }
 },
 "nbformat": 4,
 "nbformat_minor": 2
}
