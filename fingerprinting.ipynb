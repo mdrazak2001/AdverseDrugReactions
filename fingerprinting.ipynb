{
 "cells": [
  {
   "cell_type": "code",
   "execution_count": 60,
   "metadata": {},
   "outputs": [],
   "source": [
    "import numpy as np \n",
    "import pandas as pd\n",
    "from rdkit import Chem\n",
    "from rdkit.Chem import MACCSkeys\n",
    "from rdkit.Chem import rdMolDescriptors\n",
    "from rdkit import DataStructs"
   ]
  },
  {
   "cell_type": "code",
   "execution_count": 2,
   "metadata": {},
   "outputs": [],
   "source": [
    "df = pd.read_csv('processed_df.csv')"
   ]
  },
  {
   "cell_type": "code",
   "execution_count": 3,
   "metadata": {},
   "outputs": [
    {
     "data": {
      "text/html": [
       "<div>\n",
       "<style scoped>\n",
       "    .dataframe tbody tr th:only-of-type {\n",
       "        vertical-align: middle;\n",
       "    }\n",
       "\n",
       "    .dataframe tbody tr th {\n",
       "        vertical-align: top;\n",
       "    }\n",
       "\n",
       "    .dataframe thead th {\n",
       "        text-align: right;\n",
       "    }\n",
       "</style>\n",
       "<table border=\"1\" class=\"dataframe\">\n",
       "  <thead>\n",
       "    <tr style=\"text-align: right;\">\n",
       "      <th></th>\n",
       "      <th>Unnamed: 0</th>\n",
       "      <th>drug1</th>\n",
       "      <th>db_no1</th>\n",
       "      <th>drug2</th>\n",
       "      <th>db_no2</th>\n",
       "      <th>general_syntax</th>\n",
       "      <th>smiles1</th>\n",
       "      <th>smiles2</th>\n",
       "    </tr>\n",
       "  </thead>\n",
       "  <tbody>\n",
       "    <tr>\n",
       "      <th>0</th>\n",
       "      <td>8</td>\n",
       "      <td>Pravastatin</td>\n",
       "      <td>DB00175</td>\n",
       "      <td>Alectinib</td>\n",
       "      <td>DB11363</td>\n",
       "      <td>the serum concentration of drug1 can be increa...</td>\n",
       "      <td>[H][C@]12[C@H](C[C@H](O)C=C1C=C[C@H](C)[C@@H]2...</td>\n",
       "      <td>CCC1=CC2=C(C=C1N1CCC(CC1)N1CCOCC1)C(C)(C)C1=C(...</td>\n",
       "    </tr>\n",
       "  </tbody>\n",
       "</table>\n",
       "</div>"
      ],
      "text/plain": [
       "   Unnamed: 0        drug1   db_no1      drug2   db_no2  \\\n",
       "0           8  Pravastatin  DB00175  Alectinib  DB11363   \n",
       "\n",
       "                                      general_syntax  \\\n",
       "0  the serum concentration of drug1 can be increa...   \n",
       "\n",
       "                                             smiles1  \\\n",
       "0  [H][C@]12[C@H](C[C@H](O)C=C1C=C[C@H](C)[C@@H]2...   \n",
       "\n",
       "                                             smiles2  \n",
       "0  CCC1=CC2=C(C=C1N1CCC(CC1)N1CCOCC1)C(C)(C)C1=C(...  "
      ]
     },
     "execution_count": 3,
     "metadata": {},
     "output_type": "execute_result"
    }
   ],
   "source": [
    "df.head(1)"
   ]
  },
  {
   "cell_type": "code",
   "execution_count": 4,
   "metadata": {},
   "outputs": [
    {
     "data": {
      "text/plain": [
       "'011001111100011111111111111110111111111111111101001111111110'"
      ]
     },
     "execution_count": 4,
     "metadata": {},
     "output_type": "execute_result"
    }
   ],
   "source": [
    "smile = 'CCN1N=NN(CCN2CCC(COC)(CC2)N(C(=O)CC)C2=CC=CC=C2)C1=O'\n",
    "# smile = 'CCC1=CC2=C(C=C1N1CCC(CC1)N1CCOCC1)C(C)(C)C1=C(C3=C(N1)C=C(C=C3)C#N)C2=O'\n",
    "s_mol = Chem.MolFromSmiles(smile)\n",
    "x = Chem.RDKFingerprint(s_mol, maxPath=3, fpSize=60, useBondOrder=True, branchedPaths=True)\n",
    "# s_mol\n",
    "x.ToBitString()"
   ]
  },
  {
   "cell_type": "code",
   "execution_count": 73,
   "metadata": {},
   "outputs": [],
   "source": [
    "df['fingerprint1'] = 'None'\n",
    "df['fingerprint2'] = 'None'"
   ]
  },
  {
   "cell_type": "code",
   "execution_count": 77,
   "metadata": {},
   "outputs": [],
   "source": [
    "def smiles_to_maccs(smile):\n",
    "    mol = Chem.MolFromSmiles(smile)\n",
    "    return MACCSkeys.GenMACCSKeys(mol).ToBitString()"
   ]
  },
  {
   "cell_type": "code",
   "execution_count": 78,
   "metadata": {},
   "outputs": [],
   "source": [
    "drop_list = []"
   ]
  },
  {
   "cell_type": "code",
   "execution_count": 88,
   "metadata": {},
   "outputs": [],
   "source": [
    "for i in df.index:\n",
    "    smiles1 = df.at[i, 'smiles1']\n",
    "    smiles2 = df.at[i, 'smiles2']\n",
    "    try:\n",
    "        df.at[i, 'fingerprint1'] = str(smiles_to_maccs(smiles1))\n",
    "        df.at[i, 'fingerprint2'] = str(smiles_to_maccs(smiles2))\n",
    "    except Exception as e:\n",
    "        print(i, ' ', e)\n",
    "    if((df.at[i, 'fingerprint1'] == 'None') or (df.at[i, 'fingerprint2'] == 'None')):\n",
    "        drop_list.append(i)\n",
    "        continue"
   ]
  },
  {
   "cell_type": "code",
   "execution_count": 93,
   "metadata": {},
   "outputs": [
    {
     "data": {
      "text/html": [
       "<div>\n",
       "<style scoped>\n",
       "    .dataframe tbody tr th:only-of-type {\n",
       "        vertical-align: middle;\n",
       "    }\n",
       "\n",
       "    .dataframe tbody tr th {\n",
       "        vertical-align: top;\n",
       "    }\n",
       "\n",
       "    .dataframe thead th {\n",
       "        text-align: right;\n",
       "    }\n",
       "</style>\n",
       "<table border=\"1\" class=\"dataframe\">\n",
       "  <thead>\n",
       "    <tr style=\"text-align: right;\">\n",
       "      <th></th>\n",
       "      <th>Unnamed: 0</th>\n",
       "      <th>drug1</th>\n",
       "      <th>db_no1</th>\n",
       "      <th>drug2</th>\n",
       "      <th>db_no2</th>\n",
       "      <th>general_syntax</th>\n",
       "      <th>smiles1</th>\n",
       "      <th>smiles2</th>\n",
       "      <th>fingerprint1</th>\n",
       "      <th>fingerprint2</th>\n",
       "      <th>combined_fingerprint</th>\n",
       "    </tr>\n",
       "  </thead>\n",
       "  <tbody>\n",
       "    <tr>\n",
       "      <th>0</th>\n",
       "      <td>8</td>\n",
       "      <td>Pravastatin</td>\n",
       "      <td>DB00175</td>\n",
       "      <td>Alectinib</td>\n",
       "      <td>DB11363</td>\n",
       "      <td>the serum concentration of drug1 can be increa...</td>\n",
       "      <td>[H][C@]12[C@H](C[C@H](O)C=C1C=C[C@H](C)[C@@H]2...</td>\n",
       "      <td>CCC1=CC2=C(C=C1N1CCC(CC1)N1CCOCC1)C(C)(C)C1=C(...</td>\n",
       "      <td>0000000000000000000000000010000000000000000000...</td>\n",
       "      <td>0000000000000000000000000000000000000000010000...</td>\n",
       "      <td>None</td>\n",
       "    </tr>\n",
       "  </tbody>\n",
       "</table>\n",
       "</div>"
      ],
      "text/plain": [
       "   Unnamed: 0        drug1   db_no1      drug2   db_no2  \\\n",
       "0           8  Pravastatin  DB00175  Alectinib  DB11363   \n",
       "\n",
       "                                      general_syntax  \\\n",
       "0  the serum concentration of drug1 can be increa...   \n",
       "\n",
       "                                             smiles1  \\\n",
       "0  [H][C@]12[C@H](C[C@H](O)C=C1C=C[C@H](C)[C@@H]2...   \n",
       "\n",
       "                                             smiles2  \\\n",
       "0  CCC1=CC2=C(C=C1N1CCC(CC1)N1CCOCC1)C(C)(C)C1=C(...   \n",
       "\n",
       "                                        fingerprint1  \\\n",
       "0  0000000000000000000000000010000000000000000000...   \n",
       "\n",
       "                                        fingerprint2 combined_fingerprint  \n",
       "0  0000000000000000000000000000000000000000010000...                 None  "
      ]
     },
     "execution_count": 93,
     "metadata": {},
     "output_type": "execute_result"
    }
   ],
   "source": [
    "df.head(1)"
   ]
  },
  {
   "cell_type": "code",
   "execution_count": 86,
   "metadata": {},
   "outputs": [],
   "source": [
    "df.drop(index=drop_list, inplace = True)"
   ]
  },
  {
   "cell_type": "code",
   "execution_count": 91,
   "metadata": {},
   "outputs": [],
   "source": [
    "df.to_csv('fingerprint.csv')"
   ]
  },
  {
   "cell_type": "code",
   "execution_count": 92,
   "metadata": {},
   "outputs": [],
   "source": [
    "df['combined_fingerprint'] = 'None'"
   ]
  },
  {
   "cell_type": "code",
   "execution_count": null,
   "metadata": {},
   "outputs": [],
   "source": []
  },
  {
   "cell_type": "code",
   "execution_count": 102,
   "metadata": {},
   "outputs": [],
   "source": [
    "for i in df.index:\n",
    "    fingerprint1 = df.at[i, 'fingerprint1'] = str(smiles_to_maccs(smiles1))\n",
    "    fingerprint2 = df.at[i, 'fingerprint2'] = str(smiles_to_maccs(smiles2))\n",
    "    # print(len(fingerprint1))\n",
    "    result = ''\n",
    "    for x in range(0, 167):\n",
    "        if fingerprint1[x] == '0' and fingerprint2[x] == '0':\n",
    "            result += '0'\n",
    "        if fingerprint1[x] == '0' and fingerprint2[x] == '1':\n",
    "            result += '2'\n",
    "        if fingerprint1[x] == '1' and fingerprint2[x] == '0':\n",
    "            result += '1'\n",
    "        if fingerprint1[x] == '1' and fingerprint2[x] == '1':\n",
    "            result += '3'\n",
    "    df.at[i, 'combined_fingerprint'] = result\n",
    "    \n",
    "    "
   ]
  },
  {
   "cell_type": "code",
   "execution_count": 103,
   "metadata": {},
   "outputs": [
    {
     "data": {
      "text/html": [
       "<div>\n",
       "<style scoped>\n",
       "    .dataframe tbody tr th:only-of-type {\n",
       "        vertical-align: middle;\n",
       "    }\n",
       "\n",
       "    .dataframe tbody tr th {\n",
       "        vertical-align: top;\n",
       "    }\n",
       "\n",
       "    .dataframe thead th {\n",
       "        text-align: right;\n",
       "    }\n",
       "</style>\n",
       "<table border=\"1\" class=\"dataframe\">\n",
       "  <thead>\n",
       "    <tr style=\"text-align: right;\">\n",
       "      <th></th>\n",
       "      <th>Unnamed: 0</th>\n",
       "      <th>drug1</th>\n",
       "      <th>db_no1</th>\n",
       "      <th>drug2</th>\n",
       "      <th>db_no2</th>\n",
       "      <th>general_syntax</th>\n",
       "      <th>smiles1</th>\n",
       "      <th>smiles2</th>\n",
       "      <th>fingerprint1</th>\n",
       "      <th>fingerprint2</th>\n",
       "      <th>combined_fingerprint</th>\n",
       "    </tr>\n",
       "  </thead>\n",
       "  <tbody>\n",
       "    <tr>\n",
       "      <th>0</th>\n",
       "      <td>8</td>\n",
       "      <td>Pravastatin</td>\n",
       "      <td>DB00175</td>\n",
       "      <td>Alectinib</td>\n",
       "      <td>DB11363</td>\n",
       "      <td>the serum concentration of drug1 can be increa...</td>\n",
       "      <td>[H][C@]12[C@H](C[C@H](O)C=C1C=C[C@H](C)[C@@H]2...</td>\n",
       "      <td>CCC1=CC2=C(C=C1N1CCC(CC1)N1CCOCC1)C(C)(C)C1=C(...</td>\n",
       "      <td>0000000000000000000000000000000000000000000000...</td>\n",
       "      <td>0000000000000000000000000000000000001000000000...</td>\n",
       "      <td>0000000000000000000000000000000000002000000000...</td>\n",
       "    </tr>\n",
       "  </tbody>\n",
       "</table>\n",
       "</div>"
      ],
      "text/plain": [
       "   Unnamed: 0        drug1   db_no1      drug2   db_no2  \\\n",
       "0           8  Pravastatin  DB00175  Alectinib  DB11363   \n",
       "\n",
       "                                      general_syntax  \\\n",
       "0  the serum concentration of drug1 can be increa...   \n",
       "\n",
       "                                             smiles1  \\\n",
       "0  [H][C@]12[C@H](C[C@H](O)C=C1C=C[C@H](C)[C@@H]2...   \n",
       "\n",
       "                                             smiles2  \\\n",
       "0  CCC1=CC2=C(C=C1N1CCC(CC1)N1CCOCC1)C(C)(C)C1=C(...   \n",
       "\n",
       "                                        fingerprint1  \\\n",
       "0  0000000000000000000000000000000000000000000000...   \n",
       "\n",
       "                                        fingerprint2  \\\n",
       "0  0000000000000000000000000000000000001000000000...   \n",
       "\n",
       "                                combined_fingerprint  \n",
       "0  0000000000000000000000000000000000002000000000...  "
      ]
     },
     "execution_count": 103,
     "metadata": {},
     "output_type": "execute_result"
    }
   ],
   "source": [
    "df.head(1)"
   ]
  },
  {
   "cell_type": "code",
   "execution_count": 104,
   "metadata": {},
   "outputs": [],
   "source": [
    "df.to_csv('fingerprint.csv')"
   ]
  }
 ],
 "metadata": {
  "interpreter": {
   "hash": "4c09afe4b8f7c8840abb6699dad2ef7b14e9a2421b65b531128f5c4abc996cd6"
  },
  "kernelspec": {
   "display_name": "Python 3.10.0 ('venv': venv)",
   "language": "python",
   "name": "python3"
  },
  "language_info": {
   "codemirror_mode": {
    "name": "ipython",
    "version": 3
   },
   "file_extension": ".py",
   "mimetype": "text/x-python",
   "name": "python",
   "nbconvert_exporter": "python",
   "pygments_lexer": "ipython3",
   "version": "3.10.0"
  },
  "orig_nbformat": 4
 },
 "nbformat": 4,
 "nbformat_minor": 2
}
