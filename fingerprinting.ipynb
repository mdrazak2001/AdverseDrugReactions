{
 "cells": [
  {
   "cell_type": "code",
   "execution_count": 40,
   "metadata": {},
   "outputs": [],
   "source": [
    "import numpy as np \n",
    "import pandas as pd\n",
    "from rdkit import Chem\n",
    "from rdkit.Chem import MACCSkeys\n",
    "from rdkit.Chem import rdMolDescriptors\n",
    "from rdkit import DataStructs\n",
    "from ast import literal_eval\n"
   ]
  },
  {
   "cell_type": "code",
   "execution_count": 2,
   "metadata": {},
   "outputs": [],
   "source": [
    "df = pd.read_csv('processed_df.csv')"
   ]
  },
  {
   "cell_type": "code",
   "execution_count": 3,
   "metadata": {},
   "outputs": [
    {
     "data": {
      "text/html": [
       "<div>\n",
       "<style scoped>\n",
       "    .dataframe tbody tr th:only-of-type {\n",
       "        vertical-align: middle;\n",
       "    }\n",
       "\n",
       "    .dataframe tbody tr th {\n",
       "        vertical-align: top;\n",
       "    }\n",
       "\n",
       "    .dataframe thead th {\n",
       "        text-align: right;\n",
       "    }\n",
       "</style>\n",
       "<table border=\"1\" class=\"dataframe\">\n",
       "  <thead>\n",
       "    <tr style=\"text-align: right;\">\n",
       "      <th></th>\n",
       "      <th>Unnamed: 0</th>\n",
       "      <th>drug1</th>\n",
       "      <th>db_no1</th>\n",
       "      <th>drug2</th>\n",
       "      <th>db_no2</th>\n",
       "      <th>general_syntax</th>\n",
       "      <th>smiles1</th>\n",
       "      <th>smiles2</th>\n",
       "    </tr>\n",
       "  </thead>\n",
       "  <tbody>\n",
       "    <tr>\n",
       "      <th>0</th>\n",
       "      <td>0</td>\n",
       "      <td>Pravastatin</td>\n",
       "      <td>DB00175</td>\n",
       "      <td>Acebutolol</td>\n",
       "      <td>DB01193</td>\n",
       "      <td>the serum concentration of drug2 can be increa...</td>\n",
       "      <td>[H][C@]12[C@H](C[C@H](O)C=C1C=C[C@H](C)[C@@H]2...</td>\n",
       "      <td>CCCC(=O)NC1=CC(C(C)=O)=C(OCC(O)CNC(C)C)C=C1</td>\n",
       "    </tr>\n",
       "  </tbody>\n",
       "</table>\n",
       "</div>"
      ],
      "text/plain": [
       "   Unnamed: 0        drug1   db_no1       drug2   db_no2  \\\n",
       "0           0  Pravastatin  DB00175  Acebutolol  DB01193   \n",
       "\n",
       "                                      general_syntax  \\\n",
       "0  the serum concentration of drug2 can be increa...   \n",
       "\n",
       "                                             smiles1  \\\n",
       "0  [H][C@]12[C@H](C[C@H](O)C=C1C=C[C@H](C)[C@@H]2...   \n",
       "\n",
       "                                       smiles2  \n",
       "0  CCCC(=O)NC1=CC(C(C)=O)=C(OCC(O)CNC(C)C)C=C1  "
      ]
     },
     "execution_count": 3,
     "metadata": {},
     "output_type": "execute_result"
    }
   ],
   "source": [
    "df.head(1)"
   ]
  },
  {
   "cell_type": "code",
   "execution_count": 4,
   "metadata": {},
   "outputs": [
    {
     "data": {
      "text/plain": [
       "'011001111100011111111111111110111111111111111101001111111110'"
      ]
     },
     "execution_count": 4,
     "metadata": {},
     "output_type": "execute_result"
    }
   ],
   "source": [
    "smile = 'CCN1N=NN(CCN2CCC(COC)(CC2)N(C(=O)CC)C2=CC=CC=C2)C1=O'\n",
    "# smile = 'CCC1=CC2=C(C=C1N1CCC(CC1)N1CCOCC1)C(C)(C)C1=C(C3=C(N1)C=C(C=C3)C#N)C2=O'\n",
    "s_mol = Chem.MolFromSmiles(smile)\n",
    "x = Chem.RDKFingerprint(s_mol, maxPath=3, fpSize=60, useBondOrder=True, branchedPaths=True)\n",
    "# s_mol\n",
    "x.ToBitString()"
   ]
  },
  {
   "cell_type": "code",
   "execution_count": 5,
   "metadata": {},
   "outputs": [],
   "source": [
    "df['fingerprint1'] = 'None'\n",
    "df['fingerprint2'] = 'None'"
   ]
  },
  {
   "cell_type": "code",
   "execution_count": 6,
   "metadata": {},
   "outputs": [],
   "source": [
    "def smiles_to_maccs(smile):\n",
    "    mol = Chem.MolFromSmiles(smile)\n",
    "    return MACCSkeys.GenMACCSKeys(mol).ToBitString()"
   ]
  },
  {
   "cell_type": "code",
   "execution_count": 7,
   "metadata": {},
   "outputs": [],
   "source": [
    "drop_list = []"
   ]
  },
  {
   "cell_type": "code",
   "execution_count": 8,
   "metadata": {},
   "outputs": [
    {
     "name": "stderr",
     "output_type": "stream",
     "text": [
      "[17:52:58] Explicit valence for atom # 0 N, 4, is greater than permitted\n"
     ]
    },
    {
     "name": "stdout",
     "output_type": "stream",
     "text": [
      "59   Python argument types in\n",
      "    rdkit.Chem.rdMolDescriptors.GetMACCSKeysFingerprint(NoneType)\n",
      "did not match C++ signature:\n",
      "    GetMACCSKeysFingerprint(class RDKit::ROMol mol)\n"
     ]
    },
    {
     "name": "stderr",
     "output_type": "stream",
     "text": [
      "[17:52:59] Explicit valence for atom # 0 N, 4, is greater than permitted\n"
     ]
    },
    {
     "name": "stdout",
     "output_type": "stream",
     "text": [
      "493   Python argument types in\n",
      "    rdkit.Chem.rdMolDescriptors.GetMACCSKeysFingerprint(NoneType)\n",
      "did not match C++ signature:\n",
      "    GetMACCSKeysFingerprint(class RDKit::ROMol mol)\n"
     ]
    },
    {
     "name": "stderr",
     "output_type": "stream",
     "text": [
      "[17:53:00] Explicit valence for atom # 0 N, 4, is greater than permitted\n"
     ]
    },
    {
     "name": "stdout",
     "output_type": "stream",
     "text": [
      "899   Python argument types in\n",
      "    rdkit.Chem.rdMolDescriptors.GetMACCSKeysFingerprint(NoneType)\n",
      "did not match C++ signature:\n",
      "    GetMACCSKeysFingerprint(class RDKit::ROMol mol)\n"
     ]
    },
    {
     "name": "stderr",
     "output_type": "stream",
     "text": [
      "[17:53:02] Explicit valence for atom # 0 N, 4, is greater than permitted\n"
     ]
    },
    {
     "name": "stdout",
     "output_type": "stream",
     "text": [
      "1313   Python argument types in\n",
      "    rdkit.Chem.rdMolDescriptors.GetMACCSKeysFingerprint(NoneType)\n",
      "did not match C++ signature:\n",
      "    GetMACCSKeysFingerprint(class RDKit::ROMol mol)\n"
     ]
    },
    {
     "name": "stderr",
     "output_type": "stream",
     "text": [
      "[17:53:03] Explicit valence for atom # 0 N, 4, is greater than permitted\n"
     ]
    },
    {
     "name": "stdout",
     "output_type": "stream",
     "text": [
      "1619   Python argument types in\n",
      "    rdkit.Chem.rdMolDescriptors.GetMACCSKeysFingerprint(NoneType)\n",
      "did not match C++ signature:\n",
      "    GetMACCSKeysFingerprint(class RDKit::ROMol mol)\n"
     ]
    },
    {
     "name": "stderr",
     "output_type": "stream",
     "text": [
      "[17:53:04] Explicit valence for atom # 0 N, 4, is greater than permitted\n"
     ]
    },
    {
     "name": "stdout",
     "output_type": "stream",
     "text": [
      "1942   Python argument types in\n",
      "    rdkit.Chem.rdMolDescriptors.GetMACCSKeysFingerprint(NoneType)\n",
      "did not match C++ signature:\n",
      "    GetMACCSKeysFingerprint(class RDKit::ROMol mol)\n"
     ]
    },
    {
     "name": "stderr",
     "output_type": "stream",
     "text": [
      "[17:53:10] Explicit valence for atom # 0 N, 4, is greater than permitted\n"
     ]
    },
    {
     "name": "stdout",
     "output_type": "stream",
     "text": [
      "3640   Python argument types in\n",
      "    rdkit.Chem.rdMolDescriptors.GetMACCSKeysFingerprint(NoneType)\n",
      "did not match C++ signature:\n",
      "    GetMACCSKeysFingerprint(class RDKit::ROMol mol)\n"
     ]
    },
    {
     "name": "stderr",
     "output_type": "stream",
     "text": [
      "[17:53:13] Explicit valence for atom # 0 N, 4, is greater than permitted\n"
     ]
    },
    {
     "name": "stdout",
     "output_type": "stream",
     "text": [
      "4368   Python argument types in\n",
      "    rdkit.Chem.rdMolDescriptors.GetMACCSKeysFingerprint(NoneType)\n",
      "did not match C++ signature:\n",
      "    GetMACCSKeysFingerprint(class RDKit::ROMol mol)\n"
     ]
    },
    {
     "name": "stderr",
     "output_type": "stream",
     "text": [
      "[17:53:17] Explicit valence for atom # 0 N, 4, is greater than permitted\n"
     ]
    },
    {
     "name": "stdout",
     "output_type": "stream",
     "text": [
      "5403   Python argument types in\n",
      "    rdkit.Chem.rdMolDescriptors.GetMACCSKeysFingerprint(NoneType)\n",
      "did not match C++ signature:\n",
      "    GetMACCSKeysFingerprint(class RDKit::ROMol mol)\n"
     ]
    },
    {
     "name": "stderr",
     "output_type": "stream",
     "text": [
      "[17:53:20] Explicit valence for atom # 0 N, 4, is greater than permitted\n",
      "[17:53:20] Explicit valence for atom # 0 N, 4, is greater than permitted\n"
     ]
    },
    {
     "name": "stdout",
     "output_type": "stream",
     "text": [
      "5915   Python argument types in\n",
      "    rdkit.Chem.rdMolDescriptors.GetMACCSKeysFingerprint(NoneType)\n",
      "did not match C++ signature:\n",
      "    GetMACCSKeysFingerprint(class RDKit::ROMol mol)\n",
      "5950   Python argument types in\n",
      "    rdkit.Chem.rdMolDescriptors.GetMACCSKeysFingerprint(NoneType)\n",
      "did not match C++ signature:\n",
      "    GetMACCSKeysFingerprint(class RDKit::ROMol mol)\n"
     ]
    },
    {
     "name": "stderr",
     "output_type": "stream",
     "text": [
      "[17:53:21] Explicit valence for atom # 0 N, 4, is greater than permitted\n"
     ]
    },
    {
     "name": "stdout",
     "output_type": "stream",
     "text": [
      "6278   Python argument types in\n",
      "    rdkit.Chem.rdMolDescriptors.GetMACCSKeysFingerprint(NoneType)\n",
      "did not match C++ signature:\n",
      "    GetMACCSKeysFingerprint(class RDKit::ROMol mol)\n"
     ]
    },
    {
     "name": "stderr",
     "output_type": "stream",
     "text": [
      "[17:53:29] Explicit valence for atom # 0 N, 4, is greater than permitted\n"
     ]
    },
    {
     "name": "stdout",
     "output_type": "stream",
     "text": [
      "8147   Python argument types in\n",
      "    rdkit.Chem.rdMolDescriptors.GetMACCSKeysFingerprint(NoneType)\n",
      "did not match C++ signature:\n",
      "    GetMACCSKeysFingerprint(class RDKit::ROMol mol)\n"
     ]
    },
    {
     "name": "stderr",
     "output_type": "stream",
     "text": [
      "[17:53:31] Explicit valence for atom # 0 N, 4, is greater than permitted\n"
     ]
    },
    {
     "name": "stdout",
     "output_type": "stream",
     "text": [
      "8827   Python argument types in\n",
      "    rdkit.Chem.rdMolDescriptors.GetMACCSKeysFingerprint(NoneType)\n",
      "did not match C++ signature:\n",
      "    GetMACCSKeysFingerprint(class RDKit::ROMol mol)\n"
     ]
    },
    {
     "name": "stderr",
     "output_type": "stream",
     "text": [
      "[17:53:35] Explicit valence for atom # 0 N, 4, is greater than permitted\n"
     ]
    },
    {
     "name": "stdout",
     "output_type": "stream",
     "text": [
      "9819   Python argument types in\n",
      "    rdkit.Chem.rdMolDescriptors.GetMACCSKeysFingerprint(NoneType)\n",
      "did not match C++ signature:\n",
      "    GetMACCSKeysFingerprint(class RDKit::ROMol mol)\n"
     ]
    },
    {
     "name": "stderr",
     "output_type": "stream",
     "text": [
      "[17:53:37] Explicit valence for atom # 0 N, 4, is greater than permitted\n"
     ]
    },
    {
     "name": "stdout",
     "output_type": "stream",
     "text": [
      "10454   Python argument types in\n",
      "    rdkit.Chem.rdMolDescriptors.GetMACCSKeysFingerprint(NoneType)\n",
      "did not match C++ signature:\n",
      "    GetMACCSKeysFingerprint(class RDKit::ROMol mol)\n"
     ]
    },
    {
     "name": "stderr",
     "output_type": "stream",
     "text": [
      "[17:53:42] Explicit valence for atom # 0 N, 4, is greater than permitted\n"
     ]
    },
    {
     "name": "stdout",
     "output_type": "stream",
     "text": [
      "11884   Python argument types in\n",
      "    rdkit.Chem.rdMolDescriptors.GetMACCSKeysFingerprint(NoneType)\n",
      "did not match C++ signature:\n",
      "    GetMACCSKeysFingerprint(class RDKit::ROMol mol)\n"
     ]
    },
    {
     "name": "stderr",
     "output_type": "stream",
     "text": [
      "[17:53:45] Explicit valence for atom # 0 N, 4, is greater than permitted\n"
     ]
    },
    {
     "name": "stdout",
     "output_type": "stream",
     "text": [
      "12372   Python argument types in\n",
      "    rdkit.Chem.rdMolDescriptors.GetMACCSKeysFingerprint(NoneType)\n",
      "did not match C++ signature:\n",
      "    GetMACCSKeysFingerprint(class RDKit::ROMol mol)\n"
     ]
    },
    {
     "name": "stderr",
     "output_type": "stream",
     "text": [
      "[17:53:49] Explicit valence for atom # 0 N, 4, is greater than permitted\n"
     ]
    },
    {
     "name": "stdout",
     "output_type": "stream",
     "text": [
      "13463   Python argument types in\n",
      "    rdkit.Chem.rdMolDescriptors.GetMACCSKeysFingerprint(NoneType)\n",
      "did not match C++ signature:\n",
      "    GetMACCSKeysFingerprint(class RDKit::ROMol mol)\n"
     ]
    },
    {
     "name": "stderr",
     "output_type": "stream",
     "text": [
      "[17:53:51] Explicit valence for atom # 0 N, 4, is greater than permitted\n"
     ]
    },
    {
     "name": "stdout",
     "output_type": "stream",
     "text": [
      "13979   Python argument types in\n",
      "    rdkit.Chem.rdMolDescriptors.GetMACCSKeysFingerprint(NoneType)\n",
      "did not match C++ signature:\n",
      "    GetMACCSKeysFingerprint(class RDKit::ROMol mol)\n"
     ]
    },
    {
     "name": "stderr",
     "output_type": "stream",
     "text": [
      "[17:53:53] Explicit valence for atom # 0 N, 4, is greater than permitted\n"
     ]
    },
    {
     "name": "stdout",
     "output_type": "stream",
     "text": [
      "14547   Python argument types in\n",
      "    rdkit.Chem.rdMolDescriptors.GetMACCSKeysFingerprint(NoneType)\n",
      "did not match C++ signature:\n",
      "    GetMACCSKeysFingerprint(class RDKit::ROMol mol)\n"
     ]
    },
    {
     "name": "stderr",
     "output_type": "stream",
     "text": [
      "[17:53:59] Explicit valence for atom # 0 N, 4, is greater than permitted\n"
     ]
    },
    {
     "name": "stdout",
     "output_type": "stream",
     "text": [
      "16202   Python argument types in\n",
      "    rdkit.Chem.rdMolDescriptors.GetMACCSKeysFingerprint(NoneType)\n",
      "did not match C++ signature:\n",
      "    GetMACCSKeysFingerprint(class RDKit::ROMol mol)\n"
     ]
    },
    {
     "name": "stderr",
     "output_type": "stream",
     "text": [
      "[17:54:05] Explicit valence for atom # 0 N, 4, is greater than permitted\n"
     ]
    },
    {
     "name": "stdout",
     "output_type": "stream",
     "text": [
      "17565   Python argument types in\n",
      "    rdkit.Chem.rdMolDescriptors.GetMACCSKeysFingerprint(NoneType)\n",
      "did not match C++ signature:\n",
      "    GetMACCSKeysFingerprint(class RDKit::ROMol mol)\n"
     ]
    },
    {
     "name": "stderr",
     "output_type": "stream",
     "text": [
      "[17:54:08] Explicit valence for atom # 0 N, 4, is greater than permitted\n"
     ]
    },
    {
     "name": "stdout",
     "output_type": "stream",
     "text": [
      "18363   Python argument types in\n",
      "    rdkit.Chem.rdMolDescriptors.GetMACCSKeysFingerprint(NoneType)\n",
      "did not match C++ signature:\n",
      "    GetMACCSKeysFingerprint(class RDKit::ROMol mol)\n"
     ]
    },
    {
     "name": "stderr",
     "output_type": "stream",
     "text": [
      "[17:54:11] Explicit valence for atom # 0 N, 4, is greater than permitted\n"
     ]
    },
    {
     "name": "stdout",
     "output_type": "stream",
     "text": [
      "19198   Python argument types in\n",
      "    rdkit.Chem.rdMolDescriptors.GetMACCSKeysFingerprint(NoneType)\n",
      "did not match C++ signature:\n",
      "    GetMACCSKeysFingerprint(class RDKit::ROMol mol)\n"
     ]
    },
    {
     "name": "stderr",
     "output_type": "stream",
     "text": [
      "[17:54:13] Explicit valence for atom # 0 N, 4, is greater than permitted\n"
     ]
    },
    {
     "name": "stdout",
     "output_type": "stream",
     "text": [
      "19807   Python argument types in\n",
      "    rdkit.Chem.rdMolDescriptors.GetMACCSKeysFingerprint(NoneType)\n",
      "did not match C++ signature:\n",
      "    GetMACCSKeysFingerprint(class RDKit::ROMol mol)\n"
     ]
    },
    {
     "name": "stderr",
     "output_type": "stream",
     "text": [
      "[17:54:19] Explicit valence for atom # 0 N, 4, is greater than permitted\n"
     ]
    },
    {
     "name": "stdout",
     "output_type": "stream",
     "text": [
      "21156   Python argument types in\n",
      "    rdkit.Chem.rdMolDescriptors.GetMACCSKeysFingerprint(NoneType)\n",
      "did not match C++ signature:\n",
      "    GetMACCSKeysFingerprint(class RDKit::ROMol mol)\n"
     ]
    },
    {
     "name": "stderr",
     "output_type": "stream",
     "text": [
      "[17:54:28] Explicit valence for atom # 0 N, 4, is greater than permitted\n"
     ]
    },
    {
     "name": "stdout",
     "output_type": "stream",
     "text": [
      "23346   Python argument types in\n",
      "    rdkit.Chem.rdMolDescriptors.GetMACCSKeysFingerprint(NoneType)\n",
      "did not match C++ signature:\n",
      "    GetMACCSKeysFingerprint(class RDKit::ROMol mol)\n"
     ]
    }
   ],
   "source": [
    "for i in df.index:\n",
    "    smiles1 = df.at[i, 'smiles1']\n",
    "    smiles2 = df.at[i, 'smiles2']\n",
    "    try:\n",
    "        df.at[i, 'fingerprint1'] = str(smiles_to_maccs(smiles1))\n",
    "        df.at[i, 'fingerprint2'] = str(smiles_to_maccs(smiles2))\n",
    "    except Exception as e:\n",
    "        print(i, ' ', e)\n",
    "    if((df.at[i, 'fingerprint1'] == 'None') or (df.at[i, 'fingerprint2'] == 'None')):\n",
    "        drop_list.append(i)\n",
    "        continue"
   ]
  },
  {
   "cell_type": "code",
   "execution_count": 9,
   "metadata": {},
   "outputs": [
    {
     "data": {
      "text/html": [
       "<div>\n",
       "<style scoped>\n",
       "    .dataframe tbody tr th:only-of-type {\n",
       "        vertical-align: middle;\n",
       "    }\n",
       "\n",
       "    .dataframe tbody tr th {\n",
       "        vertical-align: top;\n",
       "    }\n",
       "\n",
       "    .dataframe thead th {\n",
       "        text-align: right;\n",
       "    }\n",
       "</style>\n",
       "<table border=\"1\" class=\"dataframe\">\n",
       "  <thead>\n",
       "    <tr style=\"text-align: right;\">\n",
       "      <th></th>\n",
       "      <th>Unnamed: 0</th>\n",
       "      <th>drug1</th>\n",
       "      <th>db_no1</th>\n",
       "      <th>drug2</th>\n",
       "      <th>db_no2</th>\n",
       "      <th>general_syntax</th>\n",
       "      <th>smiles1</th>\n",
       "      <th>smiles2</th>\n",
       "      <th>fingerprint1</th>\n",
       "      <th>fingerprint2</th>\n",
       "    </tr>\n",
       "  </thead>\n",
       "  <tbody>\n",
       "    <tr>\n",
       "      <th>0</th>\n",
       "      <td>0</td>\n",
       "      <td>Pravastatin</td>\n",
       "      <td>DB00175</td>\n",
       "      <td>Acebutolol</td>\n",
       "      <td>DB01193</td>\n",
       "      <td>the serum concentration of drug2 can be increa...</td>\n",
       "      <td>[H][C@]12[C@H](C[C@H](O)C=C1C=C[C@H](C)[C@@H]2...</td>\n",
       "      <td>CCCC(=O)NC1=CC(C(C)=O)=C(OCC(O)CNC(C)C)C=C1</td>\n",
       "      <td>0000000000000000000000000010000000000000000000...</td>\n",
       "      <td>0000000000000000000000000000000000000000000000...</td>\n",
       "    </tr>\n",
       "    <tr>\n",
       "      <th>1</th>\n",
       "      <td>2</td>\n",
       "      <td>Pravastatin</td>\n",
       "      <td>DB00175</td>\n",
       "      <td>Acetaminophen</td>\n",
       "      <td>DB00316</td>\n",
       "      <td>the serum concentration of drug1 can be increa...</td>\n",
       "      <td>[H][C@]12[C@H](C[C@H](O)C=C1C=C[C@H](C)[C@@H]2...</td>\n",
       "      <td>CC(=O)NC1=CC=C(O)C=C1</td>\n",
       "      <td>0000000000000000000000000010000000000000000000...</td>\n",
       "      <td>0000000000000000000000000000000000000000000000...</td>\n",
       "    </tr>\n",
       "  </tbody>\n",
       "</table>\n",
       "</div>"
      ],
      "text/plain": [
       "   Unnamed: 0        drug1   db_no1          drug2   db_no2  \\\n",
       "0           0  Pravastatin  DB00175     Acebutolol  DB01193   \n",
       "1           2  Pravastatin  DB00175  Acetaminophen  DB00316   \n",
       "\n",
       "                                      general_syntax  \\\n",
       "0  the serum concentration of drug2 can be increa...   \n",
       "1  the serum concentration of drug1 can be increa...   \n",
       "\n",
       "                                             smiles1  \\\n",
       "0  [H][C@]12[C@H](C[C@H](O)C=C1C=C[C@H](C)[C@@H]2...   \n",
       "1  [H][C@]12[C@H](C[C@H](O)C=C1C=C[C@H](C)[C@@H]2...   \n",
       "\n",
       "                                       smiles2  \\\n",
       "0  CCCC(=O)NC1=CC(C(C)=O)=C(OCC(O)CNC(C)C)C=C1   \n",
       "1                        CC(=O)NC1=CC=C(O)C=C1   \n",
       "\n",
       "                                        fingerprint1  \\\n",
       "0  0000000000000000000000000010000000000000000000...   \n",
       "1  0000000000000000000000000010000000000000000000...   \n",
       "\n",
       "                                        fingerprint2  \n",
       "0  0000000000000000000000000000000000000000000000...  \n",
       "1  0000000000000000000000000000000000000000000000...  "
      ]
     },
     "execution_count": 9,
     "metadata": {},
     "output_type": "execute_result"
    }
   ],
   "source": [
    "df.head(2)"
   ]
  },
  {
   "cell_type": "code",
   "execution_count": 10,
   "metadata": {},
   "outputs": [],
   "source": [
    "df.drop(index=drop_list, inplace = True)"
   ]
  },
  {
   "cell_type": "code",
   "execution_count": 11,
   "metadata": {},
   "outputs": [],
   "source": [
    "df['combined_fingerprint'] = 'None'"
   ]
  },
  {
   "cell_type": "code",
   "execution_count": 12,
   "metadata": {},
   "outputs": [],
   "source": [
    "for i in df.index:\n",
    "    fingerprint1 = df.at[i, 'fingerprint1'] \n",
    "    fingerprint2 = df.at[i, 'fingerprint2'] \n",
    "    # print(len(fingerprint1))\n",
    "    result = ''\n",
    "    for x in range(0, 167):\n",
    "        if fingerprint1[x] == '0' and fingerprint2[x] == '0':\n",
    "            result += '0'\n",
    "        if fingerprint1[x] == '0' and fingerprint2[x] == '1':\n",
    "            result += '2'\n",
    "        if fingerprint1[x] == '1' and fingerprint2[x] == '0':\n",
    "            result += '1'\n",
    "        if fingerprint1[x] == '1' and fingerprint2[x] == '1':\n",
    "            result += '3'\n",
    "    df.at[i, 'combined_fingerprint'] = result\n",
    "    "
   ]
  },
  {
   "cell_type": "code",
   "execution_count": 13,
   "metadata": {},
   "outputs": [
    {
     "data": {
      "text/html": [
       "<div>\n",
       "<style scoped>\n",
       "    .dataframe tbody tr th:only-of-type {\n",
       "        vertical-align: middle;\n",
       "    }\n",
       "\n",
       "    .dataframe tbody tr th {\n",
       "        vertical-align: top;\n",
       "    }\n",
       "\n",
       "    .dataframe thead th {\n",
       "        text-align: right;\n",
       "    }\n",
       "</style>\n",
       "<table border=\"1\" class=\"dataframe\">\n",
       "  <thead>\n",
       "    <tr style=\"text-align: right;\">\n",
       "      <th></th>\n",
       "      <th>Unnamed: 0</th>\n",
       "      <th>drug1</th>\n",
       "      <th>db_no1</th>\n",
       "      <th>drug2</th>\n",
       "      <th>db_no2</th>\n",
       "      <th>general_syntax</th>\n",
       "      <th>smiles1</th>\n",
       "      <th>smiles2</th>\n",
       "      <th>fingerprint1</th>\n",
       "      <th>fingerprint2</th>\n",
       "      <th>combined_fingerprint</th>\n",
       "    </tr>\n",
       "  </thead>\n",
       "  <tbody>\n",
       "    <tr>\n",
       "      <th>0</th>\n",
       "      <td>0</td>\n",
       "      <td>Pravastatin</td>\n",
       "      <td>DB00175</td>\n",
       "      <td>Acebutolol</td>\n",
       "      <td>DB01193</td>\n",
       "      <td>the serum concentration of drug2 can be increa...</td>\n",
       "      <td>[H][C@]12[C@H](C[C@H](O)C=C1C=C[C@H](C)[C@@H]2...</td>\n",
       "      <td>CCCC(=O)NC1=CC(C(C)=O)=C(OCC(O)CNC(C)C)C=C1</td>\n",
       "      <td>0000000000000000000000000010000000000000000000...</td>\n",
       "      <td>0000000000000000000000000000000000000000000000...</td>\n",
       "      <td>0000000000000000000000000010000000000000000000...</td>\n",
       "    </tr>\n",
       "  </tbody>\n",
       "</table>\n",
       "</div>"
      ],
      "text/plain": [
       "   Unnamed: 0        drug1   db_no1       drug2   db_no2  \\\n",
       "0           0  Pravastatin  DB00175  Acebutolol  DB01193   \n",
       "\n",
       "                                      general_syntax  \\\n",
       "0  the serum concentration of drug2 can be increa...   \n",
       "\n",
       "                                             smiles1  \\\n",
       "0  [H][C@]12[C@H](C[C@H](O)C=C1C=C[C@H](C)[C@@H]2...   \n",
       "\n",
       "                                       smiles2  \\\n",
       "0  CCCC(=O)NC1=CC(C(C)=O)=C(OCC(O)CNC(C)C)C=C1   \n",
       "\n",
       "                                        fingerprint1  \\\n",
       "0  0000000000000000000000000010000000000000000000...   \n",
       "\n",
       "                                        fingerprint2  \\\n",
       "0  0000000000000000000000000000000000000000000000...   \n",
       "\n",
       "                                combined_fingerprint  \n",
       "0  0000000000000000000000000010000000000000000000...  "
      ]
     },
     "execution_count": 13,
     "metadata": {},
     "output_type": "execute_result"
    }
   ],
   "source": [
    "df.head(1)"
   ]
  },
  {
   "cell_type": "code",
   "execution_count": 37,
   "metadata": {},
   "outputs": [
    {
     "ename": "ValueError",
     "evalue": "invalid literal for int() with base 10: '['",
     "output_type": "error",
     "traceback": [
      "\u001b[1;31m---------------------------------------------------------------------------\u001b[0m",
      "\u001b[1;31mValueError\u001b[0m                                Traceback (most recent call last)",
      "\u001b[1;32mc:\\Users\\RAZAK\\Desktop\\Github\\ADR\\fingerprinting.ipynb Cell 14'\u001b[0m in \u001b[0;36m<cell line: 1>\u001b[1;34m()\u001b[0m\n\u001b[0;32m      <a href='vscode-notebook-cell:/c%3A/Users/RAZAK/Desktop/Github/ADR/fingerprinting.ipynb#ch0000015?line=2'>3</a>\u001b[0m x \u001b[39m=\u001b[39m \u001b[39mlist\u001b[39m(np\u001b[39m.\u001b[39marray(\u001b[39mlist\u001b[39m(\u001b[39mmap\u001b[39m(\u001b[39mlist\u001b[39m, [combined_fingerprint])))) \u001b[39m# adding commas\u001b[39;00m\n\u001b[0;32m      <a href='vscode-notebook-cell:/c%3A/Users/RAZAK/Desktop/Github/ADR/fingerprinting.ipynb#ch0000015?line=3'>4</a>\u001b[0m x \u001b[39m=\u001b[39m \u001b[39mlist\u001b[39m(x[\u001b[39m0\u001b[39m]) \u001b[39m# take array & not array of arrays of chars\u001b[39;00m\n\u001b[1;32m----> <a href='vscode-notebook-cell:/c%3A/Users/RAZAK/Desktop/Github/ADR/fingerprinting.ipynb#ch0000015?line=4'>5</a>\u001b[0m x \u001b[39m=\u001b[39m \u001b[39mlist\u001b[39;49m(\u001b[39mmap\u001b[39;49m(\u001b[39mint\u001b[39;49m, x)) \u001b[39m# chars -> int\u001b[39;00m\n\u001b[0;32m      <a href='vscode-notebook-cell:/c%3A/Users/RAZAK/Desktop/Github/ADR/fingerprinting.ipynb#ch0000015?line=5'>6</a>\u001b[0m \u001b[39m# print(x)\u001b[39;00m\n\u001b[0;32m      <a href='vscode-notebook-cell:/c%3A/Users/RAZAK/Desktop/Github/ADR/fingerprinting.ipynb#ch0000015?line=6'>7</a>\u001b[0m \u001b[39m# df.at[i, 'combined_fingerprint'] = x\u001b[39;00m\n\u001b[0;32m      <a href='vscode-notebook-cell:/c%3A/Users/RAZAK/Desktop/Github/ADR/fingerprinting.ipynb#ch0000015?line=7'>8</a>\u001b[0m \u001b[39mbreak\u001b[39;00m\n",
      "\u001b[1;31mValueError\u001b[0m: invalid literal for int() with base 10: '['"
     ]
    }
   ],
   "source": [
    "for i in df.index:\n",
    "    combined_fingerprint = df.at[i, 'combined_fingerprint']\n",
    "    x = list(np.array(list(map(list, [combined_fingerprint])))) # adding commas\n",
    "    x = list(x[0]) # take array & not array of arrays of chars\n",
    "    x = list(map(int, x)) # chars -> int\n",
    "    # print(x)\n",
    "    df.at[i, 'combined_fingerprint'] = x\n",
    "    break"
   ]
  },
  {
   "cell_type": "code",
   "execution_count": 42,
   "metadata": {},
   "outputs": [
    {
     "name": "stdout",
     "output_type": "stream",
     "text": [
      "[0, 0, 0, 0, 0, 0, 0, 0, 0, 0, 0, 0, 0, 0, 0, 0, 0, 0, 0, 0, 0, 0, 0, 0, 0, 0, 1, 0, 0, 0, 0, 0, 0, 0, 0, 0, 0, 0, 0, 0, 0, 0, 0, 0, 0, 0, 0, 0, 0, 0, 1, 0, 0, 1, 2, 0, 0, 0, 0, 0, 0, 0, 0, 0, 0, 0, 0, 0, 0, 0, 0, 0, 2, 0, 2, 0, 1, 0, 0, 0, 0, 0, 2, 0, 0, 0, 0, 0, 0, 3, 3, 1, 2, 0, 0, 2, 0, 2, 0, 1, 2, 1, 0, 0, 3, 1, 0, 0, 1, 2, 2, 2, 0, 2, 3, 3, 3, 2, 3, 0, 0, 0, 0, 1, 0, 0, 3, 3, 1, 1, 0, 3, 3, 2, 0, 2, 3, 0, 2, 3, 3, 3, 2, 3, 2, 1, 3, 3, 0, 3, 3, 2, 3, 2, 3, 3, 2, 3, 2, 3, 3, 2, 2, 3, 3, 3, 0]\n"
     ]
    }
   ],
   "source": [
    "for i in df.index:\n",
    "    \n",
    "    print(literal_eval(df.at[i, 'combined_fingerprint']))\n",
    "    break"
   ]
  },
  {
   "cell_type": "code",
   "execution_count": 26,
   "metadata": {},
   "outputs": [
    {
     "data": {
      "text/html": [
       "<div>\n",
       "<style scoped>\n",
       "    .dataframe tbody tr th:only-of-type {\n",
       "        vertical-align: middle;\n",
       "    }\n",
       "\n",
       "    .dataframe tbody tr th {\n",
       "        vertical-align: top;\n",
       "    }\n",
       "\n",
       "    .dataframe thead th {\n",
       "        text-align: right;\n",
       "    }\n",
       "</style>\n",
       "<table border=\"1\" class=\"dataframe\">\n",
       "  <thead>\n",
       "    <tr style=\"text-align: right;\">\n",
       "      <th></th>\n",
       "      <th>Unnamed: 0</th>\n",
       "      <th>drug1</th>\n",
       "      <th>db_no1</th>\n",
       "      <th>drug2</th>\n",
       "      <th>db_no2</th>\n",
       "      <th>general_syntax</th>\n",
       "      <th>smiles1</th>\n",
       "      <th>smiles2</th>\n",
       "      <th>fingerprint1</th>\n",
       "      <th>fingerprint2</th>\n",
       "      <th>combined_fingerprint</th>\n",
       "      <th>general_syntax#</th>\n",
       "    </tr>\n",
       "  </thead>\n",
       "  <tbody>\n",
       "    <tr>\n",
       "      <th>0</th>\n",
       "      <td>0</td>\n",
       "      <td>Pravastatin</td>\n",
       "      <td>DB00175</td>\n",
       "      <td>Acebutolol</td>\n",
       "      <td>DB01193</td>\n",
       "      <td>the serum concentration of drug2 can be increa...</td>\n",
       "      <td>[H][C@]12[C@H](C[C@H](O)C=C1C=C[C@H](C)[C@@H]2...</td>\n",
       "      <td>CCCC(=O)NC1=CC(C(C)=O)=C(OCC(O)CNC(C)C)C=C1</td>\n",
       "      <td>0000000000000000000000000010000000000000000000...</td>\n",
       "      <td>0000000000000000000000000000000000000000000000...</td>\n",
       "      <td>[0, 0, 0, 0, 0, 0, 0, 0, 0, 0, 0, 0, 0, 0, 0, ...</td>\n",
       "      <td>3</td>\n",
       "    </tr>\n",
       "    <tr>\n",
       "      <th>1</th>\n",
       "      <td>2</td>\n",
       "      <td>Pravastatin</td>\n",
       "      <td>DB00175</td>\n",
       "      <td>Acetaminophen</td>\n",
       "      <td>DB00316</td>\n",
       "      <td>the serum concentration of drug1 can be increa...</td>\n",
       "      <td>[H][C@]12[C@H](C[C@H](O)C=C1C=C[C@H](C)[C@@H]2...</td>\n",
       "      <td>CC(=O)NC1=CC=C(O)C=C1</td>\n",
       "      <td>0000000000000000000000000010000000000000000000...</td>\n",
       "      <td>0000000000000000000000000000000000000000000000...</td>\n",
       "      <td>[0, 0, 0, 0, 0, 0, 0, 0, 0, 0, 0, 0, 0, 0, 0, ...</td>\n",
       "      <td>2</td>\n",
       "    </tr>\n",
       "    <tr>\n",
       "      <th>2</th>\n",
       "      <td>3</td>\n",
       "      <td>Pravastatin</td>\n",
       "      <td>DB00175</td>\n",
       "      <td>Acetylsalicylic acid</td>\n",
       "      <td>DB00945</td>\n",
       "      <td>the serum concentration of drug2 can be increa...</td>\n",
       "      <td>[H][C@]12[C@H](C[C@H](O)C=C1C=C[C@H](C)[C@@H]2...</td>\n",
       "      <td>CC(=O)OC1=CC=CC=C1C(O)=O</td>\n",
       "      <td>0000000000000000000000000010000000000000000000...</td>\n",
       "      <td>0000000000000000000000000000000000000000000000...</td>\n",
       "      <td>[0, 0, 0, 0, 0, 0, 0, 0, 0, 0, 0, 0, 0, 0, 0, ...</td>\n",
       "      <td>3</td>\n",
       "    </tr>\n",
       "    <tr>\n",
       "      <th>3</th>\n",
       "      <td>5</td>\n",
       "      <td>Pravastatin</td>\n",
       "      <td>DB00175</td>\n",
       "      <td>Afatinib</td>\n",
       "      <td>DB08916</td>\n",
       "      <td>the serum concentration of drug2 can be increa...</td>\n",
       "      <td>[H][C@]12[C@H](C[C@H](O)C=C1C=C[C@H](C)[C@@H]2...</td>\n",
       "      <td>CN(C)C\\C=C\\C(=O)NC1=C(O[C@H]2CCOC2)C=C2N=CN=C(...</td>\n",
       "      <td>0000000000000000000000000010000000000000000000...</td>\n",
       "      <td>0000000000000000000000000000000000000010001000...</td>\n",
       "      <td>[0, 0, 0, 0, 0, 0, 0, 0, 0, 0, 0, 0, 0, 0, 0, ...</td>\n",
       "      <td>3</td>\n",
       "    </tr>\n",
       "    <tr>\n",
       "      <th>4</th>\n",
       "      <td>6</td>\n",
       "      <td>Pravastatin</td>\n",
       "      <td>DB00175</td>\n",
       "      <td>Albendazole</td>\n",
       "      <td>DB00518</td>\n",
       "      <td>the serum concentration of drug1 can be increa...</td>\n",
       "      <td>[H][C@]12[C@H](C[C@H](O)C=C1C=C[C@H](C)[C@@H]2...</td>\n",
       "      <td>CCCSC1=CC2=C(C=C1)N=C(NC(=O)OC)N2</td>\n",
       "      <td>0000000000000000000000000010000000000000000000...</td>\n",
       "      <td>0000000000000000000000010100000000000000000100...</td>\n",
       "      <td>[0, 0, 0, 0, 0, 0, 0, 0, 0, 0, 0, 0, 0, 0, 0, ...</td>\n",
       "      <td>2</td>\n",
       "    </tr>\n",
       "    <tr>\n",
       "      <th>5</th>\n",
       "      <td>8</td>\n",
       "      <td>Pravastatin</td>\n",
       "      <td>DB00175</td>\n",
       "      <td>Alectinib</td>\n",
       "      <td>DB11363</td>\n",
       "      <td>the serum concentration of drug1 can be increa...</td>\n",
       "      <td>[H][C@]12[C@H](C[C@H](O)C=C1C=C[C@H](C)[C@@H]2...</td>\n",
       "      <td>CCC1=CC2=C(C=C1N1CCC(CC1)N1CCOCC1)C(C)(C)C1=C(...</td>\n",
       "      <td>0000000000000000000000000010000000000000000000...</td>\n",
       "      <td>0000000000000000000000000000000000000000010000...</td>\n",
       "      <td>[0, 0, 0, 0, 0, 0, 0, 0, 0, 0, 0, 0, 0, 0, 0, ...</td>\n",
       "      <td>2</td>\n",
       "    </tr>\n",
       "    <tr>\n",
       "      <th>6</th>\n",
       "      <td>9</td>\n",
       "      <td>Pravastatin</td>\n",
       "      <td>DB00175</td>\n",
       "      <td>Alfentanil</td>\n",
       "      <td>DB00802</td>\n",
       "      <td>the serum concentration of drug1 can be increa...</td>\n",
       "      <td>[H][C@]12[C@H](C[C@H](O)C=C1C=C[C@H](C)[C@@H]2...</td>\n",
       "      <td>CCN1N=NN(CCN2CCC(COC)(CC2)N(C(=O)CC)C2=CC=CC=C...</td>\n",
       "      <td>0000000000000000000000000010000000000000000000...</td>\n",
       "      <td>0000000000000000000000000000000000000100000000...</td>\n",
       "      <td>[0, 0, 0, 0, 0, 0, 0, 0, 0, 0, 0, 0, 0, 0, 0, ...</td>\n",
       "      <td>2</td>\n",
       "    </tr>\n",
       "    <tr>\n",
       "      <th>7</th>\n",
       "      <td>10</td>\n",
       "      <td>Pravastatin</td>\n",
       "      <td>DB00175</td>\n",
       "      <td>Alitretinoin</td>\n",
       "      <td>DB00523</td>\n",
       "      <td>the serum concentration of drug2 can be increa...</td>\n",
       "      <td>[H][C@]12[C@H](C[C@H](O)C=C1C=C[C@H](C)[C@@H]2...</td>\n",
       "      <td>C\\C(\\C=C\\C1=C(C)CCCC1(C)C)=C\\C=C\\C(\\C)=C\\C(O)=O</td>\n",
       "      <td>0000000000000000000000000010000000000000000000...</td>\n",
       "      <td>0000000000000000000000000000000000000000000000...</td>\n",
       "      <td>[0, 0, 0, 0, 0, 0, 0, 0, 0, 0, 0, 0, 0, 0, 0, ...</td>\n",
       "      <td>3</td>\n",
       "    </tr>\n",
       "    <tr>\n",
       "      <th>8</th>\n",
       "      <td>13</td>\n",
       "      <td>Pravastatin</td>\n",
       "      <td>DB00175</td>\n",
       "      <td>Amantadine</td>\n",
       "      <td>DB00915</td>\n",
       "      <td>the serum concentration of drug1 can be increa...</td>\n",
       "      <td>[H][C@]12[C@H](C[C@H](O)C=C1C=C[C@H](C)[C@@H]2...</td>\n",
       "      <td>NC12CC3CC(CC(C3)C1)C2</td>\n",
       "      <td>0000000000000000000000000010000000000000000000...</td>\n",
       "      <td>0000000000000000000000000000000000000000000000...</td>\n",
       "      <td>[0, 0, 0, 0, 0, 0, 0, 0, 0, 0, 0, 0, 0, 0, 0, ...</td>\n",
       "      <td>2</td>\n",
       "    </tr>\n",
       "    <tr>\n",
       "      <th>9</th>\n",
       "      <td>14</td>\n",
       "      <td>Pravastatin</td>\n",
       "      <td>DB00175</td>\n",
       "      <td>Ambrisentan</td>\n",
       "      <td>DB06403</td>\n",
       "      <td>the serum concentration of drug2 can be increa...</td>\n",
       "      <td>[H][C@]12[C@H](C[C@H](O)C=C1C=C[C@H](C)[C@@H]2...</td>\n",
       "      <td>COC([C@H](OC1=NC(C)=CC(C)=N1)C(O)=O)(C1=CC=CC=...</td>\n",
       "      <td>0000000000000000000000000010000000000000000000...</td>\n",
       "      <td>0000000000000000000000000000000000000100000000...</td>\n",
       "      <td>[0, 0, 0, 0, 0, 0, 0, 0, 0, 0, 0, 0, 0, 0, 0, ...</td>\n",
       "      <td>3</td>\n",
       "    </tr>\n",
       "  </tbody>\n",
       "</table>\n",
       "</div>"
      ],
      "text/plain": [
       "   Unnamed: 0        drug1   db_no1                 drug2   db_no2  \\\n",
       "0           0  Pravastatin  DB00175            Acebutolol  DB01193   \n",
       "1           2  Pravastatin  DB00175         Acetaminophen  DB00316   \n",
       "2           3  Pravastatin  DB00175  Acetylsalicylic acid  DB00945   \n",
       "3           5  Pravastatin  DB00175              Afatinib  DB08916   \n",
       "4           6  Pravastatin  DB00175           Albendazole  DB00518   \n",
       "5           8  Pravastatin  DB00175             Alectinib  DB11363   \n",
       "6           9  Pravastatin  DB00175            Alfentanil  DB00802   \n",
       "7          10  Pravastatin  DB00175          Alitretinoin  DB00523   \n",
       "8          13  Pravastatin  DB00175            Amantadine  DB00915   \n",
       "9          14  Pravastatin  DB00175           Ambrisentan  DB06403   \n",
       "\n",
       "                                      general_syntax  \\\n",
       "0  the serum concentration of drug2 can be increa...   \n",
       "1  the serum concentration of drug1 can be increa...   \n",
       "2  the serum concentration of drug2 can be increa...   \n",
       "3  the serum concentration of drug2 can be increa...   \n",
       "4  the serum concentration of drug1 can be increa...   \n",
       "5  the serum concentration of drug1 can be increa...   \n",
       "6  the serum concentration of drug1 can be increa...   \n",
       "7  the serum concentration of drug2 can be increa...   \n",
       "8  the serum concentration of drug1 can be increa...   \n",
       "9  the serum concentration of drug2 can be increa...   \n",
       "\n",
       "                                             smiles1  \\\n",
       "0  [H][C@]12[C@H](C[C@H](O)C=C1C=C[C@H](C)[C@@H]2...   \n",
       "1  [H][C@]12[C@H](C[C@H](O)C=C1C=C[C@H](C)[C@@H]2...   \n",
       "2  [H][C@]12[C@H](C[C@H](O)C=C1C=C[C@H](C)[C@@H]2...   \n",
       "3  [H][C@]12[C@H](C[C@H](O)C=C1C=C[C@H](C)[C@@H]2...   \n",
       "4  [H][C@]12[C@H](C[C@H](O)C=C1C=C[C@H](C)[C@@H]2...   \n",
       "5  [H][C@]12[C@H](C[C@H](O)C=C1C=C[C@H](C)[C@@H]2...   \n",
       "6  [H][C@]12[C@H](C[C@H](O)C=C1C=C[C@H](C)[C@@H]2...   \n",
       "7  [H][C@]12[C@H](C[C@H](O)C=C1C=C[C@H](C)[C@@H]2...   \n",
       "8  [H][C@]12[C@H](C[C@H](O)C=C1C=C[C@H](C)[C@@H]2...   \n",
       "9  [H][C@]12[C@H](C[C@H](O)C=C1C=C[C@H](C)[C@@H]2...   \n",
       "\n",
       "                                             smiles2  \\\n",
       "0        CCCC(=O)NC1=CC(C(C)=O)=C(OCC(O)CNC(C)C)C=C1   \n",
       "1                              CC(=O)NC1=CC=C(O)C=C1   \n",
       "2                           CC(=O)OC1=CC=CC=C1C(O)=O   \n",
       "3  CN(C)C\\C=C\\C(=O)NC1=C(O[C@H]2CCOC2)C=C2N=CN=C(...   \n",
       "4                  CCCSC1=CC2=C(C=C1)N=C(NC(=O)OC)N2   \n",
       "5  CCC1=CC2=C(C=C1N1CCC(CC1)N1CCOCC1)C(C)(C)C1=C(...   \n",
       "6  CCN1N=NN(CCN2CCC(COC)(CC2)N(C(=O)CC)C2=CC=CC=C...   \n",
       "7    C\\C(\\C=C\\C1=C(C)CCCC1(C)C)=C\\C=C\\C(\\C)=C\\C(O)=O   \n",
       "8                              NC12CC3CC(CC(C3)C1)C2   \n",
       "9  COC([C@H](OC1=NC(C)=CC(C)=N1)C(O)=O)(C1=CC=CC=...   \n",
       "\n",
       "                                        fingerprint1  \\\n",
       "0  0000000000000000000000000010000000000000000000...   \n",
       "1  0000000000000000000000000010000000000000000000...   \n",
       "2  0000000000000000000000000010000000000000000000...   \n",
       "3  0000000000000000000000000010000000000000000000...   \n",
       "4  0000000000000000000000000010000000000000000000...   \n",
       "5  0000000000000000000000000010000000000000000000...   \n",
       "6  0000000000000000000000000010000000000000000000...   \n",
       "7  0000000000000000000000000010000000000000000000...   \n",
       "8  0000000000000000000000000010000000000000000000...   \n",
       "9  0000000000000000000000000010000000000000000000...   \n",
       "\n",
       "                                        fingerprint2  \\\n",
       "0  0000000000000000000000000000000000000000000000...   \n",
       "1  0000000000000000000000000000000000000000000000...   \n",
       "2  0000000000000000000000000000000000000000000000...   \n",
       "3  0000000000000000000000000000000000000010001000...   \n",
       "4  0000000000000000000000010100000000000000000100...   \n",
       "5  0000000000000000000000000000000000000000010000...   \n",
       "6  0000000000000000000000000000000000000100000000...   \n",
       "7  0000000000000000000000000000000000000000000000...   \n",
       "8  0000000000000000000000000000000000000000000000...   \n",
       "9  0000000000000000000000000000000000000100000000...   \n",
       "\n",
       "                                combined_fingerprint general_syntax#  \n",
       "0  [0, 0, 0, 0, 0, 0, 0, 0, 0, 0, 0, 0, 0, 0, 0, ...               3  \n",
       "1  [0, 0, 0, 0, 0, 0, 0, 0, 0, 0, 0, 0, 0, 0, 0, ...               2  \n",
       "2  [0, 0, 0, 0, 0, 0, 0, 0, 0, 0, 0, 0, 0, 0, 0, ...               3  \n",
       "3  [0, 0, 0, 0, 0, 0, 0, 0, 0, 0, 0, 0, 0, 0, 0, ...               3  \n",
       "4  [0, 0, 0, 0, 0, 0, 0, 0, 0, 0, 0, 0, 0, 0, 0, ...               2  \n",
       "5  [0, 0, 0, 0, 0, 0, 0, 0, 0, 0, 0, 0, 0, 0, 0, ...               2  \n",
       "6  [0, 0, 0, 0, 0, 0, 0, 0, 0, 0, 0, 0, 0, 0, 0, ...               2  \n",
       "7  [0, 0, 0, 0, 0, 0, 0, 0, 0, 0, 0, 0, 0, 0, 0, ...               3  \n",
       "8  [0, 0, 0, 0, 0, 0, 0, 0, 0, 0, 0, 0, 0, 0, 0, ...               2  \n",
       "9  [0, 0, 0, 0, 0, 0, 0, 0, 0, 0, 0, 0, 0, 0, 0, ...               3  "
      ]
     },
     "execution_count": 26,
     "metadata": {},
     "output_type": "execute_result"
    }
   ],
   "source": [
    "df.head(10)"
   ]
  },
  {
   "cell_type": "code",
   "execution_count": 16,
   "metadata": {},
   "outputs": [],
   "source": [
    "li = {'the risk or severity of adverse effects can be increased when drug1 is combined with drug2.' : 0, \n",
    "      'the risk or severity of adverse effects can be increased when drug2 is combined with drug1.' : 1, \n",
    "      'the serum concentration of drug1 can be increased when it is combined with drug2.' : 2, \n",
    "      'the serum concentration of drug2 can be increased when it is combined with drug1.' : 3,\n",
    "      'the metabolism of drug1 can be decreased when combined with drug2.' : 4,\n",
    "      'the metabolism of drug2 can be decreased when combined with drug1.' : 5\n",
    "      }"
   ]
  },
  {
   "cell_type": "code",
   "execution_count": 17,
   "metadata": {},
   "outputs": [],
   "source": [
    "df['general_syntax#'] = 'None'"
   ]
  },
  {
   "cell_type": "code",
   "execution_count": 18,
   "metadata": {},
   "outputs": [],
   "source": [
    "for i in df.index:\n",
    "    general_syntax = df.at[i, 'general_syntax']\n",
    "    df.at[i, 'general_syntax#'] = li[general_syntax]\n",
    "    # print(df.at[i, 'general_syntax#'])"
   ]
  },
  {
   "cell_type": "code",
   "execution_count": 27,
   "metadata": {},
   "outputs": [],
   "source": [
    "# df.to_csv('fingerprint.csv')"
   ]
  },
  {
   "cell_type": "code",
   "execution_count": 28,
   "metadata": {},
   "outputs": [],
   "source": [
    "df = pd.read_csv('fingerprint.csv')"
   ]
  },
  {
   "cell_type": "code",
   "execution_count": 79,
   "metadata": {},
   "outputs": [
    {
     "data": {
      "text/html": [
       "<div>\n",
       "<style scoped>\n",
       "    .dataframe tbody tr th:only-of-type {\n",
       "        vertical-align: middle;\n",
       "    }\n",
       "\n",
       "    .dataframe tbody tr th {\n",
       "        vertical-align: top;\n",
       "    }\n",
       "\n",
       "    .dataframe thead th {\n",
       "        text-align: right;\n",
       "    }\n",
       "</style>\n",
       "<table border=\"1\" class=\"dataframe\">\n",
       "  <thead>\n",
       "    <tr style=\"text-align: right;\">\n",
       "      <th></th>\n",
       "      <th>Unnamed: 0.1</th>\n",
       "      <th>Unnamed: 0</th>\n",
       "      <th>drug1</th>\n",
       "      <th>db_no1</th>\n",
       "      <th>drug2</th>\n",
       "      <th>db_no2</th>\n",
       "      <th>general_syntax</th>\n",
       "      <th>smiles1</th>\n",
       "      <th>smiles2</th>\n",
       "      <th>fingerprint1</th>\n",
       "      <th>fingerprint2</th>\n",
       "      <th>combined_fingerprint</th>\n",
       "      <th>general_syntax#</th>\n",
       "    </tr>\n",
       "  </thead>\n",
       "  <tbody>\n",
       "    <tr>\n",
       "      <th>0</th>\n",
       "      <td>0</td>\n",
       "      <td>0</td>\n",
       "      <td>Pravastatin</td>\n",
       "      <td>DB00175</td>\n",
       "      <td>Acebutolol</td>\n",
       "      <td>DB01193</td>\n",
       "      <td>the serum concentration of drug2 can be increa...</td>\n",
       "      <td>[H][C@]12[C@H](C[C@H](O)C=C1C=C[C@H](C)[C@@H]2...</td>\n",
       "      <td>CCCC(=O)NC1=CC(C(C)=O)=C(OCC(O)CNC(C)C)C=C1</td>\n",
       "      <td>0000000000000000000000000010000000000000000000...</td>\n",
       "      <td>0000000000000000000000000000000000000000000000...</td>\n",
       "      <td>[0, 0, 0, 0, 0, 0, 0, 0, 0, 0, 0, 0, 0, 0, 0, ...</td>\n",
       "      <td>3</td>\n",
       "    </tr>\n",
       "    <tr>\n",
       "      <th>1</th>\n",
       "      <td>1</td>\n",
       "      <td>2</td>\n",
       "      <td>Pravastatin</td>\n",
       "      <td>DB00175</td>\n",
       "      <td>Acetaminophen</td>\n",
       "      <td>DB00316</td>\n",
       "      <td>the serum concentration of drug1 can be increa...</td>\n",
       "      <td>[H][C@]12[C@H](C[C@H](O)C=C1C=C[C@H](C)[C@@H]2...</td>\n",
       "      <td>CC(=O)NC1=CC=C(O)C=C1</td>\n",
       "      <td>0000000000000000000000000010000000000000000000...</td>\n",
       "      <td>0000000000000000000000000000000000000000000000...</td>\n",
       "      <td>[0, 0, 0, 0, 0, 0, 0, 0, 0, 0, 0, 0, 0, 0, 0, ...</td>\n",
       "      <td>2</td>\n",
       "    </tr>\n",
       "  </tbody>\n",
       "</table>\n",
       "</div>"
      ],
      "text/plain": [
       "   Unnamed: 0.1  Unnamed: 0        drug1   db_no1          drug2   db_no2  \\\n",
       "0             0           0  Pravastatin  DB00175     Acebutolol  DB01193   \n",
       "1             1           2  Pravastatin  DB00175  Acetaminophen  DB00316   \n",
       "\n",
       "                                      general_syntax  \\\n",
       "0  the serum concentration of drug2 can be increa...   \n",
       "1  the serum concentration of drug1 can be increa...   \n",
       "\n",
       "                                             smiles1  \\\n",
       "0  [H][C@]12[C@H](C[C@H](O)C=C1C=C[C@H](C)[C@@H]2...   \n",
       "1  [H][C@]12[C@H](C[C@H](O)C=C1C=C[C@H](C)[C@@H]2...   \n",
       "\n",
       "                                       smiles2  \\\n",
       "0  CCCC(=O)NC1=CC(C(C)=O)=C(OCC(O)CNC(C)C)C=C1   \n",
       "1                        CC(=O)NC1=CC=C(O)C=C1   \n",
       "\n",
       "                                        fingerprint1  \\\n",
       "0  0000000000000000000000000010000000000000000000...   \n",
       "1  0000000000000000000000000010000000000000000000...   \n",
       "\n",
       "                                        fingerprint2  \\\n",
       "0  0000000000000000000000000000000000000000000000...   \n",
       "1  0000000000000000000000000000000000000000000000...   \n",
       "\n",
       "                                combined_fingerprint  general_syntax#  \n",
       "0  [0, 0, 0, 0, 0, 0, 0, 0, 0, 0, 0, 0, 0, 0, 0, ...                3  \n",
       "1  [0, 0, 0, 0, 0, 0, 0, 0, 0, 0, 0, 0, 0, 0, 0, ...                2  "
      ]
     },
     "execution_count": 79,
     "metadata": {},
     "output_type": "execute_result"
    }
   ],
   "source": [
    "df.head(2)"
   ]
  },
  {
   "cell_type": "code",
   "execution_count": 21,
   "metadata": {},
   "outputs": [],
   "source": [
    "newdf = []"
   ]
  },
  {
   "cell_type": "code",
   "execution_count": 72,
   "metadata": {},
   "outputs": [],
   "source": [
    "npy_array_list = []\n",
    "gen_syntax_list = []\n",
    "for i in df.index:\n",
    "    npy_array_list.append(literal_eval(df.at[i, 'combined_fingerprint']))\n",
    "    gen_syntax_list.append(df.at[i, 'general_syntax#'])"
   ]
  },
  {
   "cell_type": "code",
   "execution_count": 55,
   "metadata": {},
   "outputs": [],
   "source": [
    "numpyArray = np.array(npy_array_list)"
   ]
  },
  {
   "cell_type": "code",
   "execution_count": 58,
   "metadata": {},
   "outputs": [
    {
     "data": {
      "text/plain": [
       "array([[0, 0, 0, ..., 3, 3, 0],\n",
       "       [0, 0, 0, ..., 3, 3, 0],\n",
       "       [0, 0, 0, ..., 3, 3, 0],\n",
       "       ...,\n",
       "       [0, 0, 0, ..., 2, 3, 0],\n",
       "       [0, 0, 0, ..., 2, 3, 0],\n",
       "       [0, 0, 0, ..., 2, 3, 0]])"
      ]
     },
     "execution_count": 58,
     "metadata": {},
     "output_type": "execute_result"
    }
   ],
   "source": [
    "numpyArray"
   ]
  },
  {
   "cell_type": "code",
   "execution_count": 65,
   "metadata": {},
   "outputs": [],
   "source": [
    "index = [str(i) for i in range(1, len(numpyArray) + 1)]\n",
    "columns = ['Feature_' + str(i) for i in range(1, len(numpyArray[0]) + 1)]"
   ]
  },
  {
   "cell_type": "code",
   "execution_count": 68,
   "metadata": {},
   "outputs": [],
   "source": [
    "new_df = pd.DataFrame(numpyArray , \n",
    "                      index = index,\n",
    "                      columns = columns)"
   ]
  },
  {
   "cell_type": "code",
   "execution_count": 77,
   "metadata": {},
   "outputs": [
    {
     "name": "stdout",
     "output_type": "stream",
     "text": [
      "<class 'pandas.core.frame.DataFrame'>\n",
      "Index: 28656 entries, 1 to 28656\n",
      "Columns: 168 entries, Feature_1 to general_syntax#\n",
      "dtypes: int32(167), int64(1)\n",
      "memory usage: 18.7+ MB\n"
     ]
    }
   ],
   "source": [
    "new_df.info()"
   ]
  },
  {
   "cell_type": "code",
   "execution_count": 78,
   "metadata": {},
   "outputs": [
    {
     "data": {
      "text/html": [
       "<div>\n",
       "<style scoped>\n",
       "    .dataframe tbody tr th:only-of-type {\n",
       "        vertical-align: middle;\n",
       "    }\n",
       "\n",
       "    .dataframe tbody tr th {\n",
       "        vertical-align: top;\n",
       "    }\n",
       "\n",
       "    .dataframe thead th {\n",
       "        text-align: right;\n",
       "    }\n",
       "</style>\n",
       "<table border=\"1\" class=\"dataframe\">\n",
       "  <thead>\n",
       "    <tr style=\"text-align: right;\">\n",
       "      <th></th>\n",
       "      <th>Feature_1</th>\n",
       "      <th>Feature_2</th>\n",
       "      <th>Feature_3</th>\n",
       "      <th>Feature_4</th>\n",
       "      <th>Feature_5</th>\n",
       "      <th>Feature_6</th>\n",
       "      <th>Feature_7</th>\n",
       "      <th>Feature_8</th>\n",
       "      <th>Feature_9</th>\n",
       "      <th>Feature_10</th>\n",
       "      <th>...</th>\n",
       "      <th>Feature_159</th>\n",
       "      <th>Feature_160</th>\n",
       "      <th>Feature_161</th>\n",
       "      <th>Feature_162</th>\n",
       "      <th>Feature_163</th>\n",
       "      <th>Feature_164</th>\n",
       "      <th>Feature_165</th>\n",
       "      <th>Feature_166</th>\n",
       "      <th>Feature_167</th>\n",
       "      <th>general_syntax#</th>\n",
       "    </tr>\n",
       "  </thead>\n",
       "  <tbody>\n",
       "    <tr>\n",
       "      <th>1</th>\n",
       "      <td>0</td>\n",
       "      <td>0</td>\n",
       "      <td>0</td>\n",
       "      <td>0</td>\n",
       "      <td>0</td>\n",
       "      <td>0</td>\n",
       "      <td>0</td>\n",
       "      <td>0</td>\n",
       "      <td>0</td>\n",
       "      <td>0</td>\n",
       "      <td>...</td>\n",
       "      <td>2</td>\n",
       "      <td>3</td>\n",
       "      <td>3</td>\n",
       "      <td>2</td>\n",
       "      <td>2</td>\n",
       "      <td>3</td>\n",
       "      <td>3</td>\n",
       "      <td>3</td>\n",
       "      <td>0</td>\n",
       "      <td>3</td>\n",
       "    </tr>\n",
       "    <tr>\n",
       "      <th>2</th>\n",
       "      <td>0</td>\n",
       "      <td>0</td>\n",
       "      <td>0</td>\n",
       "      <td>0</td>\n",
       "      <td>0</td>\n",
       "      <td>0</td>\n",
       "      <td>0</td>\n",
       "      <td>0</td>\n",
       "      <td>0</td>\n",
       "      <td>0</td>\n",
       "      <td>...</td>\n",
       "      <td>2</td>\n",
       "      <td>3</td>\n",
       "      <td>3</td>\n",
       "      <td>2</td>\n",
       "      <td>2</td>\n",
       "      <td>3</td>\n",
       "      <td>3</td>\n",
       "      <td>3</td>\n",
       "      <td>0</td>\n",
       "      <td>2</td>\n",
       "    </tr>\n",
       "  </tbody>\n",
       "</table>\n",
       "<p>2 rows × 168 columns</p>\n",
       "</div>"
      ],
      "text/plain": [
       "   Feature_1  Feature_2  Feature_3  Feature_4  Feature_5  Feature_6  \\\n",
       "1          0          0          0          0          0          0   \n",
       "2          0          0          0          0          0          0   \n",
       "\n",
       "   Feature_7  Feature_8  Feature_9  Feature_10  ...  Feature_159  Feature_160  \\\n",
       "1          0          0          0           0  ...            2            3   \n",
       "2          0          0          0           0  ...            2            3   \n",
       "\n",
       "   Feature_161  Feature_162  Feature_163  Feature_164  Feature_165  \\\n",
       "1            3            2            2            3            3   \n",
       "2            3            2            2            3            3   \n",
       "\n",
       "   Feature_166  Feature_167  general_syntax#  \n",
       "1            3            0                3  \n",
       "2            3            0                2  \n",
       "\n",
       "[2 rows x 168 columns]"
      ]
     },
     "execution_count": 78,
     "metadata": {},
     "output_type": "execute_result"
    }
   ],
   "source": [
    "new_df.head(2)"
   ]
  },
  {
   "cell_type": "code",
   "execution_count": 76,
   "metadata": {},
   "outputs": [],
   "source": [
    "new_df['general_syntax#'] = gen_syntax_list"
   ]
  },
  {
   "cell_type": "code",
   "execution_count": 80,
   "metadata": {},
   "outputs": [],
   "source": [
    "# new_df.to_csv('167_features.csv')"
   ]
  },
  {
   "cell_type": "code",
   "execution_count": 81,
   "metadata": {},
   "outputs": [],
   "source": [
    "new_df = pd.read_csv('167_features.csv')"
   ]
  },
  {
   "cell_type": "code",
   "execution_count": 82,
   "metadata": {},
   "outputs": [
    {
     "data": {
      "text/html": [
       "<div>\n",
       "<style scoped>\n",
       "    .dataframe tbody tr th:only-of-type {\n",
       "        vertical-align: middle;\n",
       "    }\n",
       "\n",
       "    .dataframe tbody tr th {\n",
       "        vertical-align: top;\n",
       "    }\n",
       "\n",
       "    .dataframe thead th {\n",
       "        text-align: right;\n",
       "    }\n",
       "</style>\n",
       "<table border=\"1\" class=\"dataframe\">\n",
       "  <thead>\n",
       "    <tr style=\"text-align: right;\">\n",
       "      <th></th>\n",
       "      <th>Unnamed: 0</th>\n",
       "      <th>Feature_1</th>\n",
       "      <th>Feature_2</th>\n",
       "      <th>Feature_3</th>\n",
       "      <th>Feature_4</th>\n",
       "      <th>Feature_5</th>\n",
       "      <th>Feature_6</th>\n",
       "      <th>Feature_7</th>\n",
       "      <th>Feature_8</th>\n",
       "      <th>Feature_9</th>\n",
       "      <th>...</th>\n",
       "      <th>Feature_159</th>\n",
       "      <th>Feature_160</th>\n",
       "      <th>Feature_161</th>\n",
       "      <th>Feature_162</th>\n",
       "      <th>Feature_163</th>\n",
       "      <th>Feature_164</th>\n",
       "      <th>Feature_165</th>\n",
       "      <th>Feature_166</th>\n",
       "      <th>Feature_167</th>\n",
       "      <th>general_syntax#</th>\n",
       "    </tr>\n",
       "  </thead>\n",
       "  <tbody>\n",
       "    <tr>\n",
       "      <th>0</th>\n",
       "      <td>1</td>\n",
       "      <td>0</td>\n",
       "      <td>0</td>\n",
       "      <td>0</td>\n",
       "      <td>0</td>\n",
       "      <td>0</td>\n",
       "      <td>0</td>\n",
       "      <td>0</td>\n",
       "      <td>0</td>\n",
       "      <td>0</td>\n",
       "      <td>...</td>\n",
       "      <td>2</td>\n",
       "      <td>3</td>\n",
       "      <td>3</td>\n",
       "      <td>2</td>\n",
       "      <td>2</td>\n",
       "      <td>3</td>\n",
       "      <td>3</td>\n",
       "      <td>3</td>\n",
       "      <td>0</td>\n",
       "      <td>3</td>\n",
       "    </tr>\n",
       "    <tr>\n",
       "      <th>1</th>\n",
       "      <td>2</td>\n",
       "      <td>0</td>\n",
       "      <td>0</td>\n",
       "      <td>0</td>\n",
       "      <td>0</td>\n",
       "      <td>0</td>\n",
       "      <td>0</td>\n",
       "      <td>0</td>\n",
       "      <td>0</td>\n",
       "      <td>0</td>\n",
       "      <td>...</td>\n",
       "      <td>2</td>\n",
       "      <td>3</td>\n",
       "      <td>3</td>\n",
       "      <td>2</td>\n",
       "      <td>2</td>\n",
       "      <td>3</td>\n",
       "      <td>3</td>\n",
       "      <td>3</td>\n",
       "      <td>0</td>\n",
       "      <td>2</td>\n",
       "    </tr>\n",
       "    <tr>\n",
       "      <th>2</th>\n",
       "      <td>3</td>\n",
       "      <td>0</td>\n",
       "      <td>0</td>\n",
       "      <td>0</td>\n",
       "      <td>0</td>\n",
       "      <td>0</td>\n",
       "      <td>0</td>\n",
       "      <td>0</td>\n",
       "      <td>0</td>\n",
       "      <td>0</td>\n",
       "      <td>...</td>\n",
       "      <td>0</td>\n",
       "      <td>3</td>\n",
       "      <td>3</td>\n",
       "      <td>0</td>\n",
       "      <td>2</td>\n",
       "      <td>3</td>\n",
       "      <td>3</td>\n",
       "      <td>3</td>\n",
       "      <td>0</td>\n",
       "      <td>3</td>\n",
       "    </tr>\n",
       "    <tr>\n",
       "      <th>3</th>\n",
       "      <td>4</td>\n",
       "      <td>0</td>\n",
       "      <td>0</td>\n",
       "      <td>0</td>\n",
       "      <td>0</td>\n",
       "      <td>0</td>\n",
       "      <td>0</td>\n",
       "      <td>0</td>\n",
       "      <td>0</td>\n",
       "      <td>0</td>\n",
       "      <td>...</td>\n",
       "      <td>2</td>\n",
       "      <td>3</td>\n",
       "      <td>3</td>\n",
       "      <td>2</td>\n",
       "      <td>2</td>\n",
       "      <td>3</td>\n",
       "      <td>3</td>\n",
       "      <td>3</td>\n",
       "      <td>0</td>\n",
       "      <td>3</td>\n",
       "    </tr>\n",
       "    <tr>\n",
       "      <th>4</th>\n",
       "      <td>5</td>\n",
       "      <td>0</td>\n",
       "      <td>0</td>\n",
       "      <td>0</td>\n",
       "      <td>0</td>\n",
       "      <td>0</td>\n",
       "      <td>0</td>\n",
       "      <td>0</td>\n",
       "      <td>0</td>\n",
       "      <td>0</td>\n",
       "      <td>...</td>\n",
       "      <td>2</td>\n",
       "      <td>3</td>\n",
       "      <td>3</td>\n",
       "      <td>2</td>\n",
       "      <td>2</td>\n",
       "      <td>3</td>\n",
       "      <td>3</td>\n",
       "      <td>3</td>\n",
       "      <td>0</td>\n",
       "      <td>2</td>\n",
       "    </tr>\n",
       "  </tbody>\n",
       "</table>\n",
       "<p>5 rows × 169 columns</p>\n",
       "</div>"
      ],
      "text/plain": [
       "   Unnamed: 0  Feature_1  Feature_2  Feature_3  Feature_4  Feature_5  \\\n",
       "0           1          0          0          0          0          0   \n",
       "1           2          0          0          0          0          0   \n",
       "2           3          0          0          0          0          0   \n",
       "3           4          0          0          0          0          0   \n",
       "4           5          0          0          0          0          0   \n",
       "\n",
       "   Feature_6  Feature_7  Feature_8  Feature_9  ...  Feature_159  Feature_160  \\\n",
       "0          0          0          0          0  ...            2            3   \n",
       "1          0          0          0          0  ...            2            3   \n",
       "2          0          0          0          0  ...            0            3   \n",
       "3          0          0          0          0  ...            2            3   \n",
       "4          0          0          0          0  ...            2            3   \n",
       "\n",
       "   Feature_161  Feature_162  Feature_163  Feature_164  Feature_165  \\\n",
       "0            3            2            2            3            3   \n",
       "1            3            2            2            3            3   \n",
       "2            3            0            2            3            3   \n",
       "3            3            2            2            3            3   \n",
       "4            3            2            2            3            3   \n",
       "\n",
       "   Feature_166  Feature_167  general_syntax#  \n",
       "0            3            0                3  \n",
       "1            3            0                2  \n",
       "2            3            0                3  \n",
       "3            3            0                3  \n",
       "4            3            0                2  \n",
       "\n",
       "[5 rows x 169 columns]"
      ]
     },
     "execution_count": 82,
     "metadata": {},
     "output_type": "execute_result"
    }
   ],
   "source": [
    "new_df.head()"
   ]
  }
 ],
 "metadata": {
  "interpreter": {
   "hash": "4c09afe4b8f7c8840abb6699dad2ef7b14e9a2421b65b531128f5c4abc996cd6"
  },
  "kernelspec": {
   "display_name": "Python 3.10.0 ('venv': venv)",
   "language": "python",
   "name": "python3"
  },
  "language_info": {
   "codemirror_mode": {
    "name": "ipython",
    "version": 3
   },
   "file_extension": ".py",
   "mimetype": "text/x-python",
   "name": "python",
   "nbconvert_exporter": "python",
   "pygments_lexer": "ipython3",
   "version": "3.10.0"
  },
  "orig_nbformat": 4
 },
 "nbformat": 4,
 "nbformat_minor": 2
}
